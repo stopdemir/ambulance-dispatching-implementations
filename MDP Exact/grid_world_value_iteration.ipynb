{
 "cells": [
  {
   "cell_type": "markdown",
   "id": "72e84fd5",
   "metadata": {
    "id": "72e84fd5"
   },
   "source": [
    "# RVI Implementation for Infinite-Horizon, Undiscounted, Average-Reward MDP"
   ]
  },
  {
   "cell_type": "markdown",
   "id": "88e79c4b",
   "metadata": {},
   "source": [
    "This implementation is for finding an optimal policy for an ambulance dispatching problem on a grid-world. An infinite-horizon, undiscounted, average reward MDP model is defined. An optimal policy and relative state values have been achieved at the end of the implementation."
   ]
  },
  {
   "cell_type": "markdown",
   "id": "5b0eee8e",
   "metadata": {
    "id": "5b0eee8e"
   },
   "source": [
    "## Setup"
   ]
  },
  {
   "cell_type": "markdown",
   "id": "7addfeff",
   "metadata": {
    "id": "7addfeff"
   },
   "source": [
    "### Libraries & Helper Class"
   ]
  },
  {
   "cell_type": "code",
   "execution_count": null,
   "id": "0addbbb1",
   "metadata": {
    "id": "0addbbb1"
   },
   "outputs": [],
   "source": [
    "from collections import defaultdict # this is a useful data structure for storing the transition probabilities and rewards for each state\n",
    "\n",
    "import numpy as np\n",
    "np.random.seed(30)\n",
    "\n",
    "import math\n",
    "import random\n",
    "\n",
    "import matplotlib.pyplot as plt\n",
    "import seaborn as sns"
   ]
  },
  {
   "cell_type": "code",
   "execution_count": null,
   "id": "pz0zV_sJNhO7",
   "metadata": {
    "colab": {
     "base_uri": "https://localhost:8080/"
    },
    "executionInfo": {
     "elapsed": 16613,
     "status": "ok",
     "timestamp": 1752786428574,
     "user": {
      "displayName": "Süleyman Topdemir",
      "userId": "16596065092214686472"
     },
     "user_tz": 240
    },
    "id": "pz0zV_sJNhO7",
    "outputId": "29194b6f-bba6-4dde-d185-fc2b0ed3f1e7"
   },
   "outputs": [],
   "source": [
    "# from google.colab import drive\n",
    "# drive.mount('/content/drive')\n",
    "# show gridworld_visual picture which in the path /content/drive/MyDrive/Average Reward MDP Policy Optimization/gridworld_visual.png\n",
    "# from IPython.display import Image\n",
    "# Image(filename='/content/drive/MyDrive/Average Reward MDP Policy Optimization/gridworld_visual.png', width=300)"
   ]
  },
  {
   "cell_type": "code",
   "execution_count": null,
   "id": "940a68d9",
   "metadata": {
    "id": "940a68d9"
   },
   "outputs": [],
   "source": [
    "from typing import Tuple\n",
    "\n",
    "class GridHelper:\n",
    "    def __init__(self, n: int):\n",
    "        self.n: int = n\n",
    "\n",
    "    def coord_to_index(self, x: int, y: int) -> int:\n",
    "        return x * self.n + y\n",
    "\n",
    "    def index_to_coord(self, index: int) -> Tuple[int, int]:\n",
    "        return divmod(index, self.n)\n",
    "\n",
    "    def manhattan_distance(self, a: int, b: int) -> int:\n",
    "        ax, ay = self.index_to_coord(a)\n",
    "        bx, by = self.index_to_coord(b)\n",
    "        return abs(ax - bx) + abs(ay - by)"
   ]
  },
  {
   "cell_type": "markdown",
   "id": "244bba71",
   "metadata": {
    "id": "244bba71"
   },
   "source": [
    "### States and Helpers"
   ]
  },
  {
   "cell_type": "code",
   "execution_count": null,
   "id": "5098bb93",
   "metadata": {
    "id": "5098bb93"
   },
   "outputs": [],
   "source": [
    "n = 5 # Size of the grid\n",
    "\n",
    "first_ambulance_index = 0\n",
    "last_ambulance_index = n**2 - 1\n",
    "\n",
    "states = [(a1, a2) for a1 in range(0, n**2 - 1) for a2 in range(0, n**2 - 1) if a1 != a2]\n",
    "states.append((0, 0))"
   ]
  },
  {
   "cell_type": "code",
   "execution_count": null,
   "id": "a7f2d893",
   "metadata": {
    "id": "a7f2d893",
    "outputId": "66ecbcf3-8703-440e-aaf3-57c7c1f9d698"
   },
   "outputs": [],
   "source": [
    "print(\"Total number of states:\", len(states))"
   ]
  },
  {
   "cell_type": "code",
   "execution_count": null,
   "id": "316ef617",
   "metadata": {
    "id": "316ef617"
   },
   "outputs": [],
   "source": [
    "# we need to map states to indices for easier access\n",
    "state2idx = {s: k for k, s in enumerate(states)}"
   ]
  },
  {
   "cell_type": "code",
   "execution_count": null,
   "id": "b08b1931",
   "metadata": {},
   "outputs": [],
   "source": [
    "state2idx"
   ]
  },
  {
   "cell_type": "code",
   "execution_count": null,
   "id": "a298e841",
   "metadata": {
    "id": "a298e841"
   },
   "outputs": [],
   "source": [
    "grid_helper = GridHelper(n)"
   ]
  },
  {
   "cell_type": "markdown",
   "id": "1e940474",
   "metadata": {
    "id": "1e940474"
   },
   "source": [
    "### Parameters"
   ]
  },
  {
   "cell_type": "markdown",
   "id": "75c911ff",
   "metadata": {},
   "source": [
    "#### Service Time and Arrival Rate"
   ]
  },
  {
   "cell_type": "code",
   "execution_count": null,
   "id": "0c230aa8",
   "metadata": {
    "id": "0c230aa8"
   },
   "outputs": [],
   "source": [
    "# define an np array to hold the expected service time for each patient location and ambulance spot\n",
    "expected_service_time = np.zeros((n**2, 2))  # in hours\n",
    "for j in range(0, 2):\n",
    "    for i in range(n**2):\n",
    "        if j == 0:\n",
    "            man_distance = grid_helper.manhattan_distance(i, 0)\n",
    "        else:\n",
    "            man_distance = grid_helper.manhattan_distance(i, n**2 - 1)\n",
    "        expected_service_time[i, j] = np.random.normal(man_distance*4,1,1)/60 #here we are just generating numbers by using normal dist.\n",
    "\n",
    "# edge cases. We won't use these pairs in the implementation\n",
    "expected_service_time[0,0] = 0\n",
    "expected_service_time[0,1] = 0\n",
    "expected_service_time[n**2-1,0] = 0\n",
    "expected_service_time[n**2-1,1] = 0"
   ]
  },
  {
   "cell_type": "code",
   "execution_count": null,
   "id": "2ee401a8",
   "metadata": {},
   "outputs": [],
   "source": [
    "expected_service_time*60 # in minutes"
   ]
  },
  {
   "cell_type": "code",
   "execution_count": null,
   "id": "e79cd893",
   "metadata": {},
   "outputs": [],
   "source": [
    "# probability of the service less than 10 minutes\n",
    "coverage_reward_prob_high = np.empty_like(expected_service_time)\n",
    "for i in range(expected_service_time.shape[0]):\n",
    "    for j in range(expected_service_time.shape[1]):\n",
    "        if expected_service_time[i, j] > 0:\n",
    "            coverage_reward_prob_high[i, j] = 1 - math.exp(-(1/expected_service_time[i, j]) * 1/6)\n",
    "        else:\n",
    "            coverage_reward_prob_high[i, j] = 0  # or np.nan if you prefer\n",
    "coverage_reward_prob_high"
   ]
  },
  {
   "cell_type": "code",
   "execution_count": null,
   "id": "35aa2561",
   "metadata": {},
   "outputs": [],
   "source": [
    "coverage_reward_prob_low = coverage_reward_prob_high/100 #highly low reward for low priority patients"
   ]
  },
  {
   "cell_type": "code",
   "execution_count": null,
   "id": "2a418be6",
   "metadata": {},
   "outputs": [],
   "source": [
    "# define an array with size 3 to keep the rewards for each ambulance, cell, and priority level\n",
    "# coverage_reward[patient_index, ambulance_index, priority_level]\n",
    "coverage_reward = np.zeros((n**2, 2, 2)) \n",
    "\n",
    "coverage_reward[:, 0, 0] = coverage_reward_prob_low[:, 0]  # all patients, first ambulance, low priority\n",
    "coverage_reward[:, 0, 1] = coverage_reward_prob_high[:, 0] # all patients, first ambulance, high priority\n",
    "\n",
    "coverage_reward[:, 1, 0] = coverage_reward_prob_low[:, 1] # all patients, second ambulance, low priority\n",
    "coverage_reward[:, 1, 1] = coverage_reward_prob_high[:, 1] # all patients, second ambulance, high priority"
   ]
  },
  {
   "cell_type": "code",
   "execution_count": null,
   "id": "726b10d4",
   "metadata": {
    "id": "726b10d4"
   },
   "outputs": [],
   "source": [
    "arr_rate = 5         # arrivals per hour"
   ]
  },
  {
   "cell_type": "markdown",
   "id": "b39d07c7",
   "metadata": {},
   "source": [
    "#### Probability of a Request from the Cells"
   ]
  },
  {
   "cell_type": "code",
   "execution_count": null,
   "id": "40a7c8dc",
   "metadata": {
    "id": "40a7c8dc"
   },
   "outputs": [],
   "source": [
    "P = np.zeros(n**2) # arrival-location pmf\n",
    "for i in range(n**2):\n",
    "    # The first and last indices are the hospitals, so we set their probabilities to 0.\n",
    "    # This means that the ambulance will never be dispatched to these locations.\n",
    "    if i == 0 or i == n**2 - 1:\n",
    "        P[i] = 0.0\n",
    "    else:\n",
    "        P[i] = np.random.uniform(0, 1)\n",
    "P /= np.sum(P)\n",
    "# round to 2 decimal points\n",
    "P = np.round(P, 4)"
   ]
  },
  {
   "cell_type": "code",
   "execution_count": null,
   "id": "1b5b7449",
   "metadata": {
    "id": "1b5b7449",
    "outputId": "affbae21-ce0c-4e40-e1e3-6db02231f45c"
   },
   "outputs": [],
   "source": [
    "P"
   ]
  },
  {
   "cell_type": "code",
   "execution_count": null,
   "id": "a781e036",
   "metadata": {},
   "outputs": [],
   "source": [
    "print(np.sum(P))  # should be 1.0"
   ]
  },
  {
   "cell_type": "code",
   "execution_count": null,
   "id": "b826614d",
   "metadata": {},
   "outputs": [],
   "source": [
    "# heatmap representation of the arrival probabilities\n",
    "plt.figure(figsize=(6, 4))\n",
    "sns.heatmap(P.reshape(n, n), annot=True, cmap='Blues', square=True, linewidths=0.5)  \n",
    "plt.title('Arrival Probabilities')\n",
    "plt.xticks(ticks=np.arange(n) + 0.5, labels=np.arange(n))\n",
    "plt.yticks(ticks=np.arange(n) + 0.5, labels=np.arange(n))\n",
    "plt.grid(False)\n",
    "plt.show()"
   ]
  },
  {
   "cell_type": "markdown",
   "id": "1374fd07",
   "metadata": {},
   "source": [
    "#### Conditional Probability Values for High and Low Priority Patients"
   ]
  },
  {
   "cell_type": "code",
   "execution_count": null,
   "id": "bdda6c71",
   "metadata": {},
   "outputs": [],
   "source": [
    "def assign_probabilities(size: int, low_range=(0.35, 0.60),  high_range=(0.50, 0.75)):\n",
    "    \n",
    "    probs = np.zeros((size, size), dtype=float)\n",
    "    max_idx = size - 1\n",
    "\n",
    "    for r in range(size):\n",
    "        for c in range(size):\n",
    "            # Skip the two corner cells – they stay at 0.\n",
    "            if (r == 0 and c == 0) or (r == max_idx and c == max_idx):\n",
    "                continue\n",
    "            \n",
    "            d_ul = r + c                          # distance to (0, 0)\n",
    "            d_lr = (max_idx - r) + (max_idx - c)  # distance to (max_idx, max_idx)\n",
    "\n",
    "            if d_ul < d_lr:                       # closer to upper-left\n",
    "                probs[r, c] = random.uniform(*high_range)\n",
    "            else:                                 # closer to lower-right\n",
    "                probs[r, c] = random.uniform(*low_range)\n",
    "    return probs\n"
   ]
  },
  {
   "cell_type": "code",
   "execution_count": null,
   "id": "afe88afc",
   "metadata": {},
   "outputs": [],
   "source": [
    "P_low = assign_probabilities(n)  # deterministic run\n",
    "P_high = np.zeros(n**2)\n",
    "P_high = 1 - P_low\n",
    "P_high[0, 0] = 0.0  # hospital at (0, 0) has no probability\n",
    "P_high[-1, -1] = 0.0  # hospital at (n"
   ]
  },
  {
   "cell_type": "code",
   "execution_count": null,
   "id": "10aef0e3",
   "metadata": {},
   "outputs": [],
   "source": [
    "# show P_low and P_high heatmaps side by side\n",
    "fig, axes = plt.subplots(1, 2, figsize=(9, 4))\n",
    "sns.heatmap(P_low.reshape(n, n),  annot=True, fmt=\".2f\", ax=axes[0], cmap=\"YlGnBu\")\n",
    "axes[0].set_title(\"P_low\")  \n",
    "sns.heatmap(P_high.reshape(n, n), annot=True, fmt=\".2f\", ax=axes[1], cmap=\"YlGnBu\")\n",
    "axes[1].set_title(\"P_high\")\n",
    "plt.tight_layout()\n",
    "plt.show()"
   ]
  },
  {
   "cell_type": "code",
   "execution_count": null,
   "id": "6db07c0c",
   "metadata": {},
   "outputs": [],
   "source": [
    "# combine P_low and P_high into two-dimensional array\n",
    "P_pri_combined = np.zeros((2, n**2))\n",
    "# assign P_low to first row and P_high to second row\n",
    "P_pri_combined[0, :] = P_low.flatten()\n",
    "P_pri_combined[1, :] = P_high.flatten()"
   ]
  },
  {
   "cell_type": "markdown",
   "id": "f778df9b",
   "metadata": {},
   "source": [
    "### Actions"
   ]
  },
  {
   "cell_type": "code",
   "execution_count": null,
   "id": "451fb0a6",
   "metadata": {},
   "outputs": [],
   "source": [
    "def actions(s):\n",
    "    idle_providers = []\n",
    "    if s[0] == 0:  idle_providers.append(0)   # provider at cell 0\n",
    "    if s[1] == 0:  idle_providers.append(1)   # here 1 indicated the second ambulance which is at cell n**2 - 1\n",
    "    return idle_providers if idle_providers else [None]   # None = null dispatch"
   ]
  },
  {
   "cell_type": "code",
   "execution_count": null,
   "id": "61f586c0",
   "metadata": {},
   "outputs": [],
   "source": [
    "def actions_alt(s):\n",
    "    idle_providers = []\n",
    "    #if s[0] == 0:  idle_providers.append(0)   # provider at cell 0\n",
    "    if s[1] == 0:  idle_providers.append(1)   # here 1 indicated the second ambulance which is at cell n**2 - 1\n",
    "    return idle_providers if idle_providers else [None]   # None = null dispatch"
   ]
  },
  {
   "cell_type": "markdown",
   "id": "ad1e9a87",
   "metadata": {
    "id": "ad1e9a87"
   },
   "source": [
    "### Event Rates"
   ]
  },
  {
   "cell_type": "code",
   "execution_count": null,
   "id": "93119305",
   "metadata": {},
   "outputs": [],
   "source": [
    "# probability of the service less than 10 minutes\n",
    "inversed_expected_service_time = np.empty_like(expected_service_time)\n",
    "for i in range(expected_service_time.shape[0]):\n",
    "    for j in range(expected_service_time.shape[1]):\n",
    "        if expected_service_time[i, j] > 0:\n",
    "            inversed_expected_service_time[i, j] = 1/expected_service_time[i, j]\n",
    "        else:\n",
    "            inversed_expected_service_time[i, j] = 0  # or np.nan \n",
    "inversed_expected_service_time"
   ]
  },
  {
   "cell_type": "code",
   "execution_count": null,
   "id": "21b83360",
   "metadata": {
    "id": "21b83360",
    "outputId": "7041b9cb-eae1-494e-f2a5-27d9cfef3637"
   },
   "outputs": [],
   "source": [
    "mu_max_0 = np.max(inversed_expected_service_time[:,0])\n",
    "mu_max_1 = np.max(inversed_expected_service_time[:,1])\n",
    "\n",
    "print(\"Maximum service time for ambulance 0:\", mu_max_0)\n",
    "print(\"Maximum service time for ambulance 1:\", mu_max_1)"
   ]
  },
  {
   "cell_type": "code",
   "execution_count": null,
   "id": "f0065397",
   "metadata": {
    "id": "f0065397",
    "outputId": "110acd5e-21bf-46fe-e276-17b9b021722d"
   },
   "outputs": [],
   "source": [
    "# this is needed for the normalization procedure. Here normalization is a process of transforming a continuous \n",
    "# Markov Decision Process (MDP) into a discrete one by scaling transition probabilities.\n",
    "gamma = arr_rate + (mu_max_0 + mu_max_1)\n",
    "gamma"
   ]
  },
  {
   "cell_type": "markdown",
   "id": "be6ff98a",
   "metadata": {
    "id": "be6ff98a"
   },
   "source": [
    "## Transitions"
   ]
  },
  {
   "cell_type": "code",
   "execution_count": null,
   "id": "720f06d3",
   "metadata": {
    "id": "720f06d3"
   },
   "outputs": [],
   "source": [
    "def transitions(s, a):\n",
    "    \n",
    "    # input:  (state s, action a)\n",
    "    # output: (next_state, prob, reward) !not one, all possible transitions starting from state s with an action a\n",
    "    \n",
    "    grid_size = n\n",
    "    state_info = defaultdict(lambda: {\"reward\": 0.0, \"prob\": 0.0})\n",
    "\n",
    "    # --- 1. Service completions ------------------------------------------\n",
    "    for p_idx, provider_cell in enumerate((0, 1)): # to understand these, you need to remember the state representation which is a\n",
    "        # tuple of two indices representing the ambulances' positions or 0 if the ambulance is idle. Also we have two ambulances which are\n",
    "        # represented by indices 0 and 1.\n",
    "        job = s[p_idx]\n",
    "        if job != 0:\n",
    "            rate   = inversed_expected_service_time[job, provider_cell]\n",
    "            prob   = rate / gamma\n",
    "            s_next = list(s)                # copy current state\n",
    "            s_next[p_idx] = 0               # provider becomes idle\n",
    "            state_info[tuple(s_next)][\"reward\"] += 0.0\n",
    "            state_info[tuple(s_next)][\"prob\"]   += prob\n",
    "\n",
    "    # --- 2. Customer arrival ---------------------------------------------\n",
    "    prob_arr = arr_rate / gamma\n",
    "    for i in range(grid_size**2):\n",
    "        for j in range(2): # this is for two priorities (low(0) and high(1))\n",
    "            if P[i] == 0:               # skip provider cells\n",
    "                continue\n",
    "            if a is None:               # both providers busy ⇒ null dispatch\n",
    "                # here, you may want to count total number of request that are not served\n",
    "                s_next = s             # state unchanged\n",
    "                state_info[s_next][\"reward\"] += 0.0\n",
    "                state_info[s_next][\"prob\"]   += prob_arr * P[i] * P_pri_combined[j, i]\n",
    "            else:         # dispatch chosen idle provider\n",
    "                p_idx = 0 if a == 0 else 1 # you can also use 'a' directly as an index since it is either 0 or 1\n",
    "                s_next = list(s)\n",
    "                s_next[p_idx] = i\n",
    "                if s_next[0] == s_next[1]:  # the states where both ambulances are at the same location are not allowed such as (1,1) or (5,5).(0,0) is allowed tho.\n",
    "                    s_next_no = s\n",
    "                    state_info[s_next_no][\"reward\"] += 0.0\n",
    "                    state_info[s_next_no][\"prob\"]   += prob_arr * P[i] * P_pri_combined[j, i]\n",
    "                else:\n",
    "                    state_info[tuple(s_next)][\"reward\"] += coverage_reward[i, a, j]\n",
    "                    state_info[tuple(s_next)][\"prob\"]   += prob_arr * P[i] * P_pri_combined[j, i]\n",
    "                             \n",
    "    # --- 3. Dummy self-loop ----------------------------------------------\n",
    "    total_prob = sum(s[\"prob\"] for s in state_info.values())\n",
    " \n",
    "    residual_prob = 1.0 - total_prob\n",
    "    \n",
    "    state_info[s][\"reward\"] += 0.0\n",
    "    state_info[s][\"prob\"] += residual_prob\n",
    "\n",
    "    # convert to list of tuples\n",
    "    return [(ns, info[\"prob\"], info[\"reward\"]) for ns, info in state_info.items()]"
   ]
  },
  {
   "cell_type": "markdown",
   "id": "fnzHqj8rZtsN",
   "metadata": {
    "id": "fnzHqj8rZtsN"
   },
   "source": [
    "## Relative Value Iteration"
   ]
  },
  {
   "cell_type": "code",
   "execution_count": null,
   "id": "3efb8561",
   "metadata": {
    "id": "3efb8561"
   },
   "outputs": [],
   "source": [
    "def rvi(eps=1e-12, max_iter=10000):\n",
    "    V = np.zeros(len(states))\n",
    "    # best action value for each state\n",
    "    \n",
    "    g = 0.0                             # bias estimate\n",
    "    #ref = 0                            # choose arbitrary reference state. ! this was changed\n",
    " \n",
    "    for it in range(max_iter):\n",
    "        V_new = np.empty_like(V) # this will create a new array with the same shape and dtype as V but its contents are uninitialized\n",
    "        g_num = 0.0\n",
    "\n",
    "        for k, s in enumerate(states):\n",
    "            best = -np.inf\n",
    "            for a in actions(s):\n",
    "                q = 0.0\n",
    "                for ns, p, r in transitions(s, a): # this was already defined above. It's quite critical to understand how the transitions work\n",
    "                    q += p * (r + V[state2idx[ns]])\n",
    "                best = max(best, q)\n",
    "            V_new[k] = best\n",
    "            g_num  += best\n",
    "\n",
    "        g_new = g_num / len(states)      # average over states\n",
    "        #V_new -= V_new[ref]             # anchor\n",
    "        V_new -= min(V_new)              # here we are choosing the state with minimum value as the reference one.\n",
    "        \n",
    "        if it % 100 == 0:\n",
    "            print(f\"Iteration {it}, g = {g:.4f}, max |V_new - V| = {np.max(np.abs(V_new - V)):.10f}\")\n",
    "            \n",
    "        if np.max(np.abs(V_new - V)) < eps:\n",
    "            return g_new, V_new\n",
    "\n",
    "        V, g = V_new, g_new\n",
    "\n",
    "    raise RuntimeError(\"RVI failed to converge\")"
   ]
  },
  {
   "cell_type": "code",
   "execution_count": null,
   "id": "46f94722",
   "metadata": {},
   "outputs": [],
   "source": [
    "final_average_reward, V = rvi()"
   ]
  },
  {
   "cell_type": "code",
   "execution_count": null,
   "id": "13c9e133",
   "metadata": {},
   "outputs": [],
   "source": [
    "#V"
   ]
  },
  {
   "cell_type": "code",
   "execution_count": null,
   "id": "73e3b259",
   "metadata": {},
   "outputs": [],
   "source": [
    "print(final_average_reward)"
   ]
  },
  {
   "cell_type": "markdown",
   "id": "a2b9b9ee",
   "metadata": {},
   "source": [
    "## Policy Generation"
   ]
  },
  {
   "cell_type": "markdown",
   "id": "be8046a8",
   "metadata": {},
   "source": [
    "In a scenario with only two ambulances, the state (0,0) is of particular interest, as it represents the case where both ambulances are idle. If only one ambulance is available when a patient request arrives, that ambulance must be dispatched immediately—regardless of the request's priority level—since no other resources are free to respond."
   ]
  },
  {
   "cell_type": "code",
   "execution_count": null,
   "id": "fb262946",
   "metadata": {},
   "outputs": [],
   "source": [
    "# I need to find the best actions for the state (0, 0) which is the initial state where both ambulances are idle\n",
    "# this is needed for each patient location and priority level\n",
    "\n",
    "def best_actions():\n",
    "    s = (0,0)\n",
    "    best_actions = {}\n",
    "    for i in range(n**2):\n",
    "        if P[i] == 0:\n",
    "            continue\n",
    "        else:\n",
    "            for pri in range(2):\n",
    "                best_action = None\n",
    "                best_value = -np.inf\n",
    "                for a in actions(s):\n",
    "                    s_next = s\n",
    "                    s_next = list(s_next)\n",
    "                    s_next[a] = i \n",
    "                    state_value = V[state2idx[tuple(s_next)]] # state value of the next state\n",
    "                    immediate_reward = coverage_reward[i, a, pri] # immediate reward\n",
    "                    value = state_value + immediate_reward\n",
    "                    #print(f\"State: {s}, Action: {a}, Next State: {s_next}, Priority: {pri}, Immediate: {immediate_reward}, StateValue: {state_value}, Total Value: {value}\")\n",
    "                    if value > best_value:\n",
    "                        best_value = value\n",
    "                        best_action = a\n",
    "                best_actions[(i, pri)] = best_action\n",
    "    return best_actions"
   ]
  },
  {
   "cell_type": "code",
   "execution_count": null,
   "id": "0d99e380",
   "metadata": {},
   "outputs": [],
   "source": [
    "all_best_actions = best_actions()"
   ]
  },
  {
   "cell_type": "code",
   "execution_count": null,
   "id": "30ea7358",
   "metadata": {},
   "outputs": [],
   "source": [
    "# for priority level 0 patients, show the best actions for each patient location on the grid \n",
    "best_action_grid_pri_0 = np.full((n, n), -1)\n",
    "for i in range(n**2):\n",
    "    if P[i] == 0:\n",
    "        continue\n",
    "    else:\n",
    "        action = all_best_actions[(i, 0)]\n",
    "        best_action_grid_pri_0[grid_helper.index_to_coord(i)] = action\n",
    "\n",
    "# for priority level 1 patients, show the best actions for each patient location on the grid \n",
    "best_action_grid_pri_1 = np.full((n, n), -1)\n",
    "for i in range(n**2):\n",
    "    if P[i] == 0:\n",
    "        continue\n",
    "    else:\n",
    "        action = all_best_actions[(i, 1)]\n",
    "        best_action_grid_pri_1[grid_helper.index_to_coord(i)] = action"
   ]
  },
  {
   "cell_type": "code",
   "execution_count": null,
   "id": "021e1e90",
   "metadata": {},
   "outputs": [],
   "source": [
    "# visualize best_action_grid_pri_0 and best_action_grid_pri_1 on a heatmap and plot them side by side\n",
    "fig, axes = plt.subplots(1, 2, figsize=(6, 3))\n",
    "sns.heatmap(best_action_grid_pri_0, annot=True, fmt=\".0f\", ax=axes[0], cmap=\"YlGnBu\", cbar=False, square=True)\n",
    "axes[0].set_title(\"Best Actions for Priority 0 Patients\")  \n",
    "sns.heatmap(best_action_grid_pri_1, annot=True, fmt=\".0f\", ax=axes[1], cmap=\"YlGnBu\", cbar=False, square=True)\n",
    "axes[1].set_title(\"Best Actions for Priority 1 Patients\")\n",
    "plt.tight_layout()\n",
    "plt.show()  "
   ]
  }
 ],
 "metadata": {
  "colab": {
   "provenance": []
  },
  "kernelspec": {
   "display_name": "ml_environment",
   "language": "python",
   "name": "python3"
  },
  "language_info": {
   "codemirror_mode": {
    "name": "ipython",
    "version": 3
   },
   "file_extension": ".py",
   "mimetype": "text/x-python",
   "name": "python",
   "nbconvert_exporter": "python",
   "pygments_lexer": "ipython3",
   "version": "3.8.19"
  }
 },
 "nbformat": 4,
 "nbformat_minor": 5
}

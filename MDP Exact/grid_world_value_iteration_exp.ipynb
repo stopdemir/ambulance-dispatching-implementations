{
 "cells": [
  {
   "cell_type": "markdown",
   "id": "72e84fd5",
   "metadata": {
    "id": "72e84fd5"
   },
   "source": [
    "# Average-Reward MDP Relative Value Iteration Implementation"
   ]
  },
  {
   "cell_type": "markdown",
   "id": "5b0eee8e",
   "metadata": {
    "id": "5b0eee8e"
   },
   "source": [
    "## Setup"
   ]
  },
  {
   "cell_type": "markdown",
   "id": "7addfeff",
   "metadata": {
    "id": "7addfeff"
   },
   "source": [
    "### Libraries & Helper Class"
   ]
  },
  {
   "cell_type": "code",
   "execution_count": 34,
   "id": "0addbbb1",
   "metadata": {
    "id": "0addbbb1"
   },
   "outputs": [],
   "source": [
    "from collections import defaultdict # this is a useful data structure for storing the transition probabilities and rewards for each state\n",
    "\n",
    "import numpy as np\n",
    "np.random.seed(40)\n",
    "\n",
    "import math\n",
    "import random\n",
    "\n",
    "import matplotlib.pyplot as plt\n",
    "import seaborn as sns"
   ]
  },
  {
   "cell_type": "code",
   "execution_count": null,
   "id": "pz0zV_sJNhO7",
   "metadata": {
    "colab": {
     "base_uri": "https://localhost:8080/"
    },
    "executionInfo": {
     "elapsed": 16613,
     "status": "ok",
     "timestamp": 1752786428574,
     "user": {
      "displayName": "Süleyman Topdemir",
      "userId": "16596065092214686472"
     },
     "user_tz": 240
    },
    "id": "pz0zV_sJNhO7",
    "outputId": "29194b6f-bba6-4dde-d185-fc2b0ed3f1e7"
   },
   "outputs": [],
   "source": [
    "################# this file was on google drive once #################\n",
    "# from google.colab import drive\n",
    "# drive.mount('/content/drive')\n",
    "# show gridworld_visual picture which in the path /content/drive/MyDrive/Average Reward MDP Policy Optimization/gridworld_visual.png\n",
    "# from IPython.display import Image\n",
    "# Image(filename='/content/drive/MyDrive/Average Reward MDP Policy Optimization/gridworld_visual.png', width=300)"
   ]
  },
  {
   "cell_type": "code",
   "execution_count": 35,
   "id": "940a68d9",
   "metadata": {
    "id": "940a68d9"
   },
   "outputs": [],
   "source": [
    "from typing import Tuple\n",
    "\n",
    "class GridHelper:\n",
    "    def __init__(self, n: int):\n",
    "        self.n: int = n\n",
    "\n",
    "    def coord_to_index(self, x: int, y: int) -> int:\n",
    "        return x * self.n + y\n",
    "\n",
    "    def index_to_coord(self, index: int) -> Tuple[int, int]:\n",
    "        return divmod(index, self.n)\n",
    "\n",
    "    def manhattan_distance(self, a: int, b: int) -> int:\n",
    "        ax, ay = self.index_to_coord(a)\n",
    "        bx, by = self.index_to_coord(b)\n",
    "        return abs(ax - bx) + abs(ay - by)"
   ]
  },
  {
   "cell_type": "markdown",
   "id": "244bba71",
   "metadata": {
    "id": "244bba71"
   },
   "source": [
    "### States and Helpers"
   ]
  },
  {
   "cell_type": "code",
   "execution_count": 36,
   "id": "5098bb93",
   "metadata": {
    "id": "5098bb93"
   },
   "outputs": [],
   "source": [
    "n = 4 # Size of the grid\n",
    "\n",
    "first_ambulance_index = 0\n",
    "last_ambulance_index = n**2 - 1\n",
    "\n",
    "states = [(a1, a2) for a1 in range(0, n**2 - 1) for a2 in range(0, n**2 - 1) if a1 != a2]\n",
    "states.append((0, 0))"
   ]
  },
  {
   "cell_type": "code",
   "execution_count": 37,
   "id": "a7f2d893",
   "metadata": {
    "id": "a7f2d893",
    "outputId": "66ecbcf3-8703-440e-aaf3-57c7c1f9d698"
   },
   "outputs": [
    {
     "name": "stdout",
     "output_type": "stream",
     "text": [
      "Total number of states: 211\n"
     ]
    }
   ],
   "source": [
    "print(\"Total number of states:\", len(states))"
   ]
  },
  {
   "cell_type": "code",
   "execution_count": 38,
   "id": "316ef617",
   "metadata": {
    "id": "316ef617"
   },
   "outputs": [],
   "source": [
    "# we need to map states to indices for easier access\n",
    "state2idx = {s: k for k, s in enumerate(states)}"
   ]
  },
  {
   "cell_type": "code",
   "execution_count": null,
   "id": "b08b1931",
   "metadata": {},
   "outputs": [],
   "source": [
    "state2idx"
   ]
  },
  {
   "cell_type": "code",
   "execution_count": 39,
   "id": "a298e841",
   "metadata": {
    "id": "a298e841"
   },
   "outputs": [],
   "source": [
    "grid_helper = GridHelper(n)"
   ]
  },
  {
   "cell_type": "markdown",
   "id": "1e940474",
   "metadata": {
    "id": "1e940474"
   },
   "source": [
    "### Parameters"
   ]
  },
  {
   "cell_type": "markdown",
   "id": "75c911ff",
   "metadata": {},
   "source": [
    "#### Service Time and Arrival Rate"
   ]
  },
  {
   "cell_type": "code",
   "execution_count": 40,
   "id": "0c230aa8",
   "metadata": {
    "id": "0c230aa8"
   },
   "outputs": [],
   "source": [
    "expected_service_time = np.zeros((n**2, 2))  # in hours\n",
    "\n",
    "for j in range(0, 2): # for each ambulance location (0 or 1)\n",
    "    for i in range(n**2):\n",
    "        if j == 0:\n",
    "            man_distance = grid_helper.manhattan_distance(i, 0)\n",
    "        else:\n",
    "            man_distance = grid_helper.manhattan_distance(i, n**2 - 1)\n",
    "        expected_service_time[i, j] = np.random.normal(man_distance*4,1,1)/60 #here we are just generating numbers by using normal dist.\n",
    "\n",
    "expected_service_time[0,0] = 0.001\n",
    "expected_service_time[0,1] = 0.001\n",
    "expected_service_time[n**2 - 1, 0] = 0.001\n",
    "expected_service_time[n**2 - 1, 1] = 0.001"
   ]
  },
  {
   "cell_type": "code",
   "execution_count": null,
   "id": "da79880d",
   "metadata": {},
   "outputs": [],
   "source": [
    "expected_service_time # in hours"
   ]
  },
  {
   "cell_type": "code",
   "execution_count": 41,
   "id": "2ee401a8",
   "metadata": {},
   "outputs": [
    {
     "data": {
      "text/plain": [
       "array([[ 0.06      ,  0.06      ],\n",
       "       [ 3.87386359, 20.49344349],\n",
       "       [ 7.31539364, 15.80099088],\n",
       "       [12.92871475, 10.72501639],\n",
       "       [ 2.15559897, 20.29349415],\n",
       "       [ 7.53299758, 16.10895031],\n",
       "       [14.29249034, 12.03172679],\n",
       "       [16.48881005,  9.27263986],\n",
       "       [ 8.71026699, 17.0714479 ],\n",
       "       [13.05553444, 12.41581801],\n",
       "       [16.0540731 ,  9.55067923],\n",
       "       [20.25795342,  3.68862108],\n",
       "       [12.58828165, 10.62076009],\n",
       "       [16.88524424,  9.37140879],\n",
       "       [18.98299298,  4.02771165],\n",
       "       [ 0.06      ,  0.06      ]])"
      ]
     },
     "execution_count": 41,
     "metadata": {},
     "output_type": "execute_result"
    }
   ],
   "source": [
    "expected_service_time*60 # in minutes"
   ]
  },
  {
   "cell_type": "code",
   "execution_count": 32,
   "id": "60f961d3",
   "metadata": {},
   "outputs": [
    {
     "data": {
      "image/png": "[encoded data removed]",
      "text/plain": [
       "<Figure size 900x400 with 4 Axes>"
      ]
     },
     "metadata": {},
     "output_type": "display_data"
    }
   ],
   "source": [
    "# transform expected service time values into a 4x4 grid for visualization\n",
    "expected_service_time_grid = np.zeros((n, n, 2))\n",
    "for i in range(n**2):\n",
    "    x, y = grid_helper.index_to_coord(i)\n",
    "    expected_service_time_grid[x, y, 0] = expected_service_time[i, 0]*60\n",
    "    expected_service_time_grid[x, y, 1] = expected_service_time[i, 1]*60\n",
    "\n",
    "# visualize the expected service time for each ambulance location side by side\n",
    "plt.figure(figsize=(9, 4))\n",
    "sns.heatmap(expected_service_time_grid[:, :, 0], annot=True, fmt=\".2f\", cmap=\"YlGnBu\", ax=plt.subplot(1, 2, 1))\n",
    "plt.title('Service Time Means for Amb (0, 0)')\n",
    "plt.xlabel('Grid Column')\n",
    "plt.ylabel('Grid Row') \n",
    "plt.subplot(1, 2, 2)\n",
    "sns.heatmap(expected_service_time_grid[:, :, 1], annot=True, fmt=\".2f\", cmap=\"YlGnBu\", cbar_kws={'label': 'Expected Service Time (min)'})\n",
    "plt.title('Service Time Means for Amb (3, 3)')\n",
    "plt.xlabel('Grid Column')\n",
    "plt.tight_layout()\n",
    "plt.show()\n"
   ]
  },
  {
   "cell_type": "code",
   "execution_count": 42,
   "id": "e79cd893",
   "metadata": {},
   "outputs": [
    {
     "data": {
      "text/plain": [
       "array([[1.        , 1.        ],\n",
       "       [0.92433217, 0.38612315],\n",
       "       [0.74512459, 0.46893545],\n",
       "       [0.53859177, 0.60639189],\n",
       "       [0.99033343, 0.38906748],\n",
       "       [0.73485881, 0.46247119],\n",
       "       [0.50324987, 0.56444574],\n",
       "       [0.45472875, 0.65987482],\n",
       "       [0.68275167, 0.44332483],\n",
       "       [0.53511196, 0.55310168],\n",
       "       [0.4636106 , 0.64902699],\n",
       "       [0.38959541, 0.93353237],\n",
       "       [0.54814303, 0.60997803],\n",
       "       [0.44690918, 0.65598686],\n",
       "       [0.40950099, 0.91649088],\n",
       "       [1.        , 1.        ]])"
      ]
     },
     "execution_count": 42,
     "metadata": {},
     "output_type": "execute_result"
    }
   ],
   "source": [
    "# probability of the service less than 10 minutes\n",
    "coverage_reward_prob_high = np.vectorize(lambda x: 1 - math.exp(-(1/x) * 1/6))(expected_service_time) \n",
    "coverage_reward_prob_high"
   ]
  },
  {
   "cell_type": "code",
   "execution_count": 46,
   "id": "56f3d650",
   "metadata": {},
   "outputs": [],
   "source": [
    "coverage_reward_prob_high[0,0] = 0\n",
    "coverage_reward_prob_high[0,1] = 0\n",
    "coverage_reward_prob_high[n**2-1,0] = 0\n",
    "coverage_reward_prob_high[n**2-1,1] = 0"
   ]
  },
  {
   "cell_type": "code",
   "execution_count": 10,
   "id": "35aa2561",
   "metadata": {},
   "outputs": [
    {
     "data": {
      "text/plain": [
       "array([[0.002     , 0.002     ],\n",
       "       [0.00184866, 0.00077225],\n",
       "       [0.00149025, 0.00093787],\n",
       "       [0.00107718, 0.00121278],\n",
       "       [0.00198067, 0.00077813],\n",
       "       [0.00146972, 0.00092494],\n",
       "       [0.0010065 , 0.00112889],\n",
       "       [0.00090946, 0.00131975],\n",
       "       [0.0013655 , 0.00088665],\n",
       "       [0.00107022, 0.0011062 ],\n",
       "       [0.00092722, 0.00129805],\n",
       "       [0.00077919, 0.00186706],\n",
       "       [0.00109629, 0.00121996],\n",
       "       [0.00089382, 0.00131197],\n",
       "       [0.000819  , 0.00183298],\n",
       "       [0.002     , 0.002     ]])"
      ]
     },
     "execution_count": 10,
     "metadata": {},
     "output_type": "execute_result"
    }
   ],
   "source": [
    "coverage_reward_prob_low = coverage_reward_prob_high/500 #highly low reward for low priority patients\n",
    "coverage_reward_prob_low"
   ]
  },
  {
   "cell_type": "code",
   "execution_count": 49,
   "id": "312997e0",
   "metadata": {},
   "outputs": [
    {
     "data": {
      "image/png": "[encoded data removed]",
      "text/plain": [
       "<Figure size 900x400 with 4 Axes>"
      ]
     },
     "metadata": {},
     "output_type": "display_data"
    }
   ],
   "source": [
    "# transform reward values into a 4x4 grid for visualization\n",
    "coverage_reward_high_grid = np.zeros((n, n, 2))\n",
    "for i in range(n**2):\n",
    "    x, y = grid_helper.index_to_coord(i)\n",
    "    coverage_reward_high_grid[x, y, 0] = coverage_reward_prob_high[i, 0]\n",
    "    coverage_reward_high_grid[x, y, 1] = coverage_reward_prob_high[i, 1]\n",
    "\n",
    "# visualize the expected service time for each ambulance location side by side\n",
    "plt.figure(figsize=(9, 4))\n",
    "sns.heatmap(coverage_reward_high_grid[:, :, 0], annot=True, fmt=\".3f\", cmap=\"YlGnBu\", ax=plt.subplot(1, 2, 1))\n",
    "plt.title('Reward for High Priority for Amb (0, 0)')\n",
    "plt.xlabel('Grid Column')\n",
    "plt.ylabel('Grid Row') \n",
    "plt.subplot(1, 2, 2)\n",
    "sns.heatmap(coverage_reward_high_grid[:, :, 1], annot=True, fmt=\".3f\", cmap=\"YlGnBu\", cbar_kws={'label': 'Probabilities'})\n",
    "plt.title('Reward for High Priority for Amb (3, 3)')\n",
    "plt.xlabel('Grid Column')\n",
    "plt.tight_layout()\n",
    "plt.show()"
   ]
  },
  {
   "cell_type": "code",
   "execution_count": 11,
   "id": "2a418be6",
   "metadata": {},
   "outputs": [],
   "source": [
    "# define an array with size 3 to keep the rewards for each ambulance, cell, and priority level\n",
    "# coverage_reward[patient_index, ambulance_index, priority_level]\n",
    "coverage_reward = np.zeros((n**2, 2, 2)) \n",
    "\n",
    "coverage_reward[:, 0, 0] = coverage_reward_prob_low[:, 0]  # all patients, first ambulance, low priority\n",
    "coverage_reward[:, 0, 1] = coverage_reward_prob_high[:, 0] # all patients, first ambulance, high priority\n",
    "\n",
    "coverage_reward[:, 1, 0] = coverage_reward_prob_low[:, 1] # all patients, second ambulance, low priority\n",
    "coverage_reward[:, 1, 1] = coverage_reward_prob_high[:, 1] # all patients, second ambulance, high priority"
   ]
  },
  {
   "cell_type": "code",
   "execution_count": 12,
   "id": "726b10d4",
   "metadata": {
    "id": "726b10d4"
   },
   "outputs": [],
   "source": [
    "arr_rate = 0.2          # arrivals per hour"
   ]
  },
  {
   "cell_type": "markdown",
   "id": "b39d07c7",
   "metadata": {},
   "source": [
    "#### Probability of a Request from the Cells"
   ]
  },
  {
   "cell_type": "code",
   "execution_count": 13,
   "id": "40a7c8dc",
   "metadata": {
    "id": "40a7c8dc"
   },
   "outputs": [],
   "source": [
    "P = np.zeros(n**2) # arrival-location pmf\n",
    "for i in range(n**2):\n",
    "    # The first and last indices are the hospitals, so we set their probabilities to 0.\n",
    "    # This means that the ambulance will never be dispatched to these locations.\n",
    "    if i == 0 or i == n**2 - 1:\n",
    "        P[i] = 0.0\n",
    "    else:\n",
    "        P[i] = np.random.uniform(0, 1)\n",
    "P /= np.sum(P)\n",
    "# round to 2 decimal points\n",
    "P = np.round(P, 4)"
   ]
  },
  {
   "cell_type": "code",
   "execution_count": 14,
   "id": "1b5b7449",
   "metadata": {
    "id": "1b5b7449",
    "outputId": "affbae21-ce0c-4e40-e1e3-6db02231f45c"
   },
   "outputs": [
    {
     "data": {
      "text/plain": [
       "array([0.    , 0.057 , 0.026 , 0.0983, 0.0336, 0.0715, 0.043 , 0.0066,\n",
       "       0.1018, 0.1653, 0.0321, 0.1259, 0.129 , 0.0056, 0.1044, 0.    ])"
      ]
     },
     "execution_count": 14,
     "metadata": {},
     "output_type": "execute_result"
    }
   ],
   "source": [
    "P"
   ]
  },
  {
   "cell_type": "code",
   "execution_count": 15,
   "id": "a781e036",
   "metadata": {},
   "outputs": [
    {
     "name": "stdout",
     "output_type": "stream",
     "text": [
      "1.0001\n"
     ]
    }
   ],
   "source": [
    "print(np.sum(P))  # should be 1.0"
   ]
  },
  {
   "cell_type": "code",
   "execution_count": null,
   "id": "b826614d",
   "metadata": {},
   "outputs": [],
   "source": [
    "# heatmap representation of the arrival probabilities\n",
    "plt.figure(figsize=(6, 4))\n",
    "sns.heatmap(P.reshape(n, n), annot=True, cmap='Blues', square=True, linewidths=0.5)  \n",
    "plt.title('Arrival Probabilities')\n",
    "plt.xticks(ticks=np.arange(n) + 0.5, labels=np.arange(n))\n",
    "plt.yticks(ticks=np.arange(n) + 0.5, labels=np.arange(n))\n",
    "plt.grid(False)\n",
    "plt.show()"
   ]
  },
  {
   "cell_type": "markdown",
   "id": "1374fd07",
   "metadata": {},
   "source": [
    "#### Conditional Probability Values for High and Low Priority Patients"
   ]
  },
  {
   "cell_type": "code",
   "execution_count": 16,
   "id": "bdda6c71",
   "metadata": {},
   "outputs": [],
   "source": [
    "def assign_probabilities(size: int, low_range=(0.40, 0.60),  high_range=(0.40, 0.60)):\n",
    "    \n",
    "    probs = np.zeros((size, size), dtype=float)\n",
    "    max_idx = size - 1\n",
    "\n",
    "    for r in range(size):\n",
    "        for c in range(size):\n",
    "            # Skip the two corner cells – they stay at 0.\n",
    "            if (r == 0 and c == 0) or (r == max_idx and c == max_idx):\n",
    "                continue\n",
    "            \n",
    "            d_ul = r + c                          # distance to (0, 0)\n",
    "            d_lr = (max_idx - r) + (max_idx - c)  # distance to (max_idx, max_idx)\n",
    "\n",
    "            if d_ul < d_lr:                       # closer to upper-left\n",
    "                probs[r, c] = random.uniform(*high_range)\n",
    "            else:                                 # closer to lower-right\n",
    "                probs[r, c] = random.uniform(*low_range)\n",
    "\n",
    "    return probs\n"
   ]
  },
  {
   "cell_type": "code",
   "execution_count": 17,
   "id": "afe88afc",
   "metadata": {},
   "outputs": [],
   "source": [
    "P_low = assign_probabilities(n)  # deterministic run\n",
    "P_high = np.zeros(n**2)\n",
    "P_high = 1 - P_low\n",
    "P_high[0, 0] = 0.0  # hospital at (0, 0) has no probability\n",
    "P_high[-1, -1] = 0.0  # hospital at (n"
   ]
  },
  {
   "cell_type": "code",
   "execution_count": 18,
   "id": "10aef0e3",
   "metadata": {},
   "outputs": [
    {
     "data": {
      "image/png": "[encoded data removed]",
      "text/plain": [
       "<Figure size 800x400 with 4 Axes>"
      ]
     },
     "metadata": {},
     "output_type": "display_data"
    }
   ],
   "source": [
    "# show P_low and P_high heatmaps side by side\n",
    "fig, axes = plt.subplots(1, 2, figsize=(8, 4))\n",
    "sns.heatmap(P_low.reshape(n, n),  annot=True, fmt=\".2f\", ax=axes[0], cmap=\"YlGnBu\")\n",
    "axes[0].set_title(\"P_low\")  \n",
    "sns.heatmap(P_high.reshape(n, n), annot=True, fmt=\".2f\", ax=axes[1], cmap=\"YlGnBu\")\n",
    "axes[1].set_title(\"P_high\")\n",
    "plt.tight_layout()\n",
    "plt.show()"
   ]
  },
  {
   "cell_type": "code",
   "execution_count": 19,
   "id": "6db07c0c",
   "metadata": {},
   "outputs": [],
   "source": [
    "# combine P_low and P_high into two-dimensional array\n",
    "P_pri_combined = np.zeros((2, n**2))\n",
    "# assign P_low to first row and P_high to second row\n",
    "P_pri_combined[0, :] = P_low.flatten()\n",
    "P_pri_combined[1, :] = P_high.flatten()"
   ]
  },
  {
   "cell_type": "markdown",
   "id": "f778df9b",
   "metadata": {},
   "source": [
    "### Actions"
   ]
  },
  {
   "cell_type": "code",
   "execution_count": 20,
   "id": "451fb0a6",
   "metadata": {},
   "outputs": [],
   "source": [
    "def actions(s):\n",
    "    idle_providers = []\n",
    "    if s[0] == 0:  idle_providers.append(0)   # provider at cell 0\n",
    "    if s[1] == 0:  idle_providers.append(1)   # here 1 indicated the second ambulance which is at cell n**2 - 1\n",
    "    return idle_providers if idle_providers else [None]   # None = null dispatch"
   ]
  },
  {
   "cell_type": "markdown",
   "id": "ad1e9a87",
   "metadata": {
    "id": "ad1e9a87"
   },
   "source": [
    "### Event Rates"
   ]
  },
  {
   "cell_type": "code",
   "execution_count": 21,
   "id": "21b83360",
   "metadata": {
    "id": "21b83360",
    "outputId": "7041b9cb-eae1-494e-f2a5-27d9cfef3637"
   },
   "outputs": [
    {
     "name": "stdout",
     "output_type": "stream",
     "text": [
      "Maximum service time for ambulance 0: 0.3376325569390329\n",
      "Maximum service time for ambulance 1: 0.3415573915738028\n"
     ]
    }
   ],
   "source": [
    "mu_max_0 = np.max(expected_service_time[:,0])\n",
    "mu_max_1 = np.max(expected_service_time[:,1])\n",
    "\n",
    "print(\"Maximum service time for ambulance 0:\", mu_max_0)\n",
    "print(\"Maximum service time for ambulance 1:\", mu_max_1)"
   ]
  },
  {
   "cell_type": "code",
   "execution_count": 22,
   "id": "f0065397",
   "metadata": {
    "id": "f0065397",
    "outputId": "110acd5e-21bf-46fe-e276-17b9b021722d"
   },
   "outputs": [
    {
     "data": {
      "text/plain": [
       "1.6723421661195292"
      ]
     },
     "execution_count": 22,
     "metadata": {},
     "output_type": "execute_result"
    }
   ],
   "source": [
    "# this is needed for the normalization procedure. Here normalization is a process of transforming a continuous \n",
    "# Markov Decision Process (MDP) into a discrete one by scaling transition probabilities.\n",
    "gamma = arr_rate + (1/(mu_max_0 + mu_max_1))\n",
    "gamma"
   ]
  },
  {
   "cell_type": "markdown",
   "id": "be6ff98a",
   "metadata": {
    "id": "be6ff98a"
   },
   "source": [
    "## Transitions"
   ]
  },
  {
   "cell_type": "code",
   "execution_count": 23,
   "id": "720f06d3",
   "metadata": {
    "id": "720f06d3"
   },
   "outputs": [],
   "source": [
    "def transitions(s, a):\n",
    "    \n",
    "    # input:  (state s, action a)\n",
    "    # output: (next_state, prob, reward) !not one, all possible transitions starting from state s with an action a\n",
    "    \n",
    "    \n",
    "    grid_size = n\n",
    "    state_info = defaultdict(lambda: {\"reward\": 0.0, \"prob\": 0.0})\n",
    "\n",
    "    # --- 1. Service completions ------------------------------------------\n",
    "    for p_idx, provider_cell in enumerate((0, 1)): # to understand these, you need to remember the state representation which is a\n",
    "        # tuple of two indices representing the ambulances' positions or 0 if the ambulance is idle. Also we have two ambulances which are\n",
    "        # represented by indices 0 and 1.\n",
    "        job = s[p_idx]\n",
    "        if job != 0:\n",
    "            rate   = expected_service_time[job, provider_cell]\n",
    "            prob   = rate / gamma\n",
    "            s_next = list(s)                # copy current state\n",
    "            s_next[p_idx] = 0               # provider becomes idle\n",
    "            state_info[tuple(s_next)][\"reward\"] += 0.0\n",
    "            state_info[tuple(s_next)][\"prob\"]   += prob\n",
    "\n",
    "    # --- 2. Customer arrival ---------------------------------------------\n",
    "    prob_arr = arr_rate / gamma\n",
    "    for i in range(grid_size**2):\n",
    "        for j in range(2): # this is for two priorities (low(0) and high(1))\n",
    "            if P[i] == 0:               # skip provider cells\n",
    "                continue\n",
    "            if a is None:               # both providers busy ⇒ null dispatch\n",
    "                # here, you may want to count total number of request that are not served\n",
    "                s_next = s             # state unchanged\n",
    "                state_info[s_next][\"reward\"] += 0.0\n",
    "                state_info[s_next][\"prob\"]   += prob_arr * P[i] * P_pri_combined[j, i]\n",
    "            else:         # dispatch chosen idle provider\n",
    "                p_idx = 0 if a == 0 else 1 # you can also use 'a' directly as an index since it is either 0 or 1\n",
    "                s_next = list(s)\n",
    "                s_next[p_idx] = i\n",
    "                if s_next[0] == s_next[1]:  # the states where both ambulances are at the same location are not allowed such as (1,1) or (5,5).(0,0) is allowed tho.\n",
    "                    s_next_no = s\n",
    "                    state_info[s_next_no][\"reward\"] += 0.0\n",
    "                    state_info[s_next_no][\"prob\"]   += prob_arr * P[i] * P_pri_combined[j, i]\n",
    "                else:\n",
    "                    state_info[tuple(s_next)][\"reward\"] += coverage_reward[i, a, j]\n",
    "                    state_info[tuple(s_next)][\"prob\"]   += prob_arr * P[i] * P_pri_combined[j, i]\n",
    "                             \n",
    "    # --- 3. Dummy self-loop ----------------------------------------------\n",
    "    total_prob = sum(s[\"prob\"] for s in state_info.values())\n",
    " \n",
    "    residual_prob = 1.0 - total_prob\n",
    "    \n",
    "    state_info[s][\"reward\"] += 0.0\n",
    "    state_info[s][\"prob\"] += residual_prob\n",
    "\n",
    "    # convert to list of tuples\n",
    "    return [(ns, info[\"prob\"], info[\"reward\"]) for ns, info in state_info.items()]"
   ]
  },
  {
   "cell_type": "code",
   "execution_count": 24,
   "id": "1050f130",
   "metadata": {},
   "outputs": [
    {
     "data": {
      "text/plain": [
       "[((0, 1), 0.006816786798154079, 0.38689539715384774),\n",
       " ((0, 2), 0.0031094115219650175, 0.4698733211613921),\n",
       " ((0, 3), 0.011755967408044667, 0.6076046729631694),\n",
       " ((0, 4), 0.0040183164283855615, 0.3898456116718354),\n",
       " ((0, 5), 0.0085508816854038, 0.46339612803608504),\n",
       " ((0, 6), 0.005142488286326761, 0.5655746297754174),\n",
       " ((0, 7), 0.0007893121555757354, 0.6611945648194371),\n",
       " ((0, 8), 0.012174542036001493, 0.44421148438247393),\n",
       " ((0, 9), 0.019768681714646828, 0.5542078808432699),\n",
       " ((0, 10), 0.0038389273021183492, 0.6503250425739698),\n",
       " ((0, 11), 0.015056727331361378, 0.9353994329197284),\n",
       " ((0, 12), 0.015427464858980283, 0.6111979817529221),\n",
       " ((0, 13), 0.000669719404730927, 0.6572988333249129),\n",
       " ((0, 14), 0.012485483188197996, 0.9183238575912769),\n",
       " ((0, 0), 0.8803952898801072, 0.0)]"
      ]
     },
     "execution_count": 24,
     "metadata": {},
     "output_type": "execute_result"
    }
   ],
   "source": [
    "gh = transitions((0, 0), 1)  # test transitions function with state (0, 0) and action 0\n",
    "gh"
   ]
  },
  {
   "cell_type": "code",
   "execution_count": null,
   "id": "79b5db6c",
   "metadata": {},
   "outputs": [],
   "source": [
    "gh = transitions((0, 7), 0)  # test transitions function with state (0, 0) and action 0\n",
    "gh"
   ]
  },
  {
   "cell_type": "markdown",
   "id": "fnzHqj8rZtsN",
   "metadata": {
    "id": "fnzHqj8rZtsN"
   },
   "source": [
    "## Relative Value Iteration"
   ]
  },
  {
   "cell_type": "code",
   "execution_count": 25,
   "id": "3efb8561",
   "metadata": {
    "id": "3efb8561"
   },
   "outputs": [],
   "source": [
    "def rvi(eps=1e-8, max_iter=10000):\n",
    "    V = np.zeros(len(states))\n",
    "    # best action value for each state\n",
    "    \n",
    "    g = 0.0                             # bias estimate\n",
    "    ref = 0                             # choose arbitrary reference state\n",
    " \n",
    "    for it in range(max_iter):\n",
    "        V_new = np.empty_like(V) # this will create a new array with the same shape and dtype as V but its contents are uninitialized\n",
    "        g_num = 0.0\n",
    "\n",
    "        for k, s in enumerate(states):\n",
    "            best = -np.inf\n",
    "            for a in actions(s):\n",
    "                q = 0.0\n",
    "                for ns, p, r in transitions(s, a): # this was already defined above. It's quite critical to understand how the transitions work\n",
    "                    q += p * (r + V[state2idx[ns]])\n",
    "                best = max(best, q)\n",
    "            V_new[k] = best\n",
    "            g_num  += best\n",
    "\n",
    "        g_new = g_num / len(states)     # average over states\n",
    "        V_new -= V_new[ref]             # anchor\n",
    "        \n",
    "        if it % 100 == 0:\n",
    "            print(f\"Iteration {it}, g = {g:.4f}, max |V_new - V| = {np.max(np.abs(V_new - V)):.10f}\")\n",
    "            \n",
    "        if np.max(np.abs(V_new - V)) < eps:\n",
    "            return g_new, V_new\n",
    "\n",
    "        V, g = V_new, g_new\n",
    "\n",
    "    raise RuntimeError(\"RVI failed to converge\")"
   ]
  },
  {
   "cell_type": "code",
   "execution_count": 26,
   "id": "46f94722",
   "metadata": {},
   "outputs": [
    {
     "name": "stdout",
     "output_type": "stream",
     "text": [
      "Iteration 0, g = 0.0000, max |V_new - V| = 0.0623881619\n",
      "Iteration 100, g = -0.2961, max |V_new - V| = 0.0021158288\n",
      "Iteration 200, g = -0.3011, max |V_new - V| = 0.0001924341\n",
      "Iteration 300, g = -0.3015, max |V_new - V| = 0.0000192068\n",
      "Iteration 400, g = -0.3015, max |V_new - V| = 0.0000019398\n",
      "Iteration 500, g = -0.3015, max |V_new - V| = 0.0000001963\n",
      "Iteration 600, g = -0.3015, max |V_new - V| = 0.0000000199\n"
     ]
    }
   ],
   "source": [
    "final_average_reward, V = rvi()"
   ]
  },
  {
   "cell_type": "code",
   "execution_count": null,
   "id": "13c9e133",
   "metadata": {},
   "outputs": [],
   "source": [
    "#V"
   ]
  },
  {
   "cell_type": "markdown",
   "id": "a2b9b9ee",
   "metadata": {},
   "source": [
    "## Policy Generation"
   ]
  },
  {
   "cell_type": "markdown",
   "id": "be8046a8",
   "metadata": {},
   "source": [
    "In a scenario with only two ambulances, the state (0,0) is of particular interest, as it represents the case where both ambulances are idle. If only one ambulance is available when a patient request arrives, that ambulance must be dispatched immediately—regardless of the request's priority level—since no other resources are free to respond."
   ]
  },
  {
   "cell_type": "code",
   "execution_count": 27,
   "id": "fb262946",
   "metadata": {},
   "outputs": [],
   "source": [
    "# I need to find the best actions for the state (0, 0) which is the initial state where both ambulances are idle\n",
    "# this is needed for each patient location and priority level\n",
    "\n",
    "def best_actions():\n",
    "    s = (0,0)\n",
    "    best_actions = {}\n",
    "    for i in range(n**2):\n",
    "        if P[i] == 0:\n",
    "            continue\n",
    "        else:\n",
    "            for pri in range(2):\n",
    "                best_action = None\n",
    "                best_value = -np.inf\n",
    "                for a in actions(s):\n",
    "                    s_next = s\n",
    "                    s_next = list(s_next)\n",
    "                    s_next[a] = i \n",
    "                    state_value = V[state2idx[tuple(s_next)]] # state value of the next state\n",
    "                    immediate_reward = coverage_reward[i, a, pri] # immediate reward\n",
    "                    value = state_value + immediate_reward\n",
    "                    #print(f\"State: {s}, Action: {a}, Next State: {s_next}, Priority: {pri}, Immediate: {immediate_reward}, StateValue: {state_value}, Total Value: {value}\")\n",
    "                    if value > best_value:\n",
    "                        best_value = value\n",
    "                        best_action = a\n",
    "                best_actions[(i, pri)] = best_action\n",
    "    return best_actions"
   ]
  },
  {
   "cell_type": "code",
   "execution_count": 28,
   "id": "0d99e380",
   "metadata": {},
   "outputs": [],
   "source": [
    "all_best_actions = best_actions()"
   ]
  },
  {
   "cell_type": "code",
   "execution_count": 29,
   "id": "30ea7358",
   "metadata": {},
   "outputs": [],
   "source": [
    "# for priority level 0 patients, show the best actions for each patient location on the grid \n",
    "best_action_grid_pri_0 = np.full((n, n), -1)\n",
    "for i in range(n**2):\n",
    "    if P[i] == 0:\n",
    "        continue\n",
    "    else:\n",
    "        action = all_best_actions[(i, 0)]\n",
    "        best_action_grid_pri_0[grid_helper.index_to_coord(i)] = action\n",
    "\n",
    "# for priority level 1 patients, show the best actions for each patient location on the grid \n",
    "best_action_grid_pri_1 = np.full((n, n), -1)\n",
    "for i in range(n**2):\n",
    "    if P[i] == 0:\n",
    "        continue\n",
    "    else:\n",
    "        action = all_best_actions[(i, 1)]\n",
    "        best_action_grid_pri_1[grid_helper.index_to_coord(i)] = action"
   ]
  },
  {
   "cell_type": "code",
   "execution_count": 30,
   "id": "021e1e90",
   "metadata": {},
   "outputs": [
    {
     "data": {
      "image/png": "[encoded data removed]",
      "text/plain": [
       "<Figure size 600x300 with 2 Axes>"
      ]
     },
     "metadata": {},
     "output_type": "display_data"
    }
   ],
   "source": [
    "# visualize best_action_grid_pri_0 and best_action_grid_pri_1 on a heatmap and plot them side by side\n",
    "fig, axes = plt.subplots(1, 2, figsize=(6, 3))\n",
    "sns.heatmap(best_action_grid_pri_0, annot=True, fmt=\".0f\", ax=axes[0], cmap=\"YlGnBu\", cbar=False, square=True)\n",
    "axes[0].set_title(\"Best Actions for Priority 0 Patients\")  \n",
    "sns.heatmap(best_action_grid_pri_1, annot=True, fmt=\".0f\", ax=axes[1], cmap=\"YlGnBu\", cbar=False, square=True)\n",
    "axes[1].set_title(\"Best Actions for Priority 1 Patients\")\n",
    "plt.tight_layout()\n",
    "plt.show()  "
   ]
  }
 ],
 "metadata": {
  "colab": {
   "provenance": []
  },
  "kernelspec": {
   "display_name": "ml_environment",
   "language": "python",
   "name": "python3"
  },
  "language_info": {
   "codemirror_mode": {
    "name": "ipython",
    "version": 3
   },
   "file_extension": ".py",
   "mimetype": "text/x-python",
   "name": "python",
   "nbconvert_exporter": "python",
   "pygments_lexer": "ipython3",
   "version": "3.8.19"
  }
 },
 "nbformat": 4,
 "nbformat_minor": 5
}

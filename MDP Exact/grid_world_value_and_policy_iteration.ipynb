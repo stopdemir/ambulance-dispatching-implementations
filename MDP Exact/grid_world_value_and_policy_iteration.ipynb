{
 "cells": [
  {
   "cell_type": "markdown",
   "id": "72e84fd5",
   "metadata": {
    "id": "72e84fd5"
   },
   "source": [
    "# Average-Reward MDP Relative Value Iteration Implementation"
   ]
  },
  {
   "cell_type": "markdown",
   "id": "5b0eee8e",
   "metadata": {
    "id": "5b0eee8e"
   },
   "source": [
    "## Setup"
   ]
  },
  {
   "cell_type": "markdown",
   "id": "7addfeff",
   "metadata": {
    "id": "7addfeff"
   },
   "source": [
    "### Libraries & Helper Class"
   ]
  },
  {
   "cell_type": "code",
   "execution_count": 1,
   "id": "0addbbb1",
   "metadata": {
    "id": "0addbbb1"
   },
   "outputs": [],
   "source": [
    "from collections import defaultdict # this is a useful data structure for storing the transition probabilities and rewards for each state\n",
    "\n",
    "import numpy as np\n",
    "np.random.seed(42)\n",
    "\n",
    "import math\n",
    "\n",
    "import matplotlib.pyplot as plt\n",
    "import seaborn as sns"
   ]
  },
  {
   "cell_type": "code",
   "execution_count": null,
   "id": "pz0zV_sJNhO7",
   "metadata": {
    "colab": {
     "base_uri": "https://localhost:8080/"
    },
    "executionInfo": {
     "elapsed": 16613,
     "status": "ok",
     "timestamp": 1752786428574,
     "user": {
      "displayName": "Süleyman Topdemir",
      "userId": "16596065092214686472"
     },
     "user_tz": 240
    },
    "id": "pz0zV_sJNhO7",
    "outputId": "29194b6f-bba6-4dde-d185-fc2b0ed3f1e7"
   },
   "outputs": [],
   "source": [
    "# from google.colab import drive\n",
    "# drive.mount('/content/drive')\n",
    "# show gridworld_visual picture which in the path /content/drive/MyDrive/Average Reward MDP Policy Optimization/gridworld_visual.png\n",
    "# from IPython.display import Image\n",
    "# Image(filename='/content/drive/MyDrive/Average Reward MDP Policy Optimization/gridworld_visual.png', width=300)"
   ]
  },
  {
   "cell_type": "code",
   "execution_count": 2,
   "id": "940a68d9",
   "metadata": {
    "id": "940a68d9"
   },
   "outputs": [],
   "source": [
    "from typing import Tuple\n",
    "\n",
    "class GridHelper:\n",
    "    def __init__(self, n: int):\n",
    "        self.n: int = n\n",
    "\n",
    "    def coord_to_index(self, x: int, y: int) -> int:\n",
    "        return x * self.n + y\n",
    "\n",
    "    def index_to_coord(self, index: int) -> Tuple[int, int]:\n",
    "        return divmod(index, self.n)\n",
    "\n",
    "    def manhattan_distance(self, a: int, b: int) -> int:\n",
    "        ax, ay = self.index_to_coord(a)\n",
    "        bx, by = self.index_to_coord(b)\n",
    "        return abs(ax - bx) + abs(ay - by)"
   ]
  },
  {
   "cell_type": "markdown",
   "id": "244bba71",
   "metadata": {
    "id": "244bba71"
   },
   "source": [
    "### States and Helpers"
   ]
  },
  {
   "cell_type": "code",
   "execution_count": 3,
   "id": "5098bb93",
   "metadata": {
    "id": "5098bb93"
   },
   "outputs": [],
   "source": [
    "n = 4 # Size of the grid\n",
    "\n",
    "first_ambulance_index = 0\n",
    "last_ambulance_index = n**2 - 1\n",
    "\n",
    "states = [(a1, a2) for a1 in range(0, n**2 - 1) for a2 in range(0, n**2 - 1) if a1 != a2]\n",
    "states.append((0, 0))"
   ]
  },
  {
   "cell_type": "code",
   "execution_count": 4,
   "id": "a7f2d893",
   "metadata": {
    "id": "a7f2d893",
    "outputId": "66ecbcf3-8703-440e-aaf3-57c7c1f9d698"
   },
   "outputs": [
    {
     "name": "stdout",
     "output_type": "stream",
     "text": [
      "Total number of states: 211\n"
     ]
    }
   ],
   "source": [
    "print(\"Total number of states:\", len(states))"
   ]
  },
  {
   "cell_type": "code",
   "execution_count": 25,
   "id": "316ef617",
   "metadata": {
    "id": "316ef617"
   },
   "outputs": [],
   "source": [
    "# we need to map states to indices for easier access\n",
    "state2idx = {s: k for k, s in enumerate(states)}"
   ]
  },
  {
   "cell_type": "code",
   "execution_count": null,
   "id": "b08b1931",
   "metadata": {},
   "outputs": [],
   "source": [
    "state2idx"
   ]
  },
  {
   "cell_type": "code",
   "execution_count": 5,
   "id": "a298e841",
   "metadata": {
    "id": "a298e841"
   },
   "outputs": [],
   "source": [
    "grid_helper = GridHelper(n)"
   ]
  },
  {
   "cell_type": "markdown",
   "id": "1e940474",
   "metadata": {
    "id": "1e940474"
   },
   "source": [
    "### Parameters"
   ]
  },
  {
   "cell_type": "markdown",
   "id": "75c911ff",
   "metadata": {},
   "source": [
    "#### Service Time and Arrival Rate"
   ]
  },
  {
   "cell_type": "code",
   "execution_count": 6,
   "id": "0c230aa8",
   "metadata": {
    "id": "0c230aa8"
   },
   "outputs": [],
   "source": [
    "# define an np array to hold the expected service time for each patient location and ambulance spot\n",
    "expected_service_time = np.zeros((n**2-2, 2))  # in hours\n",
    "for j in range(0, 2):\n",
    "    for i in range(1, n**2 - 1):\n",
    "        if j == 0:\n",
    "            man_distance = grid_helper.manhattan_distance(i, 0)\n",
    "        else:\n",
    "            man_distance = grid_helper.manhattan_distance(i, n**2 - 1)\n",
    "        expected_service_time[i-1, j] = np.random.normal(man_distance*3,1,1)/60 #here we are just generating numbers by using normal dist."
   ]
  },
  {
   "cell_type": "code",
   "execution_count": null,
   "id": "da79880d",
   "metadata": {},
   "outputs": [],
   "source": [
    "expected_service_time # in hours"
   ]
  },
  {
   "cell_type": "code",
   "execution_count": null,
   "id": "2ee401a8",
   "metadata": {},
   "outputs": [],
   "source": [
    "expected_service_time*60 # in minutes"
   ]
  },
  {
   "cell_type": "code",
   "execution_count": 7,
   "id": "e79cd893",
   "metadata": {},
   "outputs": [
    {
     "data": {
      "text/plain": [
       "array([[0.94272137, 0.52918545],\n",
       "       [0.81840554, 0.58284637],\n",
       "       [0.64531234, 0.71406995],\n",
       "       [0.89039884, 0.4795111 ],\n",
       "       [0.82348522, 0.5940611 ],\n",
       "       [0.68043321, 0.7323093 ],\n",
       "       [0.52117482, 0.73801508],\n",
       "       [0.77183011, 0.57229129],\n",
       "       [0.69033392, 0.66807173],\n",
       "       [0.54944963, 0.88759783],\n",
       "       [0.49737937, 0.98296177],\n",
       "       [0.69017459, 0.66632362],\n",
       "       [0.55818432, 0.87283606],\n",
       "       [0.53426265, 0.94830273]])"
      ]
     },
     "execution_count": 7,
     "metadata": {},
     "output_type": "execute_result"
    }
   ],
   "source": [
    "coverage_reward_prob_high = np.vectorize(lambda x: 1 - math.exp(-(1/x) * 1/6))(expected_service_time) # probability of the service less than 10 minutes\n",
    "coverage_reward_prob_high"
   ]
  },
  {
   "cell_type": "code",
   "execution_count": 8,
   "id": "35aa2561",
   "metadata": {},
   "outputs": [
    {
     "data": {
      "text/plain": [
       "array([[0.09427214, 0.05291855],\n",
       "       [0.08184055, 0.05828464],\n",
       "       [0.06453123, 0.071407  ],\n",
       "       [0.08903988, 0.04795111],\n",
       "       [0.08234852, 0.05940611],\n",
       "       [0.06804332, 0.07323093],\n",
       "       [0.05211748, 0.07380151],\n",
       "       [0.07718301, 0.05722913],\n",
       "       [0.06903339, 0.06680717],\n",
       "       [0.05494496, 0.08875978],\n",
       "       [0.04973794, 0.09829618],\n",
       "       [0.06901746, 0.06663236],\n",
       "       [0.05581843, 0.08728361],\n",
       "       [0.05342626, 0.09483027]])"
      ]
     },
     "execution_count": 8,
     "metadata": {},
     "output_type": "execute_result"
    }
   ],
   "source": [
    "coverage_reward_prob_low = coverage_reward_prob_high/10 #reward for the low priority requests are 9 times less than the high priority requests\n",
    "coverage_reward_prob_low"
   ]
  },
  {
   "cell_type": "code",
   "execution_count": 9,
   "id": "726b10d4",
   "metadata": {
    "id": "726b10d4"
   },
   "outputs": [],
   "source": [
    "arr_rate = 2.0          # arrivals per hour"
   ]
  },
  {
   "cell_type": "markdown",
   "id": "b39d07c7",
   "metadata": {},
   "source": [
    "#### Probability of a Request from the Cells"
   ]
  },
  {
   "cell_type": "code",
   "execution_count": 10,
   "id": "40a7c8dc",
   "metadata": {
    "id": "40a7c8dc"
   },
   "outputs": [],
   "source": [
    "P = np.zeros(n**2) # arrival-location pmf\n",
    "for i in range(n**2):\n",
    "    # The first and last indices are the hospitals, so we set their probabilities to 0.\n",
    "    # This means that the ambulance will never be dispatched to these locations.\n",
    "    if i == 0 or i == n**2 - 1:\n",
    "        P[i] = 0.0\n",
    "    else:\n",
    "        P[i] = np.random.uniform(0, 1)\n",
    "P /= np.sum(P)"
   ]
  },
  {
   "cell_type": "code",
   "execution_count": null,
   "id": "1b5b7449",
   "metadata": {
    "id": "1b5b7449",
    "outputId": "affbae21-ce0c-4e40-e1e3-6db02231f45c"
   },
   "outputs": [],
   "source": [
    "P"
   ]
  },
  {
   "cell_type": "code",
   "execution_count": 11,
   "id": "a781e036",
   "metadata": {},
   "outputs": [
    {
     "name": "stdout",
     "output_type": "stream",
     "text": [
      "1.0\n"
     ]
    }
   ],
   "source": [
    "print(np.sum(P))  # should be 1.0"
   ]
  },
  {
   "cell_type": "code",
   "execution_count": 12,
   "id": "b826614d",
   "metadata": {},
   "outputs": [
    {
     "data": {
      "image/png": "[encoded data removed]",
      "text/plain": [
       "<Figure size 400x300 with 2 Axes>"
      ]
     },
     "metadata": {},
     "output_type": "display_data"
    }
   ],
   "source": [
    "# heatmap representation of the arrival probabilities\n",
    "plt.figure(figsize=(4, 3))\n",
    "sns.heatmap(P.reshape(n, n), annot=True, cmap='Blues', square=True, linewidths=0.5)  \n",
    "plt.title('Arrival Probability Heatmap')\n",
    "plt.xticks(ticks=np.arange(n) + 0.5, labels=np.arange(n))\n",
    "plt.yticks(ticks=np.arange(n) + 0.5, labels=np.arange(n))\n",
    "plt.grid(False)\n",
    "plt.show()"
   ]
  },
  {
   "cell_type": "markdown",
   "id": "1374fd07",
   "metadata": {},
   "source": [
    "#### Conditional Probability Values for High and Low Priority Patients"
   ]
  },
  {
   "cell_type": "code",
   "execution_count": 13,
   "id": "b9f9fca6",
   "metadata": {},
   "outputs": [],
   "source": [
    "P_low = np.zeros(n**2) # arrival-location pmf\n",
    "P_low[0] = 0.0  # hospital/ambulance 1\n",
    "P_low[1] = 0.3\n",
    "P_low[2] = 0.35\n",
    "P_low[3] = 0.35\n",
    "P_low[4] = 0.37\n",
    "P_low[5] = 0.33\n",
    "P_low[6] = 0.39\n",
    "P_low[7] = 0.42\n",
    "P_low[8] = 0.44\n",
    "P_low[9] = 0.45\n",
    "P_low[10] = 0.49\n",
    "P_low[11] = 0.56\n",
    "P_low[12] = 0.57\n",
    "P_low[13] = 0.65\n",
    "P_low[14] = 0.61\n",
    "P_low[15] = 0.0 # hospital/ambulance 2"
   ]
  },
  {
   "cell_type": "code",
   "execution_count": 14,
   "id": "3ebb16e7",
   "metadata": {},
   "outputs": [
    {
     "data": {
      "text/plain": [
       "array([0.  , 0.7 , 0.65, 0.65, 0.63, 0.67, 0.61, 0.58, 0.56, 0.55, 0.51,\n",
       "       0.44, 0.43, 0.35, 0.39, 0.  ])"
      ]
     },
     "execution_count": 14,
     "metadata": {},
     "output_type": "execute_result"
    }
   ],
   "source": [
    "P_high = np.zeros(n**2)\n",
    "P_high = 1 - P_low\n",
    "P_high[0]= 0.0  # hospital/ambulance 1\n",
    "P_high[n**2-1] = 0.0 # hospital/ambulance 2\n",
    "P_high"
   ]
  },
  {
   "cell_type": "code",
   "execution_count": 15,
   "id": "10aef0e3",
   "metadata": {},
   "outputs": [
    {
     "data": {
      "image/png": "[encoded data removed]",
      "text/plain": [
       "<Figure size 800x400 with 4 Axes>"
      ]
     },
     "metadata": {},
     "output_type": "display_data"
    }
   ],
   "source": [
    "# show P_low and P_high heatmaps side by side\n",
    "fig, axes = plt.subplots(1, 2, figsize=(8, 4))\n",
    "sns.heatmap(P_low.reshape(n, n),  annot=True, fmt=\".2f\", ax=axes[0], cmap=\"YlGnBu\")\n",
    "axes[0].set_title(\"P_low\")  \n",
    "sns.heatmap(P_high.reshape(n, n), annot=True, fmt=\".2f\", ax=axes[1], cmap=\"YlGnBu\")\n",
    "axes[1].set_title(\"P_high\")\n",
    "plt.tight_layout()\n",
    "plt.show()"
   ]
  },
  {
   "cell_type": "code",
   "execution_count": 16,
   "id": "6db07c0c",
   "metadata": {},
   "outputs": [],
   "source": [
    "# combine P_low and P_high into two-dimensional array\n",
    "P_pri_combined = np.zeros((2, n**2))\n",
    "P_pri_combined[0, :] = P_low\n",
    "P_pri_combined[1, :] = P_high"
   ]
  },
  {
   "cell_type": "markdown",
   "id": "f778df9b",
   "metadata": {},
   "source": [
    "### Actions"
   ]
  },
  {
   "cell_type": "code",
   "execution_count": 17,
   "id": "451fb0a6",
   "metadata": {},
   "outputs": [],
   "source": [
    "def actions(s):\n",
    "    idle_providers = []\n",
    "    if s[0] == 0:  idle_providers.append(0)   # provider at cell 0\n",
    "    if s[1] == 0:  idle_providers.append(1)   # here 1 indicated the second ambulance which is at cell n**2 - 1\n",
    "    return idle_providers if idle_providers else [None]   # None = null dispatch"
   ]
  },
  {
   "cell_type": "markdown",
   "id": "ad1e9a87",
   "metadata": {
    "id": "ad1e9a87"
   },
   "source": [
    "### Event Rates"
   ]
  },
  {
   "cell_type": "code",
   "execution_count": 18,
   "id": "21b83360",
   "metadata": {
    "id": "21b83360",
    "outputId": "7041b9cb-eae1-494e-f2a5-27d9cfef3637"
   },
   "outputs": [
    {
     "name": "stdout",
     "output_type": "stream",
     "text": [
      "Maximum service time for ambulance 0: 0.24227637178645894\n",
      "Maximum service time for ambulance 1: 0.25523745554325455\n"
     ]
    }
   ],
   "source": [
    "mu_max_0 = np.max(expected_service_time[:,0])\n",
    "mu_max_1 = np.max(expected_service_time[:,1])\n",
    "\n",
    "print(\"Maximum service time for ambulance 0:\", mu_max_0)\n",
    "print(\"Maximum service time for ambulance 1:\", mu_max_1)"
   ]
  },
  {
   "cell_type": "code",
   "execution_count": 19,
   "id": "f0065397",
   "metadata": {
    "id": "f0065397",
    "outputId": "110acd5e-21bf-46fe-e276-17b9b021722d"
   },
   "outputs": [
    {
     "data": {
      "text/plain": [
       "4.009994386220903"
      ]
     },
     "execution_count": 19,
     "metadata": {},
     "output_type": "execute_result"
    }
   ],
   "source": [
    "# this is needed for the normalization procedure. Here normalization is a process of transforming a continuous \n",
    "# Markov Decision Process (MDP) into a discrete one by scaling transition probabilities.\n",
    "gamma = arr_rate + (1/(mu_max_0 + mu_max_1))\n",
    "gamma"
   ]
  },
  {
   "cell_type": "markdown",
   "id": "be6ff98a",
   "metadata": {
    "id": "be6ff98a"
   },
   "source": [
    "## Transitions"
   ]
  },
  {
   "cell_type": "code",
   "execution_count": 20,
   "id": "720f06d3",
   "metadata": {
    "id": "720f06d3"
   },
   "outputs": [],
   "source": [
    "def transitions(s, a):\n",
    "    \n",
    "    # input:  (state s, action a)\n",
    "    # output: (next_state, prob, reward) !not one, all possible transitions from state s with action a\n",
    "    \n",
    "    out = defaultdict(float)\n",
    "\n",
    "    # --- 1. Service completions ------------------------------------------\n",
    "    for p_idx, provider_cell in enumerate((0, 1)): # to understand these, you need to remember the state representation which is a\n",
    "        # tuple of two indices representing the ambulances' positions or 0 if the ambulance is idle. Also we have two ambulances which are\n",
    "        # represented by indices 0 and 1.\n",
    "        job = s[p_idx]\n",
    "        if job != 0:\n",
    "            rate   = expected_service_time[job-1, provider_cell]\n",
    "            prob   = rate / gamma\n",
    "            s_next = list(s)                # copy current state\n",
    "            s_next[p_idx] = 0               # provider becomes idle\n",
    "            out[tuple(s_next), 0.0] += prob # add self-loop with zero reward\n",
    "\n",
    "    # --- 2. Customer arrival ---------------------------------------------\n",
    "    prob_arr = arr_rate / gamma\n",
    "    for i in range(16):\n",
    "        for j in range(2): # this is for two priorities (low(0) and high(1))\n",
    "            if P[i] == 0:               # skip provider cells\n",
    "                continue\n",
    "            if a is None:               # both providers busy ⇒ null dispatch\n",
    "                # here, you may want to count total number of request that are not served\n",
    "                s_next = s             # state unchanged\n",
    "                out[s_next, 0.0] += prob_arr * P[i] * P_pri_combined[j, i]\n",
    "            else:         # dispatch chosen idle provider\n",
    "                p_idx = 0 if a == 0 else 1 # you can also use 'a' directly as an index since it is either 0 or 1\n",
    "                s_next = list(s)\n",
    "                s_next[p_idx] = i\n",
    "                if s_next[0] == s_next[1]:  # the states where both ambulances are at the same location are not allowed such as (1,1) or (5,5).(0,0) is allowed tho.\n",
    "                    s_next_no = s\n",
    "                    out[s_next_no, 0.0] += prob_arr * P[i] * P_pri_combined[j,i]  # no change in state, just probability\n",
    "                else:\n",
    "                    if j == 0:\n",
    "                        reward = coverage_reward_prob_low[i-1, a]\n",
    "                        out[tuple(s_next), reward] += prob_arr * P[i] * P_pri_combined[j, i]\n",
    "                    else:\n",
    "                        reward = coverage_reward_prob_high[i-1, a]\n",
    "                        out[tuple(s_next), reward] += prob_arr * P[i] * P_pri_combined[j, i]\n",
    "                    \n",
    "                \n",
    "    # --- 3. Dummy self-loop ----------------------------------------------\n",
    "    residual = 1.0 - sum(prob for (_, prob) in out.items())\n",
    "    out[s, 0.0] += residual\n",
    "\n",
    "    # convert to list of tuples\n",
    "    return [(ns, prob, r) for (ns, r), prob in out.items()]"
   ]
  },
  {
   "cell_type": "code",
   "execution_count": 26,
   "id": "1050f130",
   "metadata": {},
   "outputs": [
    {
     "data": {
      "text/plain": [
       "[((0, 1), 0.0014320455292216243, 0.05291854531629878),\n",
       " ((0, 1), 0.00334143956818379, 0.5291854531629878),\n",
       " ((0, 2), 0.024370223190176944, 0.05828463660460932),\n",
       " ((0, 2), 0.04525898592461433, 0.5828463660460932),\n",
       " ((0, 3), 0.024800323370645486, 0.07140699513726138),\n",
       " ((0, 3), 0.04605774340262733, 0.7140699513726139),\n",
       " ((0, 4), 0.021948469380434793, 0.04795110970764414),\n",
       " ((0, 4), 0.037371718134253835, 0.47951109707644146),\n",
       " ((0, 5), 0.00737634303622763, 0.0594061100275356),\n",
       " ((0, 5), 0.01497621161900761, 0.594061100275356),\n",
       " ((0, 6), 0.0027951996270307103, 0.07323093001440427),\n",
       " ((0, 6), 0.004371978903817264, 0.7323093001440427),\n",
       " ((0, 7), 0.021087784668054846, 0.07380150757993838),\n",
       " ((0, 7), 0.02912122644636146, 0.7380150757993837),\n",
       " ((0, 8), 0.014211289226506668, 0.057229128759378856),\n",
       " ((0, 8), 0.018087095379190305, 0.5722912875937886),\n",
       " ((0, 9), 0.004029823880941198, 0.0668071728171474),\n",
       " ((0, 9), 0.004925340298928131, 0.668071728171474),\n",
       " ((0, 10), 0.017804677046876372, 0.08875978313391275),\n",
       " ((0, 10), 0.018531398558993776, 0.8875978313391275),\n",
       " ((0, 11), 0.0014131203848824028, 0.09829617733642441),\n",
       " ((0, 11), 0.0011103088738361735, 0.9829617733642442),\n",
       " ((0, 12), 0.03803377438844645, 0.06663236227541357),\n",
       " ((0, 12), 0.028692145591284166, 0.6663236227541357),\n",
       " ((0, 13), 0.012343026724497563, 0.08728360590211906),\n",
       " ((0, 13), 0.006646245159344841, 0.8728360590211905),\n",
       " ((0, 14), 0.029655685043482465, 0.09483027292467602),\n",
       " ((0, 14), 0.018960192076980593, 0.9483027292467603),\n",
       " ((0, 0), 0.5012461845651512, 0.0)]"
      ]
     },
     "execution_count": 26,
     "metadata": {},
     "output_type": "execute_result"
    }
   ],
   "source": [
    "gh = transitions((0, 0), 1)  # test transitions function with state (0, 0) and action 0\n",
    "gh"
   ]
  },
  {
   "cell_type": "code",
   "execution_count": 22,
   "id": "79b5db6c",
   "metadata": {},
   "outputs": [
    {
     "data": {
      "text/plain": [
       "[((0, 0), 0.031029340068300888, 0.0),\n",
       " ((1, 7), 0.0014320455292216243, 0.09427213715791702),\n",
       " ((1, 7), 0.00334143956818379, 0.9427213715791701),\n",
       " ((2, 7), 0.024370223190176944, 0.0818405543691149),\n",
       " ((2, 7), 0.04525898592461433, 0.818405543691149),\n",
       " ((3, 7), 0.024800323370645486, 0.06453123396764181),\n",
       " ((3, 7), 0.04605774340262733, 0.6453123396764181),\n",
       " ((4, 7), 0.021948469380434793, 0.08903988443436403),\n",
       " ((4, 7), 0.037371718134253835, 0.8903988443436403),\n",
       " ((5, 7), 0.00737634303622763, 0.08234852218718104),\n",
       " ((5, 7), 0.01497621161900761, 0.8234852218718104),\n",
       " ((6, 7), 0.0027951996270307103, 0.06804332109488306),\n",
       " ((6, 7), 0.004371978903817264, 0.6804332109488306),\n",
       " ((0, 7), 0.5204258556112668, 0.0),\n",
       " ((8, 7), 0.014211289226506668, 0.07718301080456429),\n",
       " ((8, 7), 0.018087095379190305, 0.7718301080456429),\n",
       " ((9, 7), 0.004029823880941198, 0.06903339153939121),\n",
       " ((9, 7), 0.004925340298928131, 0.6903339153939121),\n",
       " ((10, 7), 0.017804677046876372, 0.054944963036381925),\n",
       " ((10, 7), 0.018531398558993776, 0.5494496303638192),\n",
       " ((11, 7), 0.0014131203848824028, 0.04973793698373406),\n",
       " ((11, 7), 0.0011103088738361735, 0.49737936983734066),\n",
       " ((12, 7), 0.03803377438844645, 0.06901745946433673),\n",
       " ((12, 7), 0.028692145591284166, 0.6901745946433673),\n",
       " ((13, 7), 0.012343026724497563, 0.05581843245155338),\n",
       " ((13, 7), 0.006646245159344841, 0.5581843245155338),\n",
       " ((14, 7), 0.029655685043482465, 0.053426264790559855),\n",
       " ((14, 7), 0.018960192076980593, 0.5342626479055985)]"
      ]
     },
     "execution_count": 22,
     "metadata": {},
     "output_type": "execute_result"
    }
   ],
   "source": [
    "gh = transitions((0, 7), 0)  # test transitions function with state (0, 0) and action 0\n",
    "gh"
   ]
  },
  {
   "cell_type": "markdown",
   "id": "fnzHqj8rZtsN",
   "metadata": {
    "id": "fnzHqj8rZtsN"
   },
   "source": [
    "## Relative Value Iteration"
   ]
  },
  {
   "cell_type": "code",
   "execution_count": 23,
   "id": "3efb8561",
   "metadata": {
    "id": "3efb8561"
   },
   "outputs": [],
   "source": [
    "def rvi(eps=1e-8, max_iter=10000):\n",
    "    V = np.zeros(len(states))\n",
    "    # best action value for each state\n",
    "    \n",
    "    g = 0.0                             # bias estimate\n",
    "    ref = 0                             # choose arbitrary reference state\n",
    " \n",
    "    for it in range(max_iter):\n",
    "        V_new = np.empty_like(V) # this will create a new array with the same shape and dtype as V but its contents are uninitialized\n",
    "        g_num = 0.0\n",
    "\n",
    "        for k, s in enumerate(states):\n",
    "            best = -np.inf\n",
    "            for a in actions(s):\n",
    "                q = 0.0\n",
    "                for ns, p, r in transitions(s, a): # this was already defined above. It's quite critical to understand how the transitions work\n",
    "                    q += p * (r + V[state2idx[ns]])\n",
    "                best = max(best, q)\n",
    "            V_new[k] = best\n",
    "            g_num  += best\n",
    "\n",
    "        g_new = g_num / len(states)     # average over states\n",
    "        V_new -= V_new[ref]             # anchor\n",
    "        \n",
    "        if it % 100 == 0:\n",
    "            print(f\"Iteration {it}, g = {g:.4f}, max |V_new - V| = {np.max(np.abs(V_new - V)):.10f}\")\n",
    "            \n",
    "        if np.max(np.abs(V_new - V)) < eps:\n",
    "            return g_new, V_new\n",
    "\n",
    "        V, g = V_new, g_new\n",
    "\n",
    "    raise RuntimeError(\"RVI failed to converge\")\n"
   ]
  },
  {
   "cell_type": "code",
   "execution_count": 27,
   "id": "46f94722",
   "metadata": {},
   "outputs": [
    {
     "name": "stdout",
     "output_type": "stream",
     "text": [
      "Iteration 0, g = 0.0000, max |V_new - V| = 0.2070269055\n",
      "Iteration 100, g = -0.5064, max |V_new - V| = 0.0041846036\n",
      "Iteration 200, g = -0.5259, max |V_new - V| = 0.0011050723\n",
      "Iteration 300, g = -0.5305, max |V_new - V| = 0.0003325297\n",
      "Iteration 400, g = -0.5319, max |V_new - V| = 0.0001067458\n",
      "Iteration 500, g = -0.5323, max |V_new - V| = 0.0000355919\n",
      "Iteration 600, g = -0.5324, max |V_new - V| = 0.0000121499\n",
      "Iteration 700, g = -0.5325, max |V_new - V| = 0.0000042099\n",
      "Iteration 800, g = -0.5325, max |V_new - V| = 0.0000014726\n",
      "Iteration 900, g = -0.5325, max |V_new - V| = 0.0000005182\n",
      "Iteration 1000, g = -0.5325, max |V_new - V| = 0.0000001831\n",
      "Iteration 1100, g = -0.5325, max |V_new - V| = 0.0000000648\n",
      "Iteration 1200, g = -0.5325, max |V_new - V| = 0.0000000230\n"
     ]
    }
   ],
   "source": [
    "final_average_reward, V = rvi()"
   ]
  },
  {
   "cell_type": "code",
   "execution_count": 28,
   "id": "13c9e133",
   "metadata": {},
   "outputs": [
    {
     "data": {
      "text/plain": [
       "array([ 0.        , -0.0393533 , -0.17171271,  0.04248827, -0.0461798 ,\n",
       "       -0.15894658, -0.18190031, -0.02995105, -0.09934779, -0.40664218,\n",
       "       -0.90943617, -0.09142073, -0.35844752, -0.61215672, -0.6466744 ,\n",
       "       -0.8936386 , -1.00814549, -0.8275313 , -0.90112761, -1.01714537,\n",
       "       -1.02859159, -0.88604357, -0.95692409, -1.26270437, -1.77744098,\n",
       "       -0.95365768, -1.22230475, -1.47479682, -0.34929753, -0.54600773,\n",
       "       -0.69379711, -0.5153041 , -0.58730447, -0.69846544, -0.71175866,\n",
       "       -0.57270315, -0.6404544 , -0.93835987, -1.44282805, -0.63650714,\n",
       "       -0.89692829, -1.14526624, -0.13230561, -0.33016361, -0.36541107,\n",
       "       -0.29757885, -0.37247256, -0.48442544, -0.49987689, -0.35751483,\n",
       "       -0.42585979, -0.72702165, -1.23195627, -0.42110377, -0.68371707,\n",
       "       -0.93404417, -0.49355119, -0.69467085, -0.72897548, -0.84176404,\n",
       "       -0.73616544, -0.84848205, -0.8607552 , -0.72150492, -0.78999989,\n",
       "       -1.08913673, -1.59590738, -0.78642657, -1.04848066, -1.29726965,\n",
       "       -0.32361085, -0.53084898, -0.56617179, -0.68251946, -0.49918054,\n",
       "       -0.68774403, -0.70110528, -0.55842744, -0.62825026, -0.93192562,\n",
       "       -1.44137694, -0.62428933, -0.89005863, -1.1413729 , -0.13394247,\n",
       "       -0.34435884, -0.38056918, -0.50062152, -0.31107327, -0.38787652,\n",
       "       -0.51790479, -0.37251607, -0.44283743, -0.74875956, -1.25765929,\n",
       "       -0.43820059, -0.70536753, -0.95787752, -0.02294757, -0.22776721,\n",
       "       -0.26417122, -0.38610587, -0.19334356, -0.27130903, -0.38476972,\n",
       "       -0.25593369, -0.32539073, -0.6300802 , -1.1361313 , -0.32006826,\n",
       "       -0.5855479 , -0.83763151, -0.2453082 , -0.45245732, -0.4879929 ,\n",
       "       -0.60545643, -0.42030633, -0.49527773, -0.60946025, -0.62349668,\n",
       "       -0.54995807, -0.85395715, -1.36276231, -0.54574694, -0.8115367 ,\n",
       "       -1.06305561, -0.14340536, -0.35383627, -0.39001091, -0.50988348,\n",
       "       -0.32064029, -0.39732364, -0.5122098 , -0.52726459, -0.38197379,\n",
       "       -0.75820639, -1.26723382, -0.44771376, -0.71489917, -0.96739396,\n",
       "       -0.01635942, -0.23352518, -0.27074765, -0.39436855, -0.19849789,\n",
       "       -0.2780917 , -0.39391572, -0.41060778, -0.2623776 , -0.33346981,\n",
       "       -1.15072149, -0.32824265, -0.59724772, -0.8509181 ,  0.00672718,\n",
       "       -0.20576234, -0.2428176 , -0.36647012, -0.1705561 , -0.25005604,\n",
       "       -0.36482063, -0.38204685, -0.23443126, -0.30482298, -0.61178357,\n",
       "       -0.29937836, -0.56690972, -0.81998799, -0.14541884, -0.3550011 ,\n",
       "       -0.39109826, -0.51078023, -0.32187622, -0.39839458, -0.51307538,\n",
       "       -0.52812326, -0.38307623, -0.45326887, -0.75880868, -1.26756181,\n",
       "       -0.71552895, -0.96785296, -0.02361342, -0.24005002, -0.27718887,\n",
       "       -0.40054127, -0.20515808, -0.28452753, -0.40025331, -0.4168442 ,\n",
       "       -0.26884312, -0.3398591 , -0.64802842, -1.15686827, -0.3346717 ,\n",
       "       -0.85708154,  0.04046358, -0.20009026, -0.23911224, -0.36708288,\n",
       "       -0.16324077, -0.2468048 , -0.36687668, -0.3839114 , -0.23037866,\n",
       "       -0.30446211, -0.61988427, -1.13329597, -0.29911438, -0.5746403 ,\n",
       "        0.18632236])"
      ]
     },
     "execution_count": 28,
     "metadata": {},
     "output_type": "execute_result"
    }
   ],
   "source": [
    "V"
   ]
  }
 ],
 "metadata": {
  "colab": {
   "provenance": []
  },
  "kernelspec": {
   "display_name": "ml_environment",
   "language": "python",
   "name": "python3"
  },
  "language_info": {
   "codemirror_mode": {
    "name": "ipython",
    "version": 3
   },
   "file_extension": ".py",
   "mimetype": "text/x-python",
   "name": "python",
   "nbconvert_exporter": "python",
   "pygments_lexer": "ipython3",
   "version": "3.8.19"
  }
 },
 "nbformat": 4,
 "nbformat_minor": 5
}

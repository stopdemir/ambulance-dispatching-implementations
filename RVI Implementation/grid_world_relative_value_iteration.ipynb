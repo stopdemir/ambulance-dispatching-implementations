{
 "cells": [
  {
   "cell_type": "markdown",
   "id": "72e84fd5",
   "metadata": {
    "id": "72e84fd5"
   },
   "source": [
    "# RVI Implementation for Infinite-Horizon, Undiscounted, Average-Reward MDP"
   ]
  },
  {
   "cell_type": "markdown",
   "id": "88e79c4b",
   "metadata": {},
   "source": [
    "This implementation is for finding an optimal policy for an ambulance dispatching problem on a grid-world. An infinite-horizon, undiscounted, average reward MDP model is defined. An optimal policy and relative state values have been achieved at the end of the implementation."
   ]
  },
  {
   "cell_type": "markdown",
   "id": "5b0eee8e",
   "metadata": {
    "id": "5b0eee8e"
   },
   "source": [
    "## Setup"
   ]
  },
  {
   "cell_type": "markdown",
   "id": "7addfeff",
   "metadata": {
    "id": "7addfeff"
   },
   "source": [
    "### Libraries & Helper Class"
   ]
  },
  {
   "cell_type": "code",
   "execution_count": 1,
   "id": "0addbbb1",
   "metadata": {
    "id": "0addbbb1"
   },
   "outputs": [],
   "source": [
    "from collections import defaultdict # this is a useful data structure for storing the transition probabilities and rewards for each state\n",
    "\n",
    "import numpy as np\n",
    "np.random.seed(30)\n",
    "\n",
    "import math\n",
    "import random\n",
    "\n",
    "import matplotlib.pyplot as plt\n",
    "import seaborn as sns"
   ]
  },
  {
   "cell_type": "code",
   "execution_count": 2,
   "id": "pz0zV_sJNhO7",
   "metadata": {
    "colab": {
     "base_uri": "https://localhost:8080/"
    },
    "executionInfo": {
     "elapsed": 16613,
     "status": "ok",
     "timestamp": 1752786428574,
     "user": {
      "displayName": "Süleyman Topdemir",
      "userId": "16596065092214686472"
     },
     "user_tz": 240
    },
    "id": "pz0zV_sJNhO7",
    "outputId": "29194b6f-bba6-4dde-d185-fc2b0ed3f1e7"
   },
   "outputs": [],
   "source": [
    "# from google.colab import drive\n",
    "# drive.mount('/content/drive')\n",
    "# show gridworld_visual picture which in the path /content/drive/MyDrive/Average Reward MDP Policy Optimization/gridworld_visual.png\n",
    "# from IPython.display import Image\n",
    "# Image(filename='/content/drive/MyDrive/Average Reward MDP Policy Optimization/gridworld_visual.png', width=300)"
   ]
  },
  {
   "cell_type": "code",
   "execution_count": 3,
   "id": "940a68d9",
   "metadata": {
    "id": "940a68d9"
   },
   "outputs": [],
   "source": [
    "from typing import Tuple\n",
    "\n",
    "class GridHelper:\n",
    "    def __init__(self, n: int):\n",
    "        self.n: int = n\n",
    "\n",
    "    def coord_to_index(self, x: int, y: int) -> int:\n",
    "        return x * self.n + y\n",
    "\n",
    "    def index_to_coord(self, index: int) -> Tuple[int, int]:\n",
    "        return divmod(index, self.n)\n",
    "\n",
    "    def manhattan_distance(self, a: int, b: int) -> int:\n",
    "        ax, ay = self.index_to_coord(a)\n",
    "        bx, by = self.index_to_coord(b)\n",
    "        return abs(ax - bx) + abs(ay - by)"
   ]
  },
  {
   "cell_type": "markdown",
   "id": "244bba71",
   "metadata": {
    "id": "244bba71"
   },
   "source": [
    "### States and Helpers"
   ]
  },
  {
   "cell_type": "code",
   "execution_count": 4,
   "id": "5098bb93",
   "metadata": {
    "id": "5098bb93"
   },
   "outputs": [],
   "source": [
    "n = 5 # Size of the grid\n",
    "\n",
    "first_ambulance_index = 0\n",
    "last_ambulance_index = n**2 - 1\n",
    "\n",
    "states = [(a1, a2) for a1 in range(0, n**2 - 1) for a2 in range(0, n**2 - 1)]"
   ]
  },
  {
   "cell_type": "code",
   "execution_count": 5,
   "id": "a7f2d893",
   "metadata": {
    "id": "a7f2d893",
    "outputId": "66ecbcf3-8703-440e-aaf3-57c7c1f9d698"
   },
   "outputs": [
    {
     "name": "stdout",
     "output_type": "stream",
     "text": [
      "Total number of states: 576\n"
     ]
    }
   ],
   "source": [
    "print(\"Total number of states:\", len(states))"
   ]
  },
  {
   "cell_type": "code",
   "execution_count": 6,
   "id": "316ef617",
   "metadata": {
    "id": "316ef617"
   },
   "outputs": [],
   "source": [
    "# we need to map states to indices for easier access\n",
    "state2idx = {s: k for k, s in enumerate(states)}"
   ]
  },
  {
   "cell_type": "code",
   "execution_count": 7,
   "id": "b08b1931",
   "metadata": {},
   "outputs": [
    {
     "data": {
      "text/plain": [
       "{(0, 0): 0,\n",
       " (0, 1): 1,\n",
       " (0, 2): 2,\n",
       " (0, 3): 3,\n",
       " (0, 4): 4,\n",
       " (0, 5): 5,\n",
       " (0, 6): 6,\n",
       " (0, 7): 7,\n",
       " (0, 8): 8,\n",
       " (0, 9): 9,\n",
       " (0, 10): 10,\n",
       " (0, 11): 11,\n",
       " (0, 12): 12,\n",
       " (0, 13): 13,\n",
       " (0, 14): 14,\n",
       " (0, 15): 15,\n",
       " (0, 16): 16,\n",
       " (0, 17): 17,\n",
       " (0, 18): 18,\n",
       " (0, 19): 19,\n",
       " (0, 20): 20,\n",
       " (0, 21): 21,\n",
       " (0, 22): 22,\n",
       " (0, 23): 23,\n",
       " (1, 0): 24,\n",
       " (1, 1): 25,\n",
       " (1, 2): 26,\n",
       " (1, 3): 27,\n",
       " (1, 4): 28,\n",
       " (1, 5): 29,\n",
       " (1, 6): 30,\n",
       " (1, 7): 31,\n",
       " (1, 8): 32,\n",
       " (1, 9): 33,\n",
       " (1, 10): 34,\n",
       " (1, 11): 35,\n",
       " (1, 12): 36,\n",
       " (1, 13): 37,\n",
       " (1, 14): 38,\n",
       " (1, 15): 39,\n",
       " (1, 16): 40,\n",
       " (1, 17): 41,\n",
       " (1, 18): 42,\n",
       " (1, 19): 43,\n",
       " (1, 20): 44,\n",
       " (1, 21): 45,\n",
       " (1, 22): 46,\n",
       " (1, 23): 47,\n",
       " (2, 0): 48,\n",
       " (2, 1): 49,\n",
       " (2, 2): 50,\n",
       " (2, 3): 51,\n",
       " (2, 4): 52,\n",
       " (2, 5): 53,\n",
       " (2, 6): 54,\n",
       " (2, 7): 55,\n",
       " (2, 8): 56,\n",
       " (2, 9): 57,\n",
       " (2, 10): 58,\n",
       " (2, 11): 59,\n",
       " (2, 12): 60,\n",
       " (2, 13): 61,\n",
       " (2, 14): 62,\n",
       " (2, 15): 63,\n",
       " (2, 16): 64,\n",
       " (2, 17): 65,\n",
       " (2, 18): 66,\n",
       " (2, 19): 67,\n",
       " (2, 20): 68,\n",
       " (2, 21): 69,\n",
       " (2, 22): 70,\n",
       " (2, 23): 71,\n",
       " (3, 0): 72,\n",
       " (3, 1): 73,\n",
       " (3, 2): 74,\n",
       " (3, 3): 75,\n",
       " (3, 4): 76,\n",
       " (3, 5): 77,\n",
       " (3, 6): 78,\n",
       " (3, 7): 79,\n",
       " (3, 8): 80,\n",
       " (3, 9): 81,\n",
       " (3, 10): 82,\n",
       " (3, 11): 83,\n",
       " (3, 12): 84,\n",
       " (3, 13): 85,\n",
       " (3, 14): 86,\n",
       " (3, 15): 87,\n",
       " (3, 16): 88,\n",
       " (3, 17): 89,\n",
       " (3, 18): 90,\n",
       " (3, 19): 91,\n",
       " (3, 20): 92,\n",
       " (3, 21): 93,\n",
       " (3, 22): 94,\n",
       " (3, 23): 95,\n",
       " (4, 0): 96,\n",
       " (4, 1): 97,\n",
       " (4, 2): 98,\n",
       " (4, 3): 99,\n",
       " (4, 4): 100,\n",
       " (4, 5): 101,\n",
       " (4, 6): 102,\n",
       " (4, 7): 103,\n",
       " (4, 8): 104,\n",
       " (4, 9): 105,\n",
       " (4, 10): 106,\n",
       " (4, 11): 107,\n",
       " (4, 12): 108,\n",
       " (4, 13): 109,\n",
       " (4, 14): 110,\n",
       " (4, 15): 111,\n",
       " (4, 16): 112,\n",
       " (4, 17): 113,\n",
       " (4, 18): 114,\n",
       " (4, 19): 115,\n",
       " (4, 20): 116,\n",
       " (4, 21): 117,\n",
       " (4, 22): 118,\n",
       " (4, 23): 119,\n",
       " (5, 0): 120,\n",
       " (5, 1): 121,\n",
       " (5, 2): 122,\n",
       " (5, 3): 123,\n",
       " (5, 4): 124,\n",
       " (5, 5): 125,\n",
       " (5, 6): 126,\n",
       " (5, 7): 127,\n",
       " (5, 8): 128,\n",
       " (5, 9): 129,\n",
       " (5, 10): 130,\n",
       " (5, 11): 131,\n",
       " (5, 12): 132,\n",
       " (5, 13): 133,\n",
       " (5, 14): 134,\n",
       " (5, 15): 135,\n",
       " (5, 16): 136,\n",
       " (5, 17): 137,\n",
       " (5, 18): 138,\n",
       " (5, 19): 139,\n",
       " (5, 20): 140,\n",
       " (5, 21): 141,\n",
       " (5, 22): 142,\n",
       " (5, 23): 143,\n",
       " (6, 0): 144,\n",
       " (6, 1): 145,\n",
       " (6, 2): 146,\n",
       " (6, 3): 147,\n",
       " (6, 4): 148,\n",
       " (6, 5): 149,\n",
       " (6, 6): 150,\n",
       " (6, 7): 151,\n",
       " (6, 8): 152,\n",
       " (6, 9): 153,\n",
       " (6, 10): 154,\n",
       " (6, 11): 155,\n",
       " (6, 12): 156,\n",
       " (6, 13): 157,\n",
       " (6, 14): 158,\n",
       " (6, 15): 159,\n",
       " (6, 16): 160,\n",
       " (6, 17): 161,\n",
       " (6, 18): 162,\n",
       " (6, 19): 163,\n",
       " (6, 20): 164,\n",
       " (6, 21): 165,\n",
       " (6, 22): 166,\n",
       " (6, 23): 167,\n",
       " (7, 0): 168,\n",
       " (7, 1): 169,\n",
       " (7, 2): 170,\n",
       " (7, 3): 171,\n",
       " (7, 4): 172,\n",
       " (7, 5): 173,\n",
       " (7, 6): 174,\n",
       " (7, 7): 175,\n",
       " (7, 8): 176,\n",
       " (7, 9): 177,\n",
       " (7, 10): 178,\n",
       " (7, 11): 179,\n",
       " (7, 12): 180,\n",
       " (7, 13): 181,\n",
       " (7, 14): 182,\n",
       " (7, 15): 183,\n",
       " (7, 16): 184,\n",
       " (7, 17): 185,\n",
       " (7, 18): 186,\n",
       " (7, 19): 187,\n",
       " (7, 20): 188,\n",
       " (7, 21): 189,\n",
       " (7, 22): 190,\n",
       " (7, 23): 191,\n",
       " (8, 0): 192,\n",
       " (8, 1): 193,\n",
       " (8, 2): 194,\n",
       " (8, 3): 195,\n",
       " (8, 4): 196,\n",
       " (8, 5): 197,\n",
       " (8, 6): 198,\n",
       " (8, 7): 199,\n",
       " (8, 8): 200,\n",
       " (8, 9): 201,\n",
       " (8, 10): 202,\n",
       " (8, 11): 203,\n",
       " (8, 12): 204,\n",
       " (8, 13): 205,\n",
       " (8, 14): 206,\n",
       " (8, 15): 207,\n",
       " (8, 16): 208,\n",
       " (8, 17): 209,\n",
       " (8, 18): 210,\n",
       " (8, 19): 211,\n",
       " (8, 20): 212,\n",
       " (8, 21): 213,\n",
       " (8, 22): 214,\n",
       " (8, 23): 215,\n",
       " (9, 0): 216,\n",
       " (9, 1): 217,\n",
       " (9, 2): 218,\n",
       " (9, 3): 219,\n",
       " (9, 4): 220,\n",
       " (9, 5): 221,\n",
       " (9, 6): 222,\n",
       " (9, 7): 223,\n",
       " (9, 8): 224,\n",
       " (9, 9): 225,\n",
       " (9, 10): 226,\n",
       " (9, 11): 227,\n",
       " (9, 12): 228,\n",
       " (9, 13): 229,\n",
       " (9, 14): 230,\n",
       " (9, 15): 231,\n",
       " (9, 16): 232,\n",
       " (9, 17): 233,\n",
       " (9, 18): 234,\n",
       " (9, 19): 235,\n",
       " (9, 20): 236,\n",
       " (9, 21): 237,\n",
       " (9, 22): 238,\n",
       " (9, 23): 239,\n",
       " (10, 0): 240,\n",
       " (10, 1): 241,\n",
       " (10, 2): 242,\n",
       " (10, 3): 243,\n",
       " (10, 4): 244,\n",
       " (10, 5): 245,\n",
       " (10, 6): 246,\n",
       " (10, 7): 247,\n",
       " (10, 8): 248,\n",
       " (10, 9): 249,\n",
       " (10, 10): 250,\n",
       " (10, 11): 251,\n",
       " (10, 12): 252,\n",
       " (10, 13): 253,\n",
       " (10, 14): 254,\n",
       " (10, 15): 255,\n",
       " (10, 16): 256,\n",
       " (10, 17): 257,\n",
       " (10, 18): 258,\n",
       " (10, 19): 259,\n",
       " (10, 20): 260,\n",
       " (10, 21): 261,\n",
       " (10, 22): 262,\n",
       " (10, 23): 263,\n",
       " (11, 0): 264,\n",
       " (11, 1): 265,\n",
       " (11, 2): 266,\n",
       " (11, 3): 267,\n",
       " (11, 4): 268,\n",
       " (11, 5): 269,\n",
       " (11, 6): 270,\n",
       " (11, 7): 271,\n",
       " (11, 8): 272,\n",
       " (11, 9): 273,\n",
       " (11, 10): 274,\n",
       " (11, 11): 275,\n",
       " (11, 12): 276,\n",
       " (11, 13): 277,\n",
       " (11, 14): 278,\n",
       " (11, 15): 279,\n",
       " (11, 16): 280,\n",
       " (11, 17): 281,\n",
       " (11, 18): 282,\n",
       " (11, 19): 283,\n",
       " (11, 20): 284,\n",
       " (11, 21): 285,\n",
       " (11, 22): 286,\n",
       " (11, 23): 287,\n",
       " (12, 0): 288,\n",
       " (12, 1): 289,\n",
       " (12, 2): 290,\n",
       " (12, 3): 291,\n",
       " (12, 4): 292,\n",
       " (12, 5): 293,\n",
       " (12, 6): 294,\n",
       " (12, 7): 295,\n",
       " (12, 8): 296,\n",
       " (12, 9): 297,\n",
       " (12, 10): 298,\n",
       " (12, 11): 299,\n",
       " (12, 12): 300,\n",
       " (12, 13): 301,\n",
       " (12, 14): 302,\n",
       " (12, 15): 303,\n",
       " (12, 16): 304,\n",
       " (12, 17): 305,\n",
       " (12, 18): 306,\n",
       " (12, 19): 307,\n",
       " (12, 20): 308,\n",
       " (12, 21): 309,\n",
       " (12, 22): 310,\n",
       " (12, 23): 311,\n",
       " (13, 0): 312,\n",
       " (13, 1): 313,\n",
       " (13, 2): 314,\n",
       " (13, 3): 315,\n",
       " (13, 4): 316,\n",
       " (13, 5): 317,\n",
       " (13, 6): 318,\n",
       " (13, 7): 319,\n",
       " (13, 8): 320,\n",
       " (13, 9): 321,\n",
       " (13, 10): 322,\n",
       " (13, 11): 323,\n",
       " (13, 12): 324,\n",
       " (13, 13): 325,\n",
       " (13, 14): 326,\n",
       " (13, 15): 327,\n",
       " (13, 16): 328,\n",
       " (13, 17): 329,\n",
       " (13, 18): 330,\n",
       " (13, 19): 331,\n",
       " (13, 20): 332,\n",
       " (13, 21): 333,\n",
       " (13, 22): 334,\n",
       " (13, 23): 335,\n",
       " (14, 0): 336,\n",
       " (14, 1): 337,\n",
       " (14, 2): 338,\n",
       " (14, 3): 339,\n",
       " (14, 4): 340,\n",
       " (14, 5): 341,\n",
       " (14, 6): 342,\n",
       " (14, 7): 343,\n",
       " (14, 8): 344,\n",
       " (14, 9): 345,\n",
       " (14, 10): 346,\n",
       " (14, 11): 347,\n",
       " (14, 12): 348,\n",
       " (14, 13): 349,\n",
       " (14, 14): 350,\n",
       " (14, 15): 351,\n",
       " (14, 16): 352,\n",
       " (14, 17): 353,\n",
       " (14, 18): 354,\n",
       " (14, 19): 355,\n",
       " (14, 20): 356,\n",
       " (14, 21): 357,\n",
       " (14, 22): 358,\n",
       " (14, 23): 359,\n",
       " (15, 0): 360,\n",
       " (15, 1): 361,\n",
       " (15, 2): 362,\n",
       " (15, 3): 363,\n",
       " (15, 4): 364,\n",
       " (15, 5): 365,\n",
       " (15, 6): 366,\n",
       " (15, 7): 367,\n",
       " (15, 8): 368,\n",
       " (15, 9): 369,\n",
       " (15, 10): 370,\n",
       " (15, 11): 371,\n",
       " (15, 12): 372,\n",
       " (15, 13): 373,\n",
       " (15, 14): 374,\n",
       " (15, 15): 375,\n",
       " (15, 16): 376,\n",
       " (15, 17): 377,\n",
       " (15, 18): 378,\n",
       " (15, 19): 379,\n",
       " (15, 20): 380,\n",
       " (15, 21): 381,\n",
       " (15, 22): 382,\n",
       " (15, 23): 383,\n",
       " (16, 0): 384,\n",
       " (16, 1): 385,\n",
       " (16, 2): 386,\n",
       " (16, 3): 387,\n",
       " (16, 4): 388,\n",
       " (16, 5): 389,\n",
       " (16, 6): 390,\n",
       " (16, 7): 391,\n",
       " (16, 8): 392,\n",
       " (16, 9): 393,\n",
       " (16, 10): 394,\n",
       " (16, 11): 395,\n",
       " (16, 12): 396,\n",
       " (16, 13): 397,\n",
       " (16, 14): 398,\n",
       " (16, 15): 399,\n",
       " (16, 16): 400,\n",
       " (16, 17): 401,\n",
       " (16, 18): 402,\n",
       " (16, 19): 403,\n",
       " (16, 20): 404,\n",
       " (16, 21): 405,\n",
       " (16, 22): 406,\n",
       " (16, 23): 407,\n",
       " (17, 0): 408,\n",
       " (17, 1): 409,\n",
       " (17, 2): 410,\n",
       " (17, 3): 411,\n",
       " (17, 4): 412,\n",
       " (17, 5): 413,\n",
       " (17, 6): 414,\n",
       " (17, 7): 415,\n",
       " (17, 8): 416,\n",
       " (17, 9): 417,\n",
       " (17, 10): 418,\n",
       " (17, 11): 419,\n",
       " (17, 12): 420,\n",
       " (17, 13): 421,\n",
       " (17, 14): 422,\n",
       " (17, 15): 423,\n",
       " (17, 16): 424,\n",
       " (17, 17): 425,\n",
       " (17, 18): 426,\n",
       " (17, 19): 427,\n",
       " (17, 20): 428,\n",
       " (17, 21): 429,\n",
       " (17, 22): 430,\n",
       " (17, 23): 431,\n",
       " (18, 0): 432,\n",
       " (18, 1): 433,\n",
       " (18, 2): 434,\n",
       " (18, 3): 435,\n",
       " (18, 4): 436,\n",
       " (18, 5): 437,\n",
       " (18, 6): 438,\n",
       " (18, 7): 439,\n",
       " (18, 8): 440,\n",
       " (18, 9): 441,\n",
       " (18, 10): 442,\n",
       " (18, 11): 443,\n",
       " (18, 12): 444,\n",
       " (18, 13): 445,\n",
       " (18, 14): 446,\n",
       " (18, 15): 447,\n",
       " (18, 16): 448,\n",
       " (18, 17): 449,\n",
       " (18, 18): 450,\n",
       " (18, 19): 451,\n",
       " (18, 20): 452,\n",
       " (18, 21): 453,\n",
       " (18, 22): 454,\n",
       " (18, 23): 455,\n",
       " (19, 0): 456,\n",
       " (19, 1): 457,\n",
       " (19, 2): 458,\n",
       " (19, 3): 459,\n",
       " (19, 4): 460,\n",
       " (19, 5): 461,\n",
       " (19, 6): 462,\n",
       " (19, 7): 463,\n",
       " (19, 8): 464,\n",
       " (19, 9): 465,\n",
       " (19, 10): 466,\n",
       " (19, 11): 467,\n",
       " (19, 12): 468,\n",
       " (19, 13): 469,\n",
       " (19, 14): 470,\n",
       " (19, 15): 471,\n",
       " (19, 16): 472,\n",
       " (19, 17): 473,\n",
       " (19, 18): 474,\n",
       " (19, 19): 475,\n",
       " (19, 20): 476,\n",
       " (19, 21): 477,\n",
       " (19, 22): 478,\n",
       " (19, 23): 479,\n",
       " (20, 0): 480,\n",
       " (20, 1): 481,\n",
       " (20, 2): 482,\n",
       " (20, 3): 483,\n",
       " (20, 4): 484,\n",
       " (20, 5): 485,\n",
       " (20, 6): 486,\n",
       " (20, 7): 487,\n",
       " (20, 8): 488,\n",
       " (20, 9): 489,\n",
       " (20, 10): 490,\n",
       " (20, 11): 491,\n",
       " (20, 12): 492,\n",
       " (20, 13): 493,\n",
       " (20, 14): 494,\n",
       " (20, 15): 495,\n",
       " (20, 16): 496,\n",
       " (20, 17): 497,\n",
       " (20, 18): 498,\n",
       " (20, 19): 499,\n",
       " (20, 20): 500,\n",
       " (20, 21): 501,\n",
       " (20, 22): 502,\n",
       " (20, 23): 503,\n",
       " (21, 0): 504,\n",
       " (21, 1): 505,\n",
       " (21, 2): 506,\n",
       " (21, 3): 507,\n",
       " (21, 4): 508,\n",
       " (21, 5): 509,\n",
       " (21, 6): 510,\n",
       " (21, 7): 511,\n",
       " (21, 8): 512,\n",
       " (21, 9): 513,\n",
       " (21, 10): 514,\n",
       " (21, 11): 515,\n",
       " (21, 12): 516,\n",
       " (21, 13): 517,\n",
       " (21, 14): 518,\n",
       " (21, 15): 519,\n",
       " (21, 16): 520,\n",
       " (21, 17): 521,\n",
       " (21, 18): 522,\n",
       " (21, 19): 523,\n",
       " (21, 20): 524,\n",
       " (21, 21): 525,\n",
       " (21, 22): 526,\n",
       " (21, 23): 527,\n",
       " (22, 0): 528,\n",
       " (22, 1): 529,\n",
       " (22, 2): 530,\n",
       " (22, 3): 531,\n",
       " (22, 4): 532,\n",
       " (22, 5): 533,\n",
       " (22, 6): 534,\n",
       " (22, 7): 535,\n",
       " (22, 8): 536,\n",
       " (22, 9): 537,\n",
       " (22, 10): 538,\n",
       " (22, 11): 539,\n",
       " (22, 12): 540,\n",
       " (22, 13): 541,\n",
       " (22, 14): 542,\n",
       " (22, 15): 543,\n",
       " (22, 16): 544,\n",
       " (22, 17): 545,\n",
       " (22, 18): 546,\n",
       " (22, 19): 547,\n",
       " (22, 20): 548,\n",
       " (22, 21): 549,\n",
       " (22, 22): 550,\n",
       " (22, 23): 551,\n",
       " (23, 0): 552,\n",
       " (23, 1): 553,\n",
       " (23, 2): 554,\n",
       " (23, 3): 555,\n",
       " (23, 4): 556,\n",
       " (23, 5): 557,\n",
       " (23, 6): 558,\n",
       " (23, 7): 559,\n",
       " (23, 8): 560,\n",
       " (23, 9): 561,\n",
       " (23, 10): 562,\n",
       " (23, 11): 563,\n",
       " (23, 12): 564,\n",
       " (23, 13): 565,\n",
       " (23, 14): 566,\n",
       " (23, 15): 567,\n",
       " (23, 16): 568,\n",
       " (23, 17): 569,\n",
       " (23, 18): 570,\n",
       " (23, 19): 571,\n",
       " (23, 20): 572,\n",
       " (23, 21): 573,\n",
       " (23, 22): 574,\n",
       " (23, 23): 575}"
      ]
     },
     "execution_count": 7,
     "metadata": {},
     "output_type": "execute_result"
    }
   ],
   "source": [
    "state2idx"
   ]
  },
  {
   "cell_type": "code",
   "execution_count": 8,
   "id": "a298e841",
   "metadata": {
    "id": "a298e841"
   },
   "outputs": [],
   "source": [
    "grid_helper = GridHelper(n)"
   ]
  },
  {
   "cell_type": "markdown",
   "id": "1e940474",
   "metadata": {
    "id": "1e940474"
   },
   "source": [
    "### Parameters"
   ]
  },
  {
   "cell_type": "markdown",
   "id": "75c911ff",
   "metadata": {},
   "source": [
    "#### Service Time and Arrival Rate"
   ]
  },
  {
   "cell_type": "code",
   "execution_count": 9,
   "id": "0c230aa8",
   "metadata": {
    "id": "0c230aa8"
   },
   "outputs": [],
   "source": [
    "# define an np array to hold the expected service time for each patient location and ambulance spot\n",
    "expected_service_time = np.zeros((n**2, 2))  # in hours\n",
    "for j in range(0, 2):\n",
    "    for i in range(n**2):\n",
    "        if j == 0:\n",
    "            man_distance = grid_helper.manhattan_distance(i, 0)\n",
    "        else:\n",
    "            man_distance = grid_helper.manhattan_distance(i, n**2 - 1)\n",
    "        expected_service_time[i, j] = np.random.normal(man_distance*4,1,1)/60 #here we are just generating numbers by using normal dist.\n",
    "\n",
    "# edge cases. We won't use these pairs in the implementation\n",
    "expected_service_time[0,0] = 0\n",
    "expected_service_time[0,1] = 0\n",
    "expected_service_time[n**2-1,0] = 0\n",
    "expected_service_time[n**2-1,1] = 0"
   ]
  },
  {
   "cell_type": "code",
   "execution_count": 10,
   "id": "2ee401a8",
   "metadata": {},
   "outputs": [
    {
     "data": {
      "text/plain": [
       "array([[ 0.        ,  0.        ],\n",
       "       [ 5.52790535, 29.42550989],\n",
       "       [ 7.02928906, 23.33524488],\n",
       "       [12.47055962, 20.98501786],\n",
       "       [15.89930328, 14.29953473],\n",
       "       [ 4.30379318, 26.89985619],\n",
       "       [ 6.27403757, 22.68435591],\n",
       "       [13.58509537, 20.81050091],\n",
       "       [16.13429659, 14.95522163],\n",
       "       [18.89314453, 11.31077063],\n",
       "       [ 9.57822555, 23.14724314],\n",
       "       [12.10749794, 21.11347211],\n",
       "       [15.23595217, 14.07883028],\n",
       "       [19.22481149, 11.29859758],\n",
       "       [25.38384717,  8.84908785],\n",
       "       [12.76038508, 21.05069979],\n",
       "       [15.71435449, 15.46312554],\n",
       "       [20.53836748, 11.97080728],\n",
       "       [21.91610337,  9.39405598],\n",
       "       [28.93778171,  3.60213256],\n",
       "       [15.994222  , 17.01912738],\n",
       "       [19.53252103, 13.8988813 ],\n",
       "       [23.5769847 ,  7.64515036],\n",
       "       [29.06448209,  3.61298353],\n",
       "       [ 0.        ,  0.        ]])"
      ]
     },
     "execution_count": 10,
     "metadata": {},
     "output_type": "execute_result"
    }
   ],
   "source": [
    "expected_service_time*60 # in minutes"
   ]
  },
  {
   "cell_type": "code",
   "execution_count": 11,
   "id": "e79cd893",
   "metadata": {},
   "outputs": [
    {
     "data": {
      "text/plain": [
       "array([[0.        , 0.        ],\n",
       "       [0.8361827 , 0.28811662],\n",
       "       [0.7589182 , 0.34853807],\n",
       "       [0.55151885, 0.37906598],\n",
       "       [0.46685315, 0.50307862],\n",
       "       [0.90207288, 0.31047285],\n",
       "       [0.79686205, 0.35649948],\n",
       "       [0.52102211, 0.3815424 ],\n",
       "       [0.46194673, 0.4876067 ],\n",
       "       [0.41097845, 0.58691961],\n",
       "       [0.64796853, 0.35080159],\n",
       "       [0.56217434, 0.37726315],\n",
       "       [0.48125472, 0.50849653],\n",
       "       [0.40557525, 0.5873129 ],\n",
       "       [0.32561311, 0.67698612],\n",
       "       [0.54327573, 0.37814205],\n",
       "       [0.47078518, 0.47622852],\n",
       "       [0.38546759, 0.56628409],\n",
       "       [0.36636709, 0.65510074],\n",
       "       [0.2921825 , 0.93772114],\n",
       "       [0.46485941, 0.44432639],\n",
       "       [0.40068424, 0.51299572],\n",
       "       [0.34566933, 0.72964483],\n",
       "       [0.29111542, 0.93719971],\n",
       "       [0.        , 0.        ]])"
      ]
     },
     "execution_count": 11,
     "metadata": {},
     "output_type": "execute_result"
    }
   ],
   "source": [
    "# probability of the service less than 10 minutes\n",
    "coverage_reward_prob_high = np.empty_like(expected_service_time)\n",
    "for i in range(expected_service_time.shape[0]):\n",
    "    for j in range(expected_service_time.shape[1]):\n",
    "        if expected_service_time[i, j] > 0:\n",
    "            coverage_reward_prob_high[i, j] = 1 - math.exp(-(1/expected_service_time[i, j]) * 1/6)\n",
    "        else:\n",
    "            coverage_reward_prob_high[i, j] = 0  # or np.nan if you prefer\n",
    "coverage_reward_prob_high"
   ]
  },
  {
   "cell_type": "code",
   "execution_count": 12,
   "id": "35aa2561",
   "metadata": {},
   "outputs": [],
   "source": [
    "coverage_reward_prob_low = coverage_reward_prob_high/100 #highly low reward for low priority patients"
   ]
  },
  {
   "cell_type": "code",
   "execution_count": 13,
   "id": "2a418be6",
   "metadata": {},
   "outputs": [],
   "source": [
    "# define an array with size 3 to keep the rewards for each ambulance, cell, and priority level\n",
    "# coverage_reward[patient_index, ambulance_index, priority_level]\n",
    "coverage_reward = np.zeros((n**2, 2, 2)) \n",
    "\n",
    "coverage_reward[:, 0, 0] = coverage_reward_prob_low[:, 0]  # all patients, first ambulance, low priority\n",
    "coverage_reward[:, 0, 1] = coverage_reward_prob_high[:, 0] # all patients, first ambulance, high priority\n",
    "\n",
    "coverage_reward[:, 1, 0] = coverage_reward_prob_low[:, 1] # all patients, second ambulance, low priority\n",
    "coverage_reward[:, 1, 1] = coverage_reward_prob_high[:, 1] # all patients, second ambulance, high priority"
   ]
  },
  {
   "cell_type": "code",
   "execution_count": 14,
   "id": "726b10d4",
   "metadata": {
    "id": "726b10d4"
   },
   "outputs": [],
   "source": [
    "arr_rate = 0.5         # arrivals per hour"
   ]
  },
  {
   "cell_type": "markdown",
   "id": "b39d07c7",
   "metadata": {},
   "source": [
    "#### Probability of a Request from the Cells"
   ]
  },
  {
   "cell_type": "code",
   "execution_count": 15,
   "id": "40a7c8dc",
   "metadata": {
    "id": "40a7c8dc"
   },
   "outputs": [],
   "source": [
    "P = np.zeros(n**2) # arrival-location pmf\n",
    "for i in range(n**2):\n",
    "    # The first and last indices are the hospitals, so we set their probabilities to 0.\n",
    "    # This means that the ambulance will never be dispatched to these locations.\n",
    "    if i == 0 or i == n**2 - 1:\n",
    "        P[i] = 0.0\n",
    "    else:\n",
    "        P[i] = np.random.uniform(0, 1)\n",
    "P /= np.sum(P)\n",
    "# round to 2 decimal points\n",
    "P = np.round(P, 4)"
   ]
  },
  {
   "cell_type": "code",
   "execution_count": 16,
   "id": "1b5b7449",
   "metadata": {
    "id": "1b5b7449",
    "outputId": "affbae21-ce0c-4e40-e1e3-6db02231f45c"
   },
   "outputs": [
    {
     "data": {
      "text/plain": [
       "array([0.    , 0.0652, 0.0544, 0.0258, 0.0459, 0.0503, 0.0474, 0.011 ,\n",
       "       0.0491, 0.0392, 0.0114, 0.0025, 0.0747, 0.0204, 0.0045, 0.0308,\n",
       "       0.0284, 0.0784, 0.0747, 0.0463, 0.079 , 0.0787, 0.0688, 0.0129,\n",
       "       0.    ])"
      ]
     },
     "execution_count": 16,
     "metadata": {},
     "output_type": "execute_result"
    }
   ],
   "source": [
    "P"
   ]
  },
  {
   "cell_type": "code",
   "execution_count": 17,
   "id": "a781e036",
   "metadata": {},
   "outputs": [
    {
     "name": "stdout",
     "output_type": "stream",
     "text": [
      "0.9998\n"
     ]
    }
   ],
   "source": [
    "print(np.sum(P))  # should be 1.0"
   ]
  },
  {
   "cell_type": "code",
   "execution_count": 18,
   "id": "b826614d",
   "metadata": {},
   "outputs": [
    {
     "data": {
      "image/png": "[encoded data removed]",
      "text/plain": [
       "<Figure size 600x400 with 2 Axes>"
      ]
     },
     "metadata": {},
     "output_type": "display_data"
    }
   ],
   "source": [
    "# heatmap representation of the arrival probabilities\n",
    "plt.figure(figsize=(6, 4))\n",
    "sns.heatmap(P.reshape(n, n), annot=True, cmap='Blues', square=True, linewidths=0.5)  \n",
    "plt.title('Arrival Probabilities')\n",
    "plt.xticks(ticks=np.arange(n) + 0.5, labels=np.arange(n))\n",
    "plt.yticks(ticks=np.arange(n) + 0.5, labels=np.arange(n))\n",
    "plt.grid(False)\n",
    "plt.show()"
   ]
  },
  {
   "cell_type": "markdown",
   "id": "1374fd07",
   "metadata": {},
   "source": [
    "#### Conditional Probability Values for High and Low Priority Patients"
   ]
  },
  {
   "cell_type": "code",
   "execution_count": 19,
   "id": "bdda6c71",
   "metadata": {},
   "outputs": [],
   "source": [
    "def assign_probabilities(size: int, low_range=(0.35, 0.60),  high_range=(0.50, 0.75)):\n",
    "    \n",
    "    probs = np.zeros((size, size), dtype=float)\n",
    "    max_idx = size - 1\n",
    "\n",
    "    for r in range(size):\n",
    "        for c in range(size):\n",
    "            # Skip the two corner cells – they stay at 0.\n",
    "            if (r == 0 and c == 0) or (r == max_idx and c == max_idx):\n",
    "                continue\n",
    "            \n",
    "            d_ul = r + c                          # distance to (0, 0)\n",
    "            d_lr = (max_idx - r) + (max_idx - c)  # distance to (max_idx, max_idx)\n",
    "\n",
    "            if d_ul < d_lr:                       # closer to upper-left\n",
    "                probs[r, c] = random.uniform(*high_range)\n",
    "            else:                                 # closer to lower-right\n",
    "                probs[r, c] = random.uniform(*low_range)\n",
    "    return probs\n"
   ]
  },
  {
   "cell_type": "code",
   "execution_count": 20,
   "id": "afe88afc",
   "metadata": {},
   "outputs": [],
   "source": [
    "P_low = assign_probabilities(n)  # deterministic run\n",
    "P_high = np.zeros(n**2)\n",
    "P_high = 1 - P_low\n",
    "P_high[0, 0] = 0.0  # hospital at (0, 0) has no probability\n",
    "P_high[-1, -1] = 0.0  # hospital at (n"
   ]
  },
  {
   "cell_type": "code",
   "execution_count": 21,
   "id": "10aef0e3",
   "metadata": {},
   "outputs": [
    {
     "data": {
      "image/png": "[encoded data removed]",
      "text/plain": [
       "<Figure size 900x400 with 4 Axes>"
      ]
     },
     "metadata": {},
     "output_type": "display_data"
    }
   ],
   "source": [
    "# show P_low and P_high heatmaps side by side\n",
    "fig, axes = plt.subplots(1, 2, figsize=(9, 4))\n",
    "sns.heatmap(P_low.reshape(n, n),  annot=True, fmt=\".2f\", ax=axes[0], cmap=\"YlGnBu\")\n",
    "axes[0].set_title(\"P_low\")  \n",
    "sns.heatmap(P_high.reshape(n, n), annot=True, fmt=\".2f\", ax=axes[1], cmap=\"YlGnBu\")\n",
    "axes[1].set_title(\"P_high\")\n",
    "plt.tight_layout()\n",
    "plt.show()"
   ]
  },
  {
   "cell_type": "code",
   "execution_count": 22,
   "id": "6db07c0c",
   "metadata": {},
   "outputs": [],
   "source": [
    "# combine P_low and P_high into two-dimensional array\n",
    "P_pri_combined = np.zeros((2, n**2))\n",
    "# assign P_low to first row and P_high to second row\n",
    "P_pri_combined[0, :] = P_low.flatten()\n",
    "P_pri_combined[1, :] = P_high.flatten()"
   ]
  },
  {
   "cell_type": "markdown",
   "id": "f778df9b",
   "metadata": {},
   "source": [
    "### Actions"
   ]
  },
  {
   "cell_type": "code",
   "execution_count": 23,
   "id": "451fb0a6",
   "metadata": {},
   "outputs": [],
   "source": [
    "def actions(s):\n",
    "    idle_providers = []\n",
    "    if s[0] == 0:  idle_providers.append(0)   # provider at cell 0\n",
    "    if s[1] == 0:  idle_providers.append(1)   # here 1 indicated the second ambulance which is at cell n**2 - 1\n",
    "    return idle_providers if idle_providers else [None]   # None = null dispatch"
   ]
  },
  {
   "cell_type": "code",
   "execution_count": 24,
   "id": "61f586c0",
   "metadata": {},
   "outputs": [],
   "source": [
    "def actions_alt(s):\n",
    "    idle_providers = []\n",
    "    #if s[0] == 0:  idle_providers.append(0)   # provider at cell 0\n",
    "    if s[1] == 0:  idle_providers.append(1)   # here 1 indicated the second ambulance which is at cell n**2 - 1\n",
    "    return idle_providers if idle_providers else [None]   # None = null dispatch"
   ]
  },
  {
   "cell_type": "markdown",
   "id": "ad1e9a87",
   "metadata": {
    "id": "ad1e9a87"
   },
   "source": [
    "### Event Rates"
   ]
  },
  {
   "cell_type": "code",
   "execution_count": 25,
   "id": "93119305",
   "metadata": {},
   "outputs": [
    {
     "data": {
      "text/plain": [
       "array([[ 0.        ,  0.        ],\n",
       "       [10.85402086,  2.03904708],\n",
       "       [ 8.53571385,  2.57121793],\n",
       "       [ 4.8113318 ,  2.8591827 ],\n",
       "       [ 3.77375027,  4.19594072],\n",
       "       [13.94119035,  2.2304952 ],\n",
       "       [ 9.56321975,  2.64499465],\n",
       "       [ 4.41660499,  2.88315982],\n",
       "       [ 3.71878623,  4.01197665],\n",
       "       [ 3.17575509,  5.30467834],\n",
       "       [ 6.2642083 ,  2.59210134],\n",
       "       [ 4.95560687,  2.84178745],\n",
       "       [ 3.93805384,  4.26171769],\n",
       "       [ 3.12096688,  5.31039357],\n",
       "       [ 2.3637079 ,  6.78035985],\n",
       "       [ 4.70205245,  2.85026154],\n",
       "       [ 3.81816511,  3.88019872],\n",
       "       [ 2.92136169,  5.0121933 ],\n",
       "       [ 2.73771295,  6.3870175 ],\n",
       "       [ 2.07341394, 16.65679956],\n",
       "       [ 3.75135471,  3.52544514],\n",
       "       [ 3.0718001 ,  4.31689419],\n",
       "       [ 2.54485469,  7.84811249],\n",
       "       [ 2.06437534, 16.60677374],\n",
       "       [ 0.        ,  0.        ]])"
      ]
     },
     "execution_count": 25,
     "metadata": {},
     "output_type": "execute_result"
    }
   ],
   "source": [
    "# probability of the service less than 10 minutes\n",
    "inversed_expected_service_time = np.empty_like(expected_service_time)\n",
    "for i in range(expected_service_time.shape[0]):\n",
    "    for j in range(expected_service_time.shape[1]):\n",
    "        if expected_service_time[i, j] > 0:\n",
    "            inversed_expected_service_time[i, j] = 1/expected_service_time[i, j]\n",
    "        else:\n",
    "            inversed_expected_service_time[i, j] = 0  # or np.nan \n",
    "inversed_expected_service_time"
   ]
  },
  {
   "cell_type": "code",
   "execution_count": 26,
   "id": "21b83360",
   "metadata": {
    "id": "21b83360",
    "outputId": "7041b9cb-eae1-494e-f2a5-27d9cfef3637"
   },
   "outputs": [
    {
     "name": "stdout",
     "output_type": "stream",
     "text": [
      "Maximum service time for ambulance 0: 13.941190346445088\n",
      "Maximum service time for ambulance 1: 16.656799556970213\n"
     ]
    }
   ],
   "source": [
    "mu_max_0 = np.max(inversed_expected_service_time[:,0])\n",
    "mu_max_1 = np.max(inversed_expected_service_time[:,1])\n",
    "\n",
    "print(\"Maximum service time for ambulance 0:\", mu_max_0)\n",
    "print(\"Maximum service time for ambulance 1:\", mu_max_1)"
   ]
  },
  {
   "cell_type": "code",
   "execution_count": 27,
   "id": "f0065397",
   "metadata": {
    "id": "f0065397",
    "outputId": "110acd5e-21bf-46fe-e276-17b9b021722d"
   },
   "outputs": [
    {
     "data": {
      "text/plain": [
       "31.097989903415304"
      ]
     },
     "execution_count": 27,
     "metadata": {},
     "output_type": "execute_result"
    }
   ],
   "source": [
    "# this is needed for the normalization procedure. Here normalization is a process of transforming a continuous \n",
    "# Markov Decision Process (MDP) into a discrete one by scaling transition probabilities.\n",
    "gamma = arr_rate + (mu_max_0 + mu_max_1)\n",
    "gamma"
   ]
  },
  {
   "cell_type": "markdown",
   "id": "be6ff98a",
   "metadata": {
    "id": "be6ff98a"
   },
   "source": [
    "## Transitions"
   ]
  },
  {
   "cell_type": "code",
   "execution_count": 28,
   "id": "720f06d3",
   "metadata": {
    "id": "720f06d3"
   },
   "outputs": [],
   "source": [
    "def transitions(s, a):\n",
    "    \n",
    "    # input:  (state s, action a)\n",
    "    # output: (next_state, prob, reward) !not one, all possible transitions starting from state s with an action a\n",
    "    \n",
    "    grid_size = n\n",
    "    state_info = defaultdict(lambda: {\"reward\": 0.0, \"prob\": 0.0})\n",
    "\n",
    "    # --- 1. Service completions ------------------------------------------\n",
    "    for p_idx, provider_cell in enumerate((0, 1)): # to understand these, you need to remember the state representation which is a\n",
    "        # tuple of two indices representing the ambulances' positions or 0 if the ambulance is idle. Also we have two ambulances which are\n",
    "        # represented by indices 0 and 1.\n",
    "        job = s[p_idx]\n",
    "        if job != 0:\n",
    "            rate   = inversed_expected_service_time[job, provider_cell]\n",
    "            prob   = rate / gamma\n",
    "            s_next = list(s)                # copy current state\n",
    "            s_next[p_idx] = 0               # provider becomes idle\n",
    "            state_info[tuple(s_next)][\"reward\"] += 0.0\n",
    "            state_info[tuple(s_next)][\"prob\"]   += prob\n",
    "\n",
    "    # --- 2. Customer arrival ---------------------------------------------\n",
    "    prob_arr = arr_rate / gamma\n",
    "    for i in range(grid_size**2):\n",
    "        for j in range(2): # this is for two priorities (low(0) and high(1))\n",
    "            if P[i] == 0:               # skip provider cells\n",
    "                continue\n",
    "            if a is None:               # both providers busy ⇒ null dispatch\n",
    "                # here, you may want to count total number of request that are not served\n",
    "                s_next = s             # state unchanged\n",
    "                state_info[s_next][\"reward\"] += 0.0\n",
    "                state_info[s_next][\"prob\"]   += prob_arr * P[i] * P_pri_combined[j, i]\n",
    "            else:         # dispatch chosen idle provider\n",
    "                p_idx = 0 if a == 0 else 1 # you can also use 'a' directly as an index since it is either 0 or 1\n",
    "                s_next = list(s)\n",
    "                s_next[p_idx] = i\n",
    "                state_info[tuple(s_next)][\"reward\"] += coverage_reward[i, a, j]\n",
    "                state_info[tuple(s_next)][\"prob\"]   += prob_arr * P[i] * P_pri_combined[j, i]\n",
    "                             \n",
    "    # --- 3. Dummy self-loop ----------------------------------------------\n",
    "    total_prob = sum(s[\"prob\"] for s in state_info.values())\n",
    " \n",
    "    residual_prob = 1.0 - total_prob\n",
    "    \n",
    "    state_info[s][\"reward\"] += 0.0\n",
    "    state_info[s][\"prob\"] += residual_prob\n",
    "\n",
    "    # convert to list of tuples\n",
    "    return [(ns, info[\"prob\"], info[\"reward\"]) for ns, info in state_info.items()]"
   ]
  },
  {
   "cell_type": "markdown",
   "id": "fnzHqj8rZtsN",
   "metadata": {
    "id": "fnzHqj8rZtsN"
   },
   "source": [
    "## Relative Value Iteration"
   ]
  },
  {
   "cell_type": "code",
   "execution_count": 29,
   "id": "3efb8561",
   "metadata": {
    "id": "3efb8561"
   },
   "outputs": [],
   "source": [
    "def rvi(eps=1e-12, max_iter=10000):\n",
    "    V = np.zeros(len(states))\n",
    "    # best action value for each state\n",
    "    \n",
    "    g = 0.0                             # bias estimate\n",
    "    #ref = 0                            # choose arbitrary reference state. ! this was changed\n",
    " \n",
    "    for it in range(max_iter):\n",
    "        V_new = np.empty_like(V) # this will create a new array with the same shape and dtype as V but its contents are uninitialized\n",
    "        g_num = 0.0\n",
    "\n",
    "        for k, s in enumerate(states):\n",
    "            best = -np.inf\n",
    "            for a in actions(s):\n",
    "                q = 0.0\n",
    "                for ns, p, r in transitions(s, a): # this was already defined above. It's quite critical to understand how the transitions work\n",
    "                    q += p * (r + V[state2idx[ns]])\n",
    "                best = max(best, q)\n",
    "            V_new[k] = best\n",
    "            g_num  += best\n",
    "\n",
    "        g_new = g_num / len(states)      # average over states\n",
    "        #V_new -= V_new[ref]             # anchor\n",
    "        V_new -= min(V_new)              # here we are choosing the state with minimum value as the reference one.\n",
    "        \n",
    "        if it % 100 == 0:\n",
    "            print(f\"Iteration {it}, g = {g:.4f}, max |V_new - V| = {np.max(np.abs(V_new - V)):.10f}\")\n",
    "            \n",
    "        if np.max(np.abs(V_new - V)) < eps:\n",
    "            return g_new, V_new\n",
    "\n",
    "        V, g = V_new, g_new\n",
    "\n",
    "    raise RuntimeError(\"RVI failed to converge\")"
   ]
  },
  {
   "cell_type": "code",
   "execution_count": 30,
   "id": "46f94722",
   "metadata": {},
   "outputs": [
    {
     "name": "stdout",
     "output_type": "stream",
     "text": [
      "Iteration 0, g = 0.0000, max |V_new - V| = 0.0083130143\n",
      "Iteration 100, g = 0.0468, max |V_new - V| = 0.0000018716\n",
      "Iteration 200, g = 0.0469, max |V_new - V| = 0.0000000020\n",
      "Iteration 300, g = 0.0469, max |V_new - V| = 0.0000000000\n"
     ]
    }
   ],
   "source": [
    "final_average_reward, V = rvi()"
   ]
  },
  {
   "cell_type": "code",
   "execution_count": 31,
   "id": "13c9e133",
   "metadata": {},
   "outputs": [],
   "source": [
    "#V"
   ]
  },
  {
   "cell_type": "code",
   "execution_count": 32,
   "id": "73e3b259",
   "metadata": {},
   "outputs": [
    {
     "name": "stdout",
     "output_type": "stream",
     "text": [
      "0.0468724242374796\n"
     ]
    }
   ],
   "source": [
    "print(final_average_reward)"
   ]
  },
  {
   "cell_type": "markdown",
   "id": "a2b9b9ee",
   "metadata": {},
   "source": [
    "## Policy Generation"
   ]
  },
  {
   "cell_type": "markdown",
   "id": "be8046a8",
   "metadata": {},
   "source": [
    "In a scenario with only two ambulances, the state (0,0) is of particular interest, as it represents the case where both ambulances are idle. If only one ambulance is available when a patient request arrives, that ambulance must be dispatched immediately—regardless of the request's priority level—since no other resources are free to respond."
   ]
  },
  {
   "cell_type": "code",
   "execution_count": 33,
   "id": "fb262946",
   "metadata": {},
   "outputs": [],
   "source": [
    "# I need to find the best actions for the state (0, 0) which is the initial state where both ambulances are idle\n",
    "# this is needed for each patient location and priority level\n",
    "\n",
    "def best_actions():\n",
    "    s = (0,0)\n",
    "    best_actions = {}\n",
    "    for i in range(n**2):\n",
    "        if P[i] == 0:\n",
    "            continue\n",
    "        else:\n",
    "            for pri in range(2):\n",
    "                best_action = None\n",
    "                best_value = -np.inf\n",
    "                for a in actions(s):\n",
    "                    s_next = s\n",
    "                    s_next = list(s_next)\n",
    "                    s_next[a] = i \n",
    "                    state_value = V[state2idx[tuple(s_next)]] # state value of the next state\n",
    "                    immediate_reward = coverage_reward[i, a, pri] # immediate reward\n",
    "                    value = state_value + immediate_reward\n",
    "                    #print(f\"State: {s}, Action: {a}, Next State: {s_next}, Priority: {pri}, Immediate: {immediate_reward}, StateValue: {state_value}, Total Value: {value}\")\n",
    "                    if value > best_value:\n",
    "                        best_value = value\n",
    "                        best_action = a\n",
    "                best_actions[(i, pri)] = best_action\n",
    "    return best_actions"
   ]
  },
  {
   "cell_type": "code",
   "execution_count": 34,
   "id": "0d99e380",
   "metadata": {},
   "outputs": [],
   "source": [
    "all_best_actions = best_actions()"
   ]
  },
  {
   "cell_type": "code",
   "execution_count": 35,
   "id": "30ea7358",
   "metadata": {},
   "outputs": [],
   "source": [
    "# for priority level 0 patients, show the best actions for each patient location on the grid \n",
    "best_action_grid_pri_0 = np.full((n, n), -1)\n",
    "for i in range(n**2):\n",
    "    if P[i] == 0:\n",
    "        continue\n",
    "    else:\n",
    "        action = all_best_actions[(i, 0)]\n",
    "        best_action_grid_pri_0[grid_helper.index_to_coord(i)] = action\n",
    "\n",
    "# for priority level 1 patients, show the best actions for each patient location on the grid \n",
    "best_action_grid_pri_1 = np.full((n, n), -1)\n",
    "for i in range(n**2):\n",
    "    if P[i] == 0:\n",
    "        continue\n",
    "    else:\n",
    "        action = all_best_actions[(i, 1)]\n",
    "        best_action_grid_pri_1[grid_helper.index_to_coord(i)] = action"
   ]
  },
  {
   "cell_type": "code",
   "execution_count": 36,
   "id": "021e1e90",
   "metadata": {},
   "outputs": [
    {
     "data": {
      "image/png": "[encoded data removed]",
      "text/plain": [
       "<Figure size 600x300 with 2 Axes>"
      ]
     },
     "metadata": {},
     "output_type": "display_data"
    }
   ],
   "source": [
    "# visualize best_action_grid_pri_0 and best_action_grid_pri_1 on a heatmap and plot them side by side\n",
    "fig, axes = plt.subplots(1, 2, figsize=(6, 3))\n",
    "sns.heatmap(best_action_grid_pri_0, annot=True, fmt=\".0f\", ax=axes[0], cmap=\"YlGnBu\", cbar=False, square=True)\n",
    "axes[0].set_title(\"Best Actions for Priority 0 Patients\")  \n",
    "sns.heatmap(best_action_grid_pri_1, annot=True, fmt=\".0f\", ax=axes[1], cmap=\"YlGnBu\", cbar=False, square=True)\n",
    "axes[1].set_title(\"Best Actions for Priority 1 Patients\")\n",
    "plt.tight_layout()\n",
    "plt.show()  "
   ]
  }
 ],
 "metadata": {
  "colab": {
   "provenance": []
  },
  "kernelspec": {
   "display_name": "ml_environment",
   "language": "python",
   "name": "python3"
  },
  "language_info": {
   "codemirror_mode": {
    "name": "ipython",
    "version": 3
   },
   "file_extension": ".py",
   "mimetype": "text/x-python",
   "name": "python",
   "nbconvert_exporter": "python",
   "pygments_lexer": "ipython3",
   "version": "3.8.19"
  }
 },
 "nbformat": 4,
 "nbformat_minor": 5
}

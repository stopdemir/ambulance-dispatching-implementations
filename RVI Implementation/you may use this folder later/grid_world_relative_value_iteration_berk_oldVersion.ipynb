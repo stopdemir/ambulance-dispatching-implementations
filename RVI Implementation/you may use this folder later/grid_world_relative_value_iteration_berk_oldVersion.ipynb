{
 "cells": [
  {
   "cell_type": "markdown",
   "id": "72e84fd5",
   "metadata": {
    "id": "72e84fd5"
   },
   "source": [
    "# RVI Implementation for Infinite-Horizon, Undiscounted, Average-Reward MDP"
   ]
  },
  {
   "cell_type": "markdown",
   "id": "88e79c4b",
   "metadata": {},
   "source": [
    "This implementation is for finding an optimal policy for an ambulance dispatching problem on a grid-world. An infinite-horizon, undiscounted, average reward MDP model is defined. An optimal policy and relative state values have been achieved at the end of the implementation."
   ]
  },
  {
   "cell_type": "markdown",
   "id": "5b0eee8e",
   "metadata": {
    "id": "5b0eee8e"
   },
   "source": [
    "## Setup"
   ]
  },
  {
   "cell_type": "markdown",
   "id": "7addfeff",
   "metadata": {
    "id": "7addfeff"
   },
   "source": [
    "### Libraries & Helper Class"
   ]
  },
  {
   "cell_type": "code",
   "execution_count": 1,
   "id": "0addbbb1",
   "metadata": {
    "id": "0addbbb1"
   },
   "outputs": [],
   "source": [
    "from collections import defaultdict # this is a useful data structure for storing the transition probabilities and rewards for each state\n",
    "\n",
    "import numpy as np\n",
    "np.random.seed(30)\n",
    "\n",
    "import math\n",
    "import random\n",
    "\n",
    "import matplotlib.pyplot as plt\n",
    "import seaborn as sns"
   ]
  },
  {
   "cell_type": "code",
   "execution_count": 2,
   "id": "pz0zV_sJNhO7",
   "metadata": {
    "colab": {
     "base_uri": "https://localhost:8080/"
    },
    "executionInfo": {
     "elapsed": 16613,
     "status": "ok",
     "timestamp": 1752786428574,
     "user": {
      "displayName": "Süleyman Topdemir",
      "userId": "16596065092214686472"
     },
     "user_tz": 240
    },
    "id": "pz0zV_sJNhO7",
    "outputId": "29194b6f-bba6-4dde-d185-fc2b0ed3f1e7"
   },
   "outputs": [],
   "source": [
    "# from google.colab import drive\n",
    "# drive.mount('/content/drive')\n",
    "# show gridworld_visual picture which in the path /content/drive/MyDrive/Average Reward MDP Policy Optimization/gridworld_visual.png\n",
    "# from IPython.display import Image\n",
    "# Image(filename='/content/drive/MyDrive/Average Reward MDP Policy Optimization/gridworld_visual.png', width=300)"
   ]
  },
  {
   "cell_type": "code",
   "execution_count": 3,
   "id": "940a68d9",
   "metadata": {
    "id": "940a68d9"
   },
   "outputs": [],
   "source": [
    "from typing import Tuple\n",
    "\n",
    "class GridHelper:\n",
    "    def __init__(self, n: int):\n",
    "        self.n: int = n\n",
    "\n",
    "    def coord_to_index(self, x: int, y: int) -> int:\n",
    "        return x * self.n + y\n",
    "\n",
    "    def index_to_coord(self, index: int) -> Tuple[int, int]:\n",
    "        return divmod(index, self.n)\n",
    "\n",
    "    def manhattan_distance(self, a: int, b: int) -> int:\n",
    "        ax, ay = self.index_to_coord(a)\n",
    "        bx, by = self.index_to_coord(b)\n",
    "        return abs(ax - bx) + abs(ay - by)"
   ]
  },
  {
   "cell_type": "markdown",
   "id": "244bba71",
   "metadata": {
    "id": "244bba71"
   },
   "source": [
    "### States and Helpers"
   ]
  },
  {
   "cell_type": "code",
   "execution_count": 4,
   "id": "5098bb93",
   "metadata": {
    "id": "5098bb93"
   },
   "outputs": [],
   "source": [
    "n = 5 # Size of the grid\n",
    "\n",
    "first_ambulance_index = 0\n",
    "last_ambulance_index = n**2 - 1\n",
    "\n",
    "states = [(a1, a2) for a1 in range(0, n**2 - 1) for a2 in range(0, n**2 - 1) if a1 != a2]\n",
    "states.append((0, 0))"
   ]
  },
  {
   "cell_type": "code",
   "execution_count": 5,
   "id": "a7f2d893",
   "metadata": {
    "id": "a7f2d893",
    "outputId": "66ecbcf3-8703-440e-aaf3-57c7c1f9d698"
   },
   "outputs": [
    {
     "name": "stdout",
     "output_type": "stream",
     "text": [
      "Total number of states: 553\n"
     ]
    }
   ],
   "source": [
    "print(\"Total number of states:\", len(states))"
   ]
  },
  {
   "cell_type": "code",
   "execution_count": 6,
   "id": "316ef617",
   "metadata": {
    "id": "316ef617"
   },
   "outputs": [],
   "source": [
    "# we need to map states to indices for easier access\n",
    "state2idx = {s: k for k, s in enumerate(states)}"
   ]
  },
  {
   "cell_type": "code",
   "execution_count": 7,
   "id": "a298e841",
   "metadata": {
    "id": "a298e841"
   },
   "outputs": [],
   "source": [
    "grid_helper = GridHelper(n)"
   ]
  },
  {
   "cell_type": "markdown",
   "id": "1e940474",
   "metadata": {
    "id": "1e940474"
   },
   "source": [
    "### Parameters"
   ]
  },
  {
   "cell_type": "markdown",
   "id": "75c911ff",
   "metadata": {},
   "source": [
    "#### Service Time and Arrival Rate"
   ]
  },
  {
   "cell_type": "code",
   "execution_count": 8,
   "id": "0c230aa8",
   "metadata": {
    "id": "0c230aa8"
   },
   "outputs": [],
   "source": [
    "# define an np array to hold the expected service time for each patient location and ambulance spot\n",
    "expected_service_time = np.zeros((n**2, 2))  # in hours\n",
    "for j in range(0, 2):\n",
    "    for i in range(n**2):\n",
    "        if j == 0:\n",
    "            man_distance = grid_helper.manhattan_distance(i, 0)\n",
    "        else:\n",
    "            man_distance = grid_helper.manhattan_distance(i, n**2 - 1)\n",
    "        expected_service_time[i, j] = np.random.normal(man_distance*4,1,1)/60 #here we are just generating numbers by using normal dist.\n",
    "\n",
    "# edge cases. We won't use these pairs in the implementation\n",
    "expected_service_time[0,0] = 0\n",
    "expected_service_time[0,1] = 0\n",
    "expected_service_time[n**2-1,0] = 0\n",
    "expected_service_time[n**2-1,1] = 0"
   ]
  },
  {
   "cell_type": "code",
   "execution_count": 9,
   "id": "2ee401a8",
   "metadata": {},
   "outputs": [
    {
     "data": {
      "text/plain": [
       "array([[ 0.        ,  0.        ],\n",
       "       [ 5.52790535, 29.42550989],\n",
       "       [ 7.02928906, 23.33524488],\n",
       "       [12.47055962, 20.98501786],\n",
       "       [15.89930328, 14.29953473],\n",
       "       [ 4.30379318, 26.89985619],\n",
       "       [ 6.27403757, 22.68435591],\n",
       "       [13.58509537, 20.81050091],\n",
       "       [16.13429659, 14.95522163],\n",
       "       [18.89314453, 11.31077063],\n",
       "       [ 9.57822555, 23.14724314],\n",
       "       [12.10749794, 21.11347211],\n",
       "       [15.23595217, 14.07883028],\n",
       "       [19.22481149, 11.29859758],\n",
       "       [25.38384717,  8.84908785],\n",
       "       [12.76038508, 21.05069979],\n",
       "       [15.71435449, 15.46312554],\n",
       "       [20.53836748, 11.97080728],\n",
       "       [21.91610337,  9.39405598],\n",
       "       [28.93778171,  3.60213256],\n",
       "       [15.994222  , 17.01912738],\n",
       "       [19.53252103, 13.8988813 ],\n",
       "       [23.5769847 ,  7.64515036],\n",
       "       [29.06448209,  3.61298353],\n",
       "       [ 0.        ,  0.        ]])"
      ]
     },
     "execution_count": 9,
     "metadata": {},
     "output_type": "execute_result"
    }
   ],
   "source": [
    "expected_service_time*60 # in minutes"
   ]
  },
  {
   "cell_type": "code",
   "execution_count": 10,
   "id": "e79cd893",
   "metadata": {},
   "outputs": [
    {
     "data": {
      "text/plain": [
       "array([[0.        , 0.        ],\n",
       "       [0.8361827 , 0.28811662],\n",
       "       [0.7589182 , 0.34853807],\n",
       "       [0.55151885, 0.37906598],\n",
       "       [0.46685315, 0.50307862],\n",
       "       [0.90207288, 0.31047285],\n",
       "       [0.79686205, 0.35649948],\n",
       "       [0.52102211, 0.3815424 ],\n",
       "       [0.46194673, 0.4876067 ],\n",
       "       [0.41097845, 0.58691961],\n",
       "       [0.64796853, 0.35080159],\n",
       "       [0.56217434, 0.37726315],\n",
       "       [0.48125472, 0.50849653],\n",
       "       [0.40557525, 0.5873129 ],\n",
       "       [0.32561311, 0.67698612],\n",
       "       [0.54327573, 0.37814205],\n",
       "       [0.47078518, 0.47622852],\n",
       "       [0.38546759, 0.56628409],\n",
       "       [0.36636709, 0.65510074],\n",
       "       [0.2921825 , 0.93772114],\n",
       "       [0.46485941, 0.44432639],\n",
       "       [0.40068424, 0.51299572],\n",
       "       [0.34566933, 0.72964483],\n",
       "       [0.29111542, 0.93719971],\n",
       "       [0.        , 0.        ]])"
      ]
     },
     "execution_count": 10,
     "metadata": {},
     "output_type": "execute_result"
    }
   ],
   "source": [
    "# probability of the service less than 10 minutes\n",
    "coverage_reward_prob_high = np.empty_like(expected_service_time)\n",
    "for i in range(expected_service_time.shape[0]):\n",
    "    for j in range(expected_service_time.shape[1]):\n",
    "        if expected_service_time[i, j] > 0:\n",
    "            coverage_reward_prob_high[i, j] = 1 - math.exp(-(1/expected_service_time[i, j]) * 1/6)\n",
    "        else:\n",
    "            coverage_reward_prob_high[i, j] = 0  # or np.nan if you prefer\n",
    "coverage_reward_prob_high"
   ]
  },
  {
   "cell_type": "code",
   "execution_count": 11,
   "id": "35aa2561",
   "metadata": {},
   "outputs": [],
   "source": [
    "coverage_reward_prob_low = coverage_reward_prob_high/100 #highly low reward for low priority patients"
   ]
  },
  {
   "cell_type": "code",
   "execution_count": 12,
   "id": "2a418be6",
   "metadata": {},
   "outputs": [],
   "source": [
    "# define an array with size 3 to keep the rewards for each ambulance, cell, and priority level\n",
    "# coverage_reward[patient_index, ambulance_index, priority_level]\n",
    "coverage_reward = np.zeros((n**2, 2, 2)) \n",
    "\n",
    "coverage_reward[:, 0, 0] = coverage_reward_prob_low[:, 0]  # all patients, first ambulance, low priority\n",
    "coverage_reward[:, 0, 1] = coverage_reward_prob_high[:, 0] # all patients, first ambulance, high priority\n",
    "\n",
    "coverage_reward[:, 1, 0] = coverage_reward_prob_low[:, 1] # all patients, second ambulance, low priority\n",
    "coverage_reward[:, 1, 1] = coverage_reward_prob_high[:, 1] # all patients, second ambulance, high priority"
   ]
  },
  {
   "cell_type": "code",
   "execution_count": 13,
   "id": "726b10d4",
   "metadata": {
    "id": "726b10d4"
   },
   "outputs": [],
   "source": [
    "arr_rate = 5         # arrivals per hour"
   ]
  },
  {
   "cell_type": "markdown",
   "id": "b39d07c7",
   "metadata": {},
   "source": [
    "#### Probability of a Request from the Cells"
   ]
  },
  {
   "cell_type": "code",
   "execution_count": 14,
   "id": "40a7c8dc",
   "metadata": {
    "id": "40a7c8dc"
   },
   "outputs": [],
   "source": [
    "P = np.zeros(n**2) # arrival-location pmf\n",
    "for i in range(n**2):\n",
    "    # The first and last indices are the hospitals, so we set their probabilities to 0.\n",
    "    # This means that the ambulance will never be dispatched to these locations.\n",
    "    if i == 0 or i == n**2 - 1:\n",
    "        P[i] = 0.0\n",
    "    else:\n",
    "        P[i] = np.random.uniform(0, 1)\n",
    "P /= np.sum(P)\n",
    "# round to 2 decimal points\n",
    "P = np.round(P, 4)"
   ]
  },
  {
   "cell_type": "code",
   "execution_count": 15,
   "id": "1b5b7449",
   "metadata": {
    "id": "1b5b7449",
    "outputId": "affbae21-ce0c-4e40-e1e3-6db02231f45c"
   },
   "outputs": [
    {
     "data": {
      "text/plain": [
       "array([0.    , 0.0652, 0.0544, 0.0258, 0.0459, 0.0503, 0.0474, 0.011 ,\n",
       "       0.0491, 0.0392, 0.0114, 0.0025, 0.0747, 0.0204, 0.0045, 0.0308,\n",
       "       0.0284, 0.0784, 0.0747, 0.0463, 0.079 , 0.0787, 0.0688, 0.0129,\n",
       "       0.    ])"
      ]
     },
     "execution_count": 15,
     "metadata": {},
     "output_type": "execute_result"
    }
   ],
   "source": [
    "P"
   ]
  },
  {
   "cell_type": "code",
   "execution_count": 16,
   "id": "a781e036",
   "metadata": {},
   "outputs": [
    {
     "name": "stdout",
     "output_type": "stream",
     "text": [
      "0.9998\n"
     ]
    }
   ],
   "source": [
    "print(np.sum(P))  # should be 1.0"
   ]
  },
  {
   "cell_type": "code",
   "execution_count": 17,
   "id": "b826614d",
   "metadata": {},
   "outputs": [
    {
     "data": {
      "image/png": "[encoded data removed]",
      "text/plain": [
       "<Figure size 600x400 with 2 Axes>"
      ]
     },
     "metadata": {},
     "output_type": "display_data"
    }
   ],
   "source": [
    "# heatmap representation of the arrival probabilities\n",
    "plt.figure(figsize=(6, 4))\n",
    "sns.heatmap(P.reshape(n, n), annot=True, cmap='Blues', square=True, linewidths=0.5)  \n",
    "plt.title('Arrival Probabilities')\n",
    "plt.xticks(ticks=np.arange(n) + 0.5, labels=np.arange(n))\n",
    "plt.yticks(ticks=np.arange(n) + 0.5, labels=np.arange(n))\n",
    "plt.grid(False)\n",
    "plt.show()"
   ]
  },
  {
   "cell_type": "markdown",
   "id": "1374fd07",
   "metadata": {},
   "source": [
    "#### Conditional Probability Values for High and Low Priority Patients"
   ]
  },
  {
   "cell_type": "code",
   "execution_count": 18,
   "id": "bdda6c71",
   "metadata": {},
   "outputs": [],
   "source": [
    "def assign_probabilities(size: int, low_range=(0.35, 0.60),  high_range=(0.50, 0.75)):\n",
    "    \n",
    "    probs = np.zeros((size, size), dtype=float)\n",
    "    max_idx = size - 1\n",
    "\n",
    "    for r in range(size):\n",
    "        for c in range(size):\n",
    "            # Skip the two corner cells – they stay at 0.\n",
    "            if (r == 0 and c == 0) or (r == max_idx and c == max_idx):\n",
    "                continue\n",
    "            \n",
    "            d_ul = r + c                          # distance to (0, 0)\n",
    "            d_lr = (max_idx - r) + (max_idx - c)  # distance to (max_idx, max_idx)\n",
    "\n",
    "            if d_ul < d_lr:                       # closer to upper-left\n",
    "                probs[r, c] = random.uniform(*high_range)\n",
    "            else:                                 # closer to lower-right\n",
    "                probs[r, c] = random.uniform(*low_range)\n",
    "    return probs\n"
   ]
  },
  {
   "cell_type": "code",
   "execution_count": 19,
   "id": "afe88afc",
   "metadata": {},
   "outputs": [],
   "source": [
    "P_low = assign_probabilities(n)  # deterministic run\n",
    "P_high = np.zeros(n**2)\n",
    "P_high = 1 - P_low\n",
    "P_high[0, 0] = 0.0  # hospital at (0, 0) has no probability\n",
    "P_high[-1, -1] = 0.0  # hospital at (n"
   ]
  },
  {
   "cell_type": "code",
   "execution_count": 20,
   "id": "10aef0e3",
   "metadata": {},
   "outputs": [
    {
     "data": {
      "image/png": "[encoded data removed]",
      "text/plain": [
       "<Figure size 900x400 with 4 Axes>"
      ]
     },
     "metadata": {},
     "output_type": "display_data"
    }
   ],
   "source": [
    "# show P_low and P_high heatmaps side by side\n",
    "fig, axes = plt.subplots(1, 2, figsize=(9, 4))\n",
    "sns.heatmap(P_low.reshape(n, n),  annot=True, fmt=\".2f\", ax=axes[0], cmap=\"YlGnBu\")\n",
    "axes[0].set_title(\"P_low\")  \n",
    "sns.heatmap(P_high.reshape(n, n), annot=True, fmt=\".2f\", ax=axes[1], cmap=\"YlGnBu\")\n",
    "axes[1].set_title(\"P_high\")\n",
    "plt.tight_layout()\n",
    "plt.show()"
   ]
  },
  {
   "cell_type": "code",
   "execution_count": 21,
   "id": "6db07c0c",
   "metadata": {},
   "outputs": [],
   "source": [
    "# combine P_low and P_high into two-dimensional array\n",
    "P_pri_combined = np.zeros((2, n**2))\n",
    "# assign P_low to first row and P_high to second row\n",
    "P_pri_combined[0, :] = P_low.flatten()\n",
    "P_pri_combined[1, :] = P_high.flatten()"
   ]
  },
  {
   "cell_type": "markdown",
   "id": "f778df9b",
   "metadata": {},
   "source": [
    "### Actions"
   ]
  },
  {
   "cell_type": "code",
   "execution_count": 22,
   "id": "451fb0a6",
   "metadata": {},
   "outputs": [],
   "source": [
    "def actions(s,i,j):\n",
    "    if s[0]==0 and s[1]==0:\n",
    "        return [0,1]\n",
    "    elif s[0]==0 and s[1]>0:\n",
    "        if i!=s[1]:\n",
    "            return [0]\n",
    "        else:\n",
    "            return None\n",
    "    elif s[0]>0 and s[1]==0:\n",
    "        if i!=s[0]:\n",
    "            return [1]\n",
    "        else:\n",
    "            return None\n",
    "    else:\n",
    "        return None"
   ]
  },
  {
   "cell_type": "markdown",
   "id": "0a681654",
   "metadata": {},
   "source": [
    "### Alternative Policies"
   ]
  },
  {
   "cell_type": "code",
   "execution_count": 23,
   "id": "61f586c0",
   "metadata": {},
   "outputs": [],
   "source": [
    "def only_zero(s,i,j):\n",
    "    alternative_actions = actions(s,i,j)\n",
    "    if alternative_actions == [0,1]:\n",
    "        return [0]\n",
    "    else:\n",
    "        return alternative_actions\n",
    "\n",
    "def only_one(s,i,j):\n",
    "    alternative_actions = actions(s,i,j)\n",
    "    if alternative_actions == [0,1]:\n",
    "        return [1]\n",
    "    else:\n",
    "        return alternative_actions\n",
    "    \n",
    "def random_select(s,i,j):\n",
    "    np.random.seed(i)\n",
    "    alternative_actions = actions(s,i,j)\n",
    "    if alternative_actions == [0,1]:\n",
    "        return [int(np.random.choice([0,1]))]\n",
    "    else:\n",
    "        return alternative_actions\n",
    "    \n",
    "def closest(s,i,j):\n",
    "    alternative_actions = actions(s,i,j)\n",
    "    if alternative_actions == [0,1]:\n",
    "        dist_to_0 = grid_helper.manhattan_distance(i,0)\n",
    "        dist_to_1 = grid_helper.manhattan_distance(i,n**2-1)\n",
    "        if dist_to_0<dist_to_1:\n",
    "            return [0]\n",
    "        else:\n",
    "            return [1]\n",
    "    else:\n",
    "        return alternative_actions"
   ]
  },
  {
   "cell_type": "markdown",
   "id": "ad1e9a87",
   "metadata": {
    "id": "ad1e9a87"
   },
   "source": [
    "### Event Rates"
   ]
  },
  {
   "cell_type": "code",
   "execution_count": 24,
   "id": "93119305",
   "metadata": {},
   "outputs": [
    {
     "data": {
      "text/plain": [
       "array([[ 0.        ,  0.        ],\n",
       "       [10.85402086,  2.03904708],\n",
       "       [ 8.53571385,  2.57121793],\n",
       "       [ 4.8113318 ,  2.8591827 ],\n",
       "       [ 3.77375027,  4.19594072],\n",
       "       [13.94119035,  2.2304952 ],\n",
       "       [ 9.56321975,  2.64499465],\n",
       "       [ 4.41660499,  2.88315982],\n",
       "       [ 3.71878623,  4.01197665],\n",
       "       [ 3.17575509,  5.30467834],\n",
       "       [ 6.2642083 ,  2.59210134],\n",
       "       [ 4.95560687,  2.84178745],\n",
       "       [ 3.93805384,  4.26171769],\n",
       "       [ 3.12096688,  5.31039357],\n",
       "       [ 2.3637079 ,  6.78035985],\n",
       "       [ 4.70205245,  2.85026154],\n",
       "       [ 3.81816511,  3.88019872],\n",
       "       [ 2.92136169,  5.0121933 ],\n",
       "       [ 2.73771295,  6.3870175 ],\n",
       "       [ 2.07341394, 16.65679956],\n",
       "       [ 3.75135471,  3.52544514],\n",
       "       [ 3.0718001 ,  4.31689419],\n",
       "       [ 2.54485469,  7.84811249],\n",
       "       [ 2.06437534, 16.60677374],\n",
       "       [ 0.        ,  0.        ]])"
      ]
     },
     "execution_count": 24,
     "metadata": {},
     "output_type": "execute_result"
    }
   ],
   "source": [
    "# probability of the service less than 10 minutes\n",
    "inversed_expected_service_time = np.empty_like(expected_service_time)\n",
    "for i in range(expected_service_time.shape[0]):\n",
    "    for j in range(expected_service_time.shape[1]):\n",
    "        if expected_service_time[i, j] > 0:\n",
    "            inversed_expected_service_time[i, j] = 1/expected_service_time[i, j]\n",
    "        else:\n",
    "            inversed_expected_service_time[i, j] = 0  # or np.nan \n",
    "inversed_expected_service_time"
   ]
  },
  {
   "cell_type": "code",
   "execution_count": 25,
   "id": "21b83360",
   "metadata": {
    "id": "21b83360",
    "outputId": "7041b9cb-eae1-494e-f2a5-27d9cfef3637"
   },
   "outputs": [
    {
     "name": "stdout",
     "output_type": "stream",
     "text": [
      "Maximum service time for ambulance 0: 13.941190346445088\n",
      "Maximum service time for ambulance 1: 16.656799556970213\n"
     ]
    }
   ],
   "source": [
    "mu_max_0 = np.max(inversed_expected_service_time[:,0])\n",
    "mu_max_1 = np.max(inversed_expected_service_time[:,1])\n",
    "\n",
    "print(\"Maximum service time for ambulance 0:\", mu_max_0)\n",
    "print(\"Maximum service time for ambulance 1:\", mu_max_1)"
   ]
  },
  {
   "cell_type": "code",
   "execution_count": 26,
   "id": "f0065397",
   "metadata": {
    "id": "f0065397",
    "outputId": "110acd5e-21bf-46fe-e276-17b9b021722d"
   },
   "outputs": [
    {
     "data": {
      "text/plain": [
       "35.597989903415304"
      ]
     },
     "execution_count": 26,
     "metadata": {},
     "output_type": "execute_result"
    }
   ],
   "source": [
    "# this is needed for the normalization procedure. Here normalization is a process of transforming a continuous \n",
    "# Markov Decision Process (MDP) into a discrete one by scaling transition probabilities.\n",
    "gamma = arr_rate + (mu_max_0 + mu_max_1)\n",
    "gamma"
   ]
  },
  {
   "cell_type": "markdown",
   "id": "be6ff98a",
   "metadata": {
    "id": "be6ff98a"
   },
   "source": [
    "## Transitions"
   ]
  },
  {
   "cell_type": "code",
   "execution_count": 27,
   "id": "6ac9998a",
   "metadata": {},
   "outputs": [],
   "source": [
    "def transitions_service_completion(s):\n",
    "    grid_size = n\n",
    "    state_info = defaultdict(lambda: {\"reward\": 0.0, \"prob\": 0.0})\n",
    "\n",
    "    # --- 1. Service completions ------------------------------------------\n",
    "    for p_idx, provider_cell in enumerate((0, 1)): # to understand these, you need to remember the state representation which is a\n",
    "        # tuple of two indices representing the ambulances' positions or 0 if the ambulance is idle. Also we have two ambulances which are\n",
    "        # represented by indices 0 and 1.\n",
    "        job = s[p_idx]\n",
    "        if job != 0:\n",
    "            rate   = inversed_expected_service_time[job, provider_cell]\n",
    "            prob   = rate / gamma\n",
    "            s_next = list(s)                # copy current state\n",
    "            s_next[p_idx] = 0               # provider becomes idle\n",
    "            state_info[tuple(s_next)][\"reward\"] += 0.0\n",
    "            state_info[tuple(s_next)][\"prob\"]   += prob\n",
    "            \n",
    "    return state_info"
   ]
  },
  {
   "cell_type": "code",
   "execution_count": 28,
   "id": "852cf72e",
   "metadata": {},
   "outputs": [],
   "source": [
    "def transitions_busy(s,state_info):\n",
    "    \n",
    "    grid_size = n\n",
    "\n",
    "    # --- 2. Customer arrival ---------------------------------------------\n",
    "    prob_arr = arr_rate / gamma\n",
    "    for i in range(grid_size**2):\n",
    "        for j in range(2): # this is for two priorities (low(0) and high(1))\n",
    "            if P[i] == 0:               # skip provider cells\n",
    "                continue\n",
    "            s_next = s             # state unchanged\n",
    "            state_info[s_next][\"reward\"] += 0.0\n",
    "            state_info[s_next][\"prob\"]   += prob_arr * P[i] * P_pri_combined[j, i]\n",
    "\n",
    "    return state_info"
   ]
  },
  {
   "cell_type": "code",
   "execution_count": null,
   "id": "0dfda825",
   "metadata": {},
   "outputs": [],
   "source": [
    "def transitions_available(s,i,j,V,state_info,actions):\n",
    "    grid_size = n\n",
    "    prob_arr = arr_rate / gamma\n",
    "\n",
    "    available_actions = actions(s,i,j)\n",
    "    prob_arr = arr_rate / gamma\n",
    "\n",
    "    event_probability = prob_arr * P[i] * P_pri_combined[j, i]\n",
    "\n",
    "    best_action_value = -np.inf\n",
    "    best_action = None\n",
    "\n",
    "    if available_actions == None:\n",
    "        state_info[tuple(s)][\"prob\"]   += event_probability\n",
    "        return state_info, None\n",
    "    \n",
    "    for a in available_actions:\n",
    "        s_next = list(s)\n",
    "        s_next[a] = i\n",
    "\n",
    "        val = coverage_reward[i,a,j] + event_probability*V[state2idx[tuple(s_next)]]\n",
    "        if val>best_action_value:\n",
    "            best_action_value = val\n",
    "            best_action = a\n",
    "\n",
    "    s_next = list(s)\n",
    "    s_next[best_action] = i\n",
    "\n",
    "    state_info[tuple(s_next)][\"reward\"] += coverage_reward[i, best_action, j]\n",
    "    state_info[tuple(s_next)][\"prob\"]   += prob_arr * P[i] * P_pri_combined[j, i]\n",
    "\n",
    "    return state_info, best_action"
   ]
  },
  {
   "cell_type": "code",
   "execution_count": 30,
   "id": "7f70cc61",
   "metadata": {},
   "outputs": [],
   "source": [
    "def transition_remaining(s, state_info):\n",
    "    total_prob = sum(s[\"prob\"] for s in state_info.values())\n",
    "\n",
    "    residual_prob = 1.0 - total_prob\n",
    "\n",
    "    state_info[s][\"reward\"] += 0.0\n",
    "    state_info[s][\"prob\"] += residual_prob\n",
    "\n",
    "    return state_info"
   ]
  },
  {
   "cell_type": "markdown",
   "id": "fnzHqj8rZtsN",
   "metadata": {
    "id": "fnzHqj8rZtsN"
   },
   "source": [
    "## Relative Value Iteration"
   ]
  },
  {
   "cell_type": "code",
   "execution_count": 31,
   "id": "3efb8561",
   "metadata": {
    "id": "3efb8561"
   },
   "outputs": [],
   "source": [
    "def rvi(eps=1e-12, max_iter=10000, benchmark = None):\n",
    "    V = np.zeros(len(states))\n",
    "    # best action value for each state\n",
    "    \n",
    "    g = 0.0                             # bias estimate\n",
    "    ref = 0                            # choose arbitrary reference state. ! this was changed\n",
    "    \n",
    "    actions_ = actions\n",
    "    if benchmark:\n",
    "        actions_ = benchmark\n",
    "\n",
    "    optimal_policy = np.zeros((2,n**2))\n",
    "    optimal_policy[0] = -1\n",
    "    optimal_policy[-1] = -1\n",
    "    for it in range(max_iter):\n",
    "        V_new = np.empty_like(V) # this will create a new array with the same shape and dtype as V but its contents are uninitialized\n",
    "        g_num = 0.0\n",
    "        V_old = np.copy(V_new)\n",
    "\n",
    "        for k, s in enumerate(states):\n",
    "            \n",
    "            state_info = transitions_service_completion(s)\n",
    "\n",
    "            if s[0]>0 and s[1]>0:\n",
    "                state_info = transitions_busy(s,state_info=state_info)\n",
    "            \n",
    "            else:\n",
    "                for i in range(n**2):\n",
    "                    if P[i] == 0:               # skip provider cells\n",
    "                        continue\n",
    "                    for j in range(2):\n",
    "                        state_info,best_action = transitions_available(s,i,j,V,state_info,actions_)\n",
    "                        if s == (0,0):\n",
    "                            optimal_policy[j,i] = best_action\n",
    "\n",
    "            state_info = transition_remaining(s, state_info)\n",
    "\n",
    "            q = 0\n",
    "            for ns, p, r in [(ns, info[\"prob\"], info[\"reward\"]) for ns, info in state_info.items()]:\n",
    "                q += p * (r + V[state2idx[ns]])\n",
    "              \n",
    "            V_new[k] = q\n",
    "\n",
    "        #g_new = g_num / len(states)      # average over states\n",
    "        g_new = V_new[ref]-V_old[ref]\n",
    "        #g_new= min(V_new)    \n",
    "        V_new -= V_new[ref]             # anchor\n",
    "        #V_new -= min(V_new)              # here we are choosing the state with minimum value as the reference one.\n",
    "        \n",
    "        if it % 100 == 0:\n",
    "            print(f\"Iteration {it}, g = {g:.4f}, max |V_new - V| = {np.max(np.abs(V_new - V)):.10f}\")\n",
    "            \n",
    "        if np.max(np.abs(V_new - V)) < eps:\n",
    "            return g_new, V_new, optimal_policy\n",
    "\n",
    "        V, g = V_new, g_new\n",
    "\n",
    "    raise RuntimeError(\"RVI failed to converge\")"
   ]
  },
  {
   "cell_type": "code",
   "execution_count": 32,
   "id": "46f94722",
   "metadata": {},
   "outputs": [
    {
     "name": "stdout",
     "output_type": "stream",
     "text": [
      "Iteration 0, g = 0.0000, max |V_new - V| = 0.0647042689\n",
      "Iteration 100, g = 0.0619, max |V_new - V| = 0.0000987597\n",
      "Iteration 200, g = 0.0620, max |V_new - V| = 0.0000002880\n",
      "Iteration 300, g = 0.0620, max |V_new - V| = 0.0000000008\n",
      "Iteration 400, g = 0.0620, max |V_new - V| = 0.0000000000\n"
     ]
    },
    {
     "data": {
      "image/png": "[encoded data removed]",
      "text/plain": [
       "<Figure size 600x300 with 2 Axes>"
      ]
     },
     "metadata": {},
     "output_type": "display_data"
    }
   ],
   "source": [
    "# Optimal\n",
    "final_average_reward_optimal, V, optimal_policy = rvi()\n",
    "\n",
    "# visualize best_action_grid_pri_0 and best_action_grid_pri_1 on a heatmap and plot them side by side\n",
    "fig, axes = plt.subplots(1, 2, figsize=(6, 3))\n",
    "sns.heatmap(optimal_policy[0].reshape(5,5), annot=True, fmt=\".0f\", ax=axes[0], cmap=\"YlGnBu\", cbar=False, square=True)\n",
    "axes[0].set_title(\"Optimal Actions for Priority 0 Patients\")  \n",
    "sns.heatmap(optimal_policy[1].reshape(5,5), annot=True, fmt=\".0f\", ax=axes[1], cmap=\"YlGnBu\", cbar=False, square=True)\n",
    "axes[1].set_title(\"Optimal Actions for Priority 1 Patients\")\n",
    "plt.tight_layout()\n",
    "plt.show()  "
   ]
  },
  {
   "cell_type": "code",
   "execution_count": 33,
   "id": "95699ce7",
   "metadata": {},
   "outputs": [
    {
     "name": "stdout",
     "output_type": "stream",
     "text": [
      "Iteration 0, g = 0.0000, max |V_new - V| = 0.0647042689\n",
      "Iteration 100, g = 0.0617, max |V_new - V| = 0.0000972413\n",
      "Iteration 200, g = 0.0618, max |V_new - V| = 0.0000002852\n",
      "Iteration 300, g = 0.0618, max |V_new - V| = 0.0000000008\n",
      "Iteration 400, g = 0.0618, max |V_new - V| = 0.0000000000\n"
     ]
    },
    {
     "data": {
      "image/png": "[encoded data removed]",
      "text/plain": [
       "<Figure size 600x300 with 2 Axes>"
      ]
     },
     "metadata": {},
     "output_type": "display_data"
    }
   ],
   "source": [
    "# Closest\n",
    "final_average_reward_closest, V, closest_policy = rvi(benchmark=closest)\n",
    "\n",
    "fig, axes = plt.subplots(1, 2, figsize=(6, 3))\n",
    "sns.heatmap(closest_policy[0].reshape(5,5), annot=True, fmt=\".0f\", ax=axes[0], cmap=\"YlGnBu\", cbar=False, square=True)\n",
    "axes[0].set_title(\"Closest Actions for Priority 0 Patients\")  \n",
    "sns.heatmap(closest_policy[1].reshape(5,5), annot=True, fmt=\".0f\", ax=axes[1], cmap=\"YlGnBu\", cbar=False, square=True)\n",
    "axes[1].set_title(\"Closests Actions for Priority 1 Patients\")\n",
    "plt.tight_layout()\n",
    "plt.show()  "
   ]
  },
  {
   "cell_type": "code",
   "execution_count": 34,
   "id": "11dd37a4",
   "metadata": {},
   "outputs": [
    {
     "name": "stdout",
     "output_type": "stream",
     "text": [
      "Iteration 0, g = 0.0000, max |V_new - V| = 0.0647042689\n",
      "Iteration 100, g = 0.0527, max |V_new - V| = 0.0000413563\n",
      "Iteration 200, g = 0.0527, max |V_new - V| = 0.0000000885\n",
      "Iteration 300, g = 0.0527, max |V_new - V| = 0.0000000002\n"
     ]
    },
    {
     "data": {
      "image/png": "[encoded data removed]",
      "text/plain": [
       "<Figure size 600x300 with 2 Axes>"
      ]
     },
     "metadata": {},
     "output_type": "display_data"
    }
   ],
   "source": [
    "# Random\n",
    "final_average_reward_random, V, random_policy = rvi(benchmark=random_select)\n",
    "\n",
    "fig, axes = plt.subplots(1, 2, figsize=(6, 3))\n",
    "sns.heatmap(random_policy[0].reshape(5,5), annot=True, fmt=\".0f\", ax=axes[0], cmap=\"YlGnBu\", cbar=False, square=True)\n",
    "axes[0].set_title(\"Random Actions for Priority 0 Patients\")  \n",
    "sns.heatmap(random_policy[1].reshape(5,5), annot=True, fmt=\".0f\", ax=axes[1], cmap=\"YlGnBu\", cbar=False, square=True)\n",
    "axes[1].set_title(\"Random Actions for Priority 1 Patients\")\n",
    "plt.tight_layout()\n",
    "plt.show()  "
   ]
  },
  {
   "cell_type": "code",
   "execution_count": 35,
   "id": "656ad96c",
   "metadata": {},
   "outputs": [
    {
     "name": "stdout",
     "output_type": "stream",
     "text": [
      "Iteration 0, g = 0.0000, max |V_new - V| = 0.0647042689\n",
      "Iteration 100, g = 0.0513, max |V_new - V| = 0.0000378178\n",
      "Iteration 200, g = 0.0514, max |V_new - V| = 0.0000000836\n",
      "Iteration 300, g = 0.0514, max |V_new - V| = 0.0000000002\n"
     ]
    },
    {
     "data": {
      "image/png": "[encoded data removed]",
      "text/plain": [
       "<Figure size 600x300 with 2 Axes>"
      ]
     },
     "metadata": {},
     "output_type": "display_data"
    }
   ],
   "source": [
    "# Only Zero\n",
    "final_average_reward_only_zero, V, only_zero_policy = rvi(benchmark=only_zero)\n",
    "\n",
    "fig, axes = plt.subplots(1, 2, figsize=(6, 3))\n",
    "sns.heatmap(only_zero_policy[0].reshape(5,5), annot=True, fmt=\".0f\", ax=axes[0], cmap=\"YlGnBu\", cbar=False, square=True)\n",
    "axes[0].set_title(\"Only Zero Actions for Priority 0 Patients\")  \n",
    "sns.heatmap(only_zero_policy[1].reshape(5,5), annot=True, fmt=\".0f\", ax=axes[1], cmap=\"YlGnBu\", cbar=False, square=True)\n",
    "axes[1].set_title(\"Only Zero Actions for Priority 1 Patients\")\n",
    "plt.tight_layout()\n",
    "plt.show()  "
   ]
  },
  {
   "cell_type": "code",
   "execution_count": 36,
   "id": "c824e563",
   "metadata": {},
   "outputs": [
    {
     "name": "stdout",
     "output_type": "stream",
     "text": [
      "Iteration 0, g = 0.0000, max |V_new - V| = 0.0647042689\n",
      "Iteration 100, g = 0.0514, max |V_new - V| = 0.0000377826\n",
      "Iteration 200, g = 0.0515, max |V_new - V| = 0.0000000819\n",
      "Iteration 300, g = 0.0515, max |V_new - V| = 0.0000000002\n"
     ]
    },
    {
     "data": {
      "image/png": "[encoded data removed]",
      "text/plain": [
       "<Figure size 600x300 with 2 Axes>"
      ]
     },
     "metadata": {},
     "output_type": "display_data"
    }
   ],
   "source": [
    "# Only One\n",
    "final_average_reward_only_one, V, only_one_policy = rvi(benchmark=only_one)\n",
    "\n",
    "fig, axes = plt.subplots(1, 2, figsize=(6, 3))\n",
    "sns.heatmap(only_one_policy[0].reshape(5,5), annot=True, fmt=\".0f\", ax=axes[0], cmap=\"YlGnBu\", cbar=False, square=True)\n",
    "axes[0].set_title(\"Only One Actions for Priority 0 Patients\")  \n",
    "sns.heatmap(only_one_policy[1].reshape(5,5), annot=True, fmt=\".0f\", ax=axes[1], cmap=\"YlGnBu\", cbar=False, square=True)\n",
    "axes[1].set_title(\"Only One Actions for Priority 1 Patients\")\n",
    "plt.tight_layout()\n",
    "plt.show()  "
   ]
  },
  {
   "cell_type": "markdown",
   "id": "da05fe8b",
   "metadata": {},
   "source": [
    "### Comparison of Rewards"
   ]
  },
  {
   "cell_type": "code",
   "execution_count": 37,
   "id": "af7a7e9b",
   "metadata": {},
   "outputs": [
    {
     "name": "stdout",
     "output_type": "stream",
     "text": [
      "Optimal Average Reward:  0.06201370056999876\n",
      "Closest Policy Average Reward:  0.061812399050036965\n",
      "Random Policy Average Reward:  0.05274291965102147\n",
      "Only One Policy Average Reward:  0.05147979786207645\n",
      "Only Zero Policy Average Reward:  0.05135988844351159\n"
     ]
    }
   ],
   "source": [
    "print('Optimal Average Reward: ', final_average_reward_optimal)\n",
    "print('Closest Policy Average Reward: ', final_average_reward_closest)\n",
    "print('Random Policy Average Reward: ', final_average_reward_random)\n",
    "print('Only One Policy Average Reward: ', final_average_reward_only_one)\n",
    "print('Only Zero Policy Average Reward: ', final_average_reward_only_zero)"
   ]
  }
 ],
 "metadata": {
  "colab": {
   "provenance": []
  },
  "kernelspec": {
   "display_name": "ml_environment",
   "language": "python",
   "name": "python3"
  },
  "language_info": {
   "codemirror_mode": {
    "name": "ipython",
    "version": 3
   },
   "file_extension": ".py",
   "mimetype": "text/x-python",
   "name": "python",
   "nbconvert_exporter": "python",
   "pygments_lexer": "ipython3",
   "version": "3.8.19"
  }
 },
 "nbformat": 4,
 "nbformat_minor": 5
}

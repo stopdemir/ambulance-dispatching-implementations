{
 "cells": [
  {
   "cell_type": "markdown",
   "id": "6f72d89e",
   "metadata": {},
   "source": [
    "# Ambulance Dispatching Mathematical Modeling"
   ]
  },
  {
   "cell_type": "code",
   "execution_count": null,
   "id": "1d0b69dc",
   "metadata": {},
   "outputs": [],
   "source": [
    "import pandas as pd\n",
    "import numpy as np"
   ]
  }
 ],
 "metadata": {
  "kernelspec": {
   "display_name": "gurobi-intensive",
   "language": "python",
   "name": "python3"
  },
  "language_info": {
   "name": "python",
   "version": "3.8.20"
  }
 },
 "nbformat": 4,
 "nbformat_minor": 5
}

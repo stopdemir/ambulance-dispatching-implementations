{
 "cells": [
  {
   "cell_type": "markdown",
   "id": "7a9e1ca9",
   "metadata": {},
   "source": [
    "# Ambulance Dispatching Simulation"
   ]
  },
  {
   "cell_type": "markdown",
   "id": "7f8821a0",
   "metadata": {},
   "source": [
    "Lorem Ipsum Lorem Ipsum Lorem Ipsum Lorem Ipsum Lorem Ipsum Lorem Ipsum Lorem Ipsum Lorem Ipsum Lorem Ipsum Lorem Ipsum Lorem Ipsum Lorem Ipsum Lorem Ipsum Lorem Ipsum Lorem Ipsum Lorem Ipsum Lorem Ipsum Lorem Ipsum "
   ]
  },
  {
   "cell_type": "markdown",
   "id": "08bc198a",
   "metadata": {},
   "source": [
    "## Importing Libraries and Classes"
   ]
  },
  {
   "cell_type": "code",
   "execution_count": 1,
   "id": "87a24f59",
   "metadata": {},
   "outputs": [],
   "source": [
    "from Simulation import Simulation"
   ]
  },
  {
   "cell_type": "code",
   "execution_count": 2,
   "id": "c117d873",
   "metadata": {},
   "outputs": [],
   "source": [
    "from policies import dispatch_closest_ambulance, dispatch_random_ambulance"
   ]
  },
  {
   "cell_type": "markdown",
   "id": "89a9702a",
   "metadata": {},
   "source": [
    "## Parameters"
   ]
  },
  {
   "cell_type": "code",
   "execution_count": 3,
   "id": "75fe46b4",
   "metadata": {},
   "outputs": [],
   "source": [
    "GRID_SIZE = (10, 10)  # Size of the grid world (rows, columns)\n",
    "sim_duration = 1000  # Total simulation time units (e.g., hours)\n",
    "arr_rate = 1.2  # Average patient arrival rate (Poisson parameter)\n",
    "\n",
    "# Ambulance initial positions (row, col)\n",
    "# Ambulance 1: Upper-left, Ambulance 2: Lower-right\n",
    "AMBULANCE_LOCATIONS = [(0,0), (GRID_SIZE[0]-1, GRID_SIZE[1]-1)]\n",
    "NUM_AMBULANCES = len(AMBULANCE_LOCATIONS)\n",
    "\n",
    "# Cells where patients cannot request service (ambulance home stations)\n",
    "NO_SERVICE_CELLS = AMBULANCE_LOCATIONS"
   ]
  },
  {
   "cell_type": "code",
   "execution_count": 4,
   "id": "ad735abe",
   "metadata": {},
   "outputs": [],
   "source": [
    "# --- Run the Simulations and Compare ---\n",
    "def run_and_compare_policies(policies_with_names):\n",
    "    all_results = []\n",
    "    for policy_func, policy_name in policies_with_names:\n",
    "        print(f\"Running simulation with {policy_name}...\")\n",
    "        sim = Simulation(\n",
    "            grid_size=GRID_SIZE,\n",
    "            ambu_locations=AMBULANCE_LOCATIONS,\n",
    "            arr_rate=arr_rate,\n",
    "            sim_duration=sim_duration,\n",
    "            no_service_cells=NO_SERVICE_CELLS,\n",
    "            dispatch_function=policy_func,\n",
    "            policy_name=policy_name\n",
    "        )\n",
    "        results = sim.run()\n",
    "        all_results.append(results)\n",
    "        print(f\"Finished {policy_name}.\\n\")\n",
    "\n",
    "    print(\"\\n\" + \"=\"*40)\n",
    "    print(\"       COMPARISON OF DISPATCH POLICIES\")\n",
    "    print(\"=\"*40)\n",
    "\n",
    "    for res in all_results:\n",
    "        print(f\"\\n--- Results for: {res['policy_name']} ---\")\n",
    "        print(f\"  Total patients arrived: {res['total_patients_arrived']}\")\n",
    "        print(f\"  patients lost: {res['patients_lost']}\")\n",
    "        print(f\"  patient loss rate: {res['patient_loss_rate']:.4f}\")\n",
    "        print(\"\\n  Ambulance Statistics:\")\n",
    "        for amb_stat in res['ambulance_stats']:\n",
    "            print(f\"    Ambulance {amb_stat['ambulance_id']} (Location: {amb_stat['location']}):\")\n",
    "            print(f\"      Average service time: {amb_stat['average_service_time']:.2f}\")\n",
    "            print(f\"      Utilization: {amb_stat['utilization']:.2f}%\")\n",
    "    print(\"\\n\" + \"=\"*40)"
   ]
  },
  {
   "cell_type": "code",
   "execution_count": 5,
   "id": "287cef9a",
   "metadata": {},
   "outputs": [
    {
     "name": "stdout",
     "output_type": "stream",
     "text": [
      "Running simulation with ClosestAmb...\n",
      "Finished ClosestAmb.\n",
      "\n",
      "Running simulation with RandAmb...\n",
      "Finished RandAmb.\n",
      "\n",
      "\n",
      "========================================\n",
      "       COMPARISON OF DISPATCH POLICIES\n",
      "========================================\n",
      "\n",
      "--- Results for: ClosestAmb ---\n",
      "  Total patients arrived: 1170\n",
      "  patients lost: 993\n",
      "  patient loss rate: 0.8487\n",
      "\n",
      "  Ambulance Statistics:\n",
      "    Ambulance 0 (Location: (0, 0)):\n",
      "      Average service time: 10.30\n",
      "      Utilization: 90.65%\n",
      "    Ambulance 1 (Location: (9, 9)):\n",
      "      Average service time: 10.61\n",
      "      Utilization: 94.41%\n",
      "\n",
      "--- Results for: RandAmb ---\n",
      "  Total patients arrived: 1209\n",
      "  patients lost: 1049\n",
      "  patient loss rate: 0.8677\n",
      "\n",
      "  Ambulance Statistics:\n",
      "    Ambulance 0 (Location: (0, 0)):\n",
      "      Average service time: 11.29\n",
      "      Utilization: 93.67%\n",
      "    Ambulance 1 (Location: (9, 9)):\n",
      "      Average service time: 12.04\n",
      "      Utilization: 92.70%\n",
      "\n",
      "========================================\n"
     ]
    }
   ],
   "source": [
    "if __name__ == \"__main__\":\n",
    "    # Define the policies to compare as (function, name) tuples\n",
    "    policies_to_test = [\n",
    "        (dispatch_closest_ambulance, \"ClosestAmb\"),\n",
    "        (dispatch_random_ambulance, \"RandAmb\")\n",
    "    ]\n",
    "    \n",
    "    run_and_compare_policies(policies_to_test)"
   ]
  }
 ],
 "metadata": {
  "kernelspec": {
   "display_name": "ml_environment",
   "language": "python",
   "name": "python3"
  },
  "language_info": {
   "codemirror_mode": {
    "name": "ipython",
    "version": 3
   },
   "file_extension": ".py",
   "mimetype": "text/x-python",
   "name": "python",
   "nbconvert_exporter": "python",
   "pygments_lexer": "ipython3",
   "version": "3.8.19"
  }
 },
 "nbformat": 4,
 "nbformat_minor": 5
}

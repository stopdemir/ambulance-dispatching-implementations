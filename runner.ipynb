{
 "cells": [
  {
   "cell_type": "markdown",
   "id": "7a9e1ca9",
   "metadata": {},
   "source": [
    "# Ambulance Dispatching Simulation"
   ]
  },
  {
   "cell_type": "markdown",
   "id": "7f8821a0",
   "metadata": {},
   "source": [
    "Lorem Ipsum Lorem Ipsum Lorem Ipsum Lorem Ipsum Lorem Ipsum Lorem Ipsum Lorem Ipsum Lorem Ipsum Lorem Ipsum Lorem Ipsum Lorem Ipsum Lorem Ipsum Lorem Ipsum Lorem Ipsum Lorem Ipsum Lorem Ipsum Lorem Ipsum Lorem Ipsum "
   ]
  },
  {
   "cell_type": "markdown",
   "id": "08bc198a",
   "metadata": {},
   "source": [
    "## Importing Libraries and Classes"
   ]
  },
  {
   "cell_type": "code",
   "execution_count": 3,
   "id": "87a24f59",
   "metadata": {},
   "outputs": [],
   "source": [
    "from Simulation import Simulation"
   ]
  },
  {
   "cell_type": "code",
   "execution_count": 2,
   "id": "c117d873",
   "metadata": {},
   "outputs": [],
   "source": [
    "from policies import dispatch_closest_ambulance, dispatch_random_ambulance"
   ]
  },
  {
   "cell_type": "markdown",
   "id": "89a9702a",
   "metadata": {},
   "source": [
    "## Parameters"
   ]
  },
  {
   "cell_type": "code",
   "execution_count": 4,
   "id": "75fe46b4",
   "metadata": {},
   "outputs": [],
   "source": [
    "GRID_SIZE = (10, 10)  # Size of the grid world (rows, columns)\n",
    "sim_duration = 1000  # Total simulation time units (e.g., hours)\n",
    "arr_rate = 1.2  # Average patient arrival rate (Poisson parameter)\n",
    "\n",
    "# Ambulance initial positions (row, col)\n",
    "# Ambulance 1: Upper-left, Ambulance 2: Lower-right\n",
    "AMBULANCE_LOCATIONS = [(0,0), (GRID_SIZE[0]-1, GRID_SIZE[1]-1)]\n",
    "NUM_AMBULANCES = len(AMBULANCE_LOCATIONS)\n",
    "\n",
    "# Cells where patients cannot request service (ambulance home stations)\n",
    "NO_SERVICE_CELLS = AMBULANCE_LOCATIONS"
   ]
  },
  {
   "cell_type": "code",
   "execution_count": 5,
   "id": "ad735abe",
   "metadata": {},
   "outputs": [],
   "source": [
    "# --- Run the Simulations and Compare ---\n",
    "def run_and_compare_policies(policies_with_names):\n",
    "    all_results = []\n",
    "    for policy_func, policy_name in policies_with_names:\n",
    "        print(f\"Running simulation with {policy_name}...\")\n",
    "        sim = Simulation(\n",
    "            grid_size=GRID_SIZE,\n",
    "            ambulance_locations=AMBULANCE_LOCATIONS,\n",
    "            arr_rate=arr_rate,\n",
    "            sim_duration=sim_duration,\n",
    "            no_service_cells=NO_SERVICE_CELLS,\n",
    "            dispatch_function=policy_func,\n",
    "            policy_name=policy_name\n",
    "        )\n",
    "        results = sim.run()\n",
    "        all_results.append(results)\n",
    "        print(f\"Finished {policy_name}.\\n\")\n",
    "\n",
    "    print(\"\\n\" + \"=\"*40)\n",
    "    print(\"       COMPARISON OF DISPATCH POLICIES\")\n",
    "    print(\"=\"*40)\n",
    "\n",
    "    for res in all_results:\n",
    "        print(f\"\\n--- Results for: {res['policy_name']} ---\")\n",
    "        print(f\"  Total patients arrived: {res['total_patients_arrived']}\")\n",
    "        print(f\"  patients lost: {res['patients_lost']}\")\n",
    "        print(f\"  patient loss rate: {res['patient_loss_rate']:.4f}\")\n",
    "        print(\"\\n  Ambulance Statistics:\")\n",
    "        for amb_stat in res['ambulance_stats']:\n",
    "            print(f\"    Ambulance {amb_stat['ambulance_id']} (Location: {amb_stat['location']}):\")\n",
    "            print(f\"      Average service time: {amb_stat['average_service_time']:.2f}\")\n",
    "            print(f\"      Utilization: {amb_stat['utilization']:.2f}%\")\n",
    "    print(\"\\n\" + \"=\"*40)"
   ]
  },
  {
   "cell_type": "code",
   "execution_count": 6,
   "id": "287cef9a",
   "metadata": {},
   "outputs": [
    {
     "name": "stdout",
     "output_type": "stream",
     "text": [
      "Running simulation with ClosestAmb...\n"
     ]
    },
    {
     "ename": "TypeError",
     "evalue": "__init__() got an unexpected keyword argument 'ambulance_locations'",
     "output_type": "error",
     "traceback": [
      "\u001b[0;31m---------------------------------------------------------------------------\u001b[0m",
      "\u001b[0;31mTypeError\u001b[0m                                 Traceback (most recent call last)",
      "Cell \u001b[0;32mIn[6], line 8\u001b[0m\n\u001b[1;32m      1\u001b[0m \u001b[38;5;28;01mif\u001b[39;00m \u001b[38;5;18m__name__\u001b[39m \u001b[38;5;241m==\u001b[39m \u001b[38;5;124m\"\u001b[39m\u001b[38;5;124m__main__\u001b[39m\u001b[38;5;124m\"\u001b[39m:\n\u001b[1;32m      2\u001b[0m     \u001b[38;5;66;03m# Define the policies to compare as (function, name) tuples\u001b[39;00m\n\u001b[1;32m      3\u001b[0m     policies_to_test \u001b[38;5;241m=\u001b[39m [\n\u001b[1;32m      4\u001b[0m         (dispatch_closest_ambulance, \u001b[38;5;124m\"\u001b[39m\u001b[38;5;124mClosestAmb\u001b[39m\u001b[38;5;124m\"\u001b[39m),\n\u001b[1;32m      5\u001b[0m         (dispatch_random_ambulance, \u001b[38;5;124m\"\u001b[39m\u001b[38;5;124mRandAmb\u001b[39m\u001b[38;5;124m\"\u001b[39m)\n\u001b[1;32m      6\u001b[0m     ]\n\u001b[0;32m----> 8\u001b[0m     \u001b[43mrun_and_compare_policies\u001b[49m\u001b[43m(\u001b[49m\u001b[43mpolicies_to_test\u001b[49m\u001b[43m)\u001b[49m\n",
      "Cell \u001b[0;32mIn[5], line 6\u001b[0m, in \u001b[0;36mrun_and_compare_policies\u001b[0;34m(policies_with_names)\u001b[0m\n\u001b[1;32m      4\u001b[0m \u001b[38;5;28;01mfor\u001b[39;00m policy_func, policy_name \u001b[38;5;129;01min\u001b[39;00m policies_with_names:\n\u001b[1;32m      5\u001b[0m     \u001b[38;5;28mprint\u001b[39m(\u001b[38;5;124mf\u001b[39m\u001b[38;5;124m\"\u001b[39m\u001b[38;5;124mRunning simulation with \u001b[39m\u001b[38;5;132;01m{\u001b[39;00mpolicy_name\u001b[38;5;132;01m}\u001b[39;00m\u001b[38;5;124m...\u001b[39m\u001b[38;5;124m\"\u001b[39m)\n\u001b[0;32m----> 6\u001b[0m     sim \u001b[38;5;241m=\u001b[39m \u001b[43mSimulation\u001b[49m\u001b[43m(\u001b[49m\n\u001b[1;32m      7\u001b[0m \u001b[43m        \u001b[49m\u001b[43mgrid_size\u001b[49m\u001b[38;5;241;43m=\u001b[39;49m\u001b[43mGRID_SIZE\u001b[49m\u001b[43m,\u001b[49m\n\u001b[1;32m      8\u001b[0m \u001b[43m        \u001b[49m\u001b[43mambulance_locations\u001b[49m\u001b[38;5;241;43m=\u001b[39;49m\u001b[43mAMBULANCE_LOCATIONS\u001b[49m\u001b[43m,\u001b[49m\n\u001b[1;32m      9\u001b[0m \u001b[43m        \u001b[49m\u001b[43marr_rate\u001b[49m\u001b[38;5;241;43m=\u001b[39;49m\u001b[43marr_rate\u001b[49m\u001b[43m,\u001b[49m\n\u001b[1;32m     10\u001b[0m \u001b[43m        \u001b[49m\u001b[43msim_duration\u001b[49m\u001b[38;5;241;43m=\u001b[39;49m\u001b[43msim_duration\u001b[49m\u001b[43m,\u001b[49m\n\u001b[1;32m     11\u001b[0m \u001b[43m        \u001b[49m\u001b[43mno_service_cells\u001b[49m\u001b[38;5;241;43m=\u001b[39;49m\u001b[43mNO_SERVICE_CELLS\u001b[49m\u001b[43m,\u001b[49m\n\u001b[1;32m     12\u001b[0m \u001b[43m        \u001b[49m\u001b[43mdispatch_function\u001b[49m\u001b[38;5;241;43m=\u001b[39;49m\u001b[43mpolicy_func\u001b[49m\u001b[43m,\u001b[49m\n\u001b[1;32m     13\u001b[0m \u001b[43m        \u001b[49m\u001b[43mpolicy_name\u001b[49m\u001b[38;5;241;43m=\u001b[39;49m\u001b[43mpolicy_name\u001b[49m\n\u001b[1;32m     14\u001b[0m \u001b[43m    \u001b[49m\u001b[43m)\u001b[49m\n\u001b[1;32m     15\u001b[0m     results \u001b[38;5;241m=\u001b[39m sim\u001b[38;5;241m.\u001b[39mrun()\n\u001b[1;32m     16\u001b[0m     all_results\u001b[38;5;241m.\u001b[39mappend(results)\n",
      "\u001b[0;31mTypeError\u001b[0m: __init__() got an unexpected keyword argument 'ambulance_locations'"
     ]
    }
   ],
   "source": [
    "if __name__ == \"__main__\":\n",
    "    # Define the policies to compare as (function, name) tuples\n",
    "    policies_to_test = [\n",
    "        (dispatch_closest_ambulance, \"ClosestAmb\"),\n",
    "        (dispatch_random_ambulance, \"RandAmb\")\n",
    "    ]\n",
    "    \n",
    "    run_and_compare_policies(policies_to_test)"
   ]
  }
 ],
 "metadata": {
  "kernelspec": {
   "display_name": "ml_environment",
   "language": "python",
   "name": "python3"
  },
  "language_info": {
   "codemirror_mode": {
    "name": "ipython",
    "version": 3
   },
   "file_extension": ".py",
   "mimetype": "text/x-python",
   "name": "python",
   "nbconvert_exporter": "python",
   "pygments_lexer": "ipython3",
   "version": "3.8.19"
  }
 },
 "nbformat": 4,
 "nbformat_minor": 5
}

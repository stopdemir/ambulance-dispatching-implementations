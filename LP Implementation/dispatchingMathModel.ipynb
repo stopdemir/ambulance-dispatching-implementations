{
 "cells": [
  {
   "cell_type": "markdown",
   "id": "6f72d89e",
   "metadata": {},
   "source": [
    "# Ambulance Dispatching Mathematical Modeling Formulation"
   ]
  },
  {
   "cell_type": "markdown",
   "id": "1f8f136c",
   "metadata": {},
   "source": [
    "## Mathematical Model"
   ]
  },
  {
   "cell_type": "markdown",
   "id": "faf0cdb5",
   "metadata": {},
   "source": [
    "Let $CallType$ be the set of customer types $(h,i)$. Define the decision variable $y(s,j,(h,i))$ as the proportion of time the system is in state $s$ and selects action $j$ for customer type $(h,i)$.\n",
    "\n",
    "$\n",
    "\\max_y \\sum_{s \\in S, j \\in X(s,(h,i)), (h,i) \\in CallType} u_{ij}^h y(s,j,(h,i))\n",
    "$\n",
    "\n",
    "Subject to:\n",
    "\n",
    "\n",
    "$\n",
    "    \\sum_{j' \\in X(s',(h',i'))} y(s',j',(h',i')) -  \n",
    "    \\sum_{s \\in S, j \\in X(s,(h,i)), (h,i) \\in CallType} p(s',(h',i') | s,j,(h,i)) y(s,j,(h,i)) = 0, \n",
    "    \\quad \\forall s' \\in S, (h',i') \\in CallType,\n",
    "$\n",
    "\n",
    "$\n",
    "\\sum_{s \\in S, j \\in X(s,(h,i)), (h,i) \\in CallType} y(s,j,(h,i)) = 1,\n",
    "$\n",
    "\n",
    "$\n",
    "y(s,j,(h,i)) \\geq 0, \\quad \\forall s \\in S, (h,i) \\in CallType, j \\in X(s,(h,i))\n",
    "$"
   ]
  },
  {
   "cell_type": "markdown",
   "id": "f1843c2f",
   "metadata": {},
   "source": [
    "## Implementation"
   ]
  },
  {
   "cell_type": "code",
   "execution_count": 8,
   "id": "1d0b69dc",
   "metadata": {},
   "outputs": [],
   "source": [
    "import pandas as pd\n",
    "import numpy as np\n",
    "\n",
    "import gurobipy as gp\n",
    "from gurobipy import GRB, Model, quicksum\n",
    "\n",
    "from collections import defaultdict\n",
    "from itertools import product # this is used to generate all possible states"
   ]
  },
  {
   "cell_type": "markdown",
   "id": "3a433e33",
   "metadata": {},
   "source": [
    "    # S --> iterable of states\n",
    "    # CallType --> iterable of (h, i) tuples\n",
    "    # X --> dict: X[(s,(h,i))] -> iterable of actions j\n",
    "    # u --> dict: u[(h,i,j)] -> reward u_ij^h (float)\n",
    "    # P --> dict: P[((s,j,(h,i)), (s_prime,(h_prime,i_prime)))] -> prob"
   ]
  },
  {
   "cell_type": "markdown",
   "id": "e04681b5",
   "metadata": {},
   "source": [
    "### States"
   ]
  },
  {
   "cell_type": "code",
   "execution_count": 9,
   "id": "166f6788",
   "metadata": {},
   "outputs": [],
   "source": [
    "def stateGenerator(n, m): # n: number of locations, m: number of ambulances\n",
    "    states  = product(range(n + 1), repeat=m)\n",
    "    return list(states)"
   ]
  },
  {
   "cell_type": "markdown",
   "id": "4ece6f7d",
   "metadata": {},
   "source": [
    "### Call Types"
   ]
  },
  {
   "cell_type": "code",
   "execution_count": 10,
   "id": "dad12df7",
   "metadata": {},
   "outputs": [],
   "source": [
    "def callTypeGenerator(n, priorityLevels):\n",
    "    calltypes = product(range(n), range(priorityLevels))\n",
    "    return list(calltypes)"
   ]
  },
  {
   "cell_type": "markdown",
   "id": "10dd4aba",
   "metadata": {},
   "source": [
    "### Actions"
   ]
  },
  {
   "cell_type": "code",
   "execution_count": 11,
   "id": "3be004ef",
   "metadata": {},
   "outputs": [],
   "source": [
    "def actionGenerator(n, m):\n",
    "    states = stateGenerator(n, m)\n",
    "    calls = callTypeGenerator(n, 2)\n",
    "    # dict: X[(s,(h,i))] -> iterable of actions j\n",
    "    X = {}\n",
    "    for s in states:\n",
    "        for (i,h) in calls:\n",
    "            key = (s, (i, h))\n",
    "            X[key] = []\n",
    "            for j in range(m):\n",
    "                if s[j] == 0:\n",
    "                    X[key].append(j)\n",
    "    return X"
   ]
  },
  {
   "cell_type": "markdown",
   "id": "9b640589",
   "metadata": {},
   "source": [
    "in order to test the generator functions "
   ]
  },
  {
   "cell_type": "code",
   "execution_count": 12,
   "id": "edafd4ec",
   "metadata": {},
   "outputs": [],
   "source": [
    "if False:  # Change to True to test the generator functions\n",
    "    XX = actionGenerator(6, 2)  # Example for 6 locations and 2 ambulances\n",
    "    for s in stateGenerator(6, 2):  # Example for 6 locations and 2 ambulances\n",
    "        for ct in callTypeGenerator(6, 2):  # Example for 6 locations and 2 priority levels\n",
    "            key = (s, ct)\n",
    "            for j in XX.get(key, []):\n",
    "                varname = f\"y[{s},{j},{ct}]\"\n",
    "                print(varname)"
   ]
  },
  {
   "cell_type": "markdown",
   "id": "c5daa1ec",
   "metadata": {},
   "source": [
    "### Rewards"
   ]
  },
  {
   "cell_type": "code",
   "execution_count": 13,
   "id": "142bc404",
   "metadata": {},
   "outputs": [],
   "source": [
    "# u = { (h,i,j): u_hij, ... }\n",
    "def rewardGenerator(n,m):\n",
    "    u = {}\n",
    "    for s in stateGenerator(n, m): \n",
    "        for ct in callTypeGenerator(n, m):  # Example for 6 locations and 2 priority levels\n",
    "            key = (s, ct)\n",
    "            for j in actionGenerator(n,m).get(key, []):\n",
    "                i = ct[0]  # i is the first element of the call type tuple\n",
    "                h = ct[1]  # h is the second element of the call type tuple\n",
    "                u[(i,h, j)] = 1.0\n",
    "                #print(\"i: \",i, \"h: \",h, \"j: \", j, \"u: \", u[(i,h,j)])\n",
    "    return u"
   ]
  },
  {
   "cell_type": "markdown",
   "id": "982cdfac",
   "metadata": {},
   "source": [
    "### Transition Probabilities"
   ]
  },
  {
   "cell_type": "code",
   "execution_count": null,
   "id": "c9c6436e",
   "metadata": {},
   "outputs": [],
   "source": [
    "# 3) Transition probs (uniformized)\n",
    "# Map ((s,j,(h,i)), (s_prime,(h_prime,i_prime))) -> p\n",
    "P = { ((s,j,(h,i)), (s2,(h2,i2))) : prob, ... }"
   ]
  },
  {
   "cell_type": "code",
   "execution_count": null,
   "id": "ea8a0061",
   "metadata": {},
   "outputs": [],
   "source": [
    "def build_mdp_lp(S, CallType, X, u, P):\n",
    "    m = Model(\"MDP_OccupancyLP\")\n",
    "    m.Params.OutputFlag = 0  # quiet by default; set to 1 for logs\n",
    "\n",
    "    # Decision variables y[s,j,(i,h)] >= 0 only for feasible (s,(i,h),j)\n",
    "    y = {}\n",
    "    for s in S:\n",
    "        for ct in CallType:\n",
    "            key = (s, ct)\n",
    "            for j in X.get(key, []):\n",
    "                varname = f\"y[{s},{j},{ct}]\"\n",
    "                y[(s, j, ct)] = m.addVar(lb=0.0, name=varname)\n",
    "    m.update()\n",
    "\n",
    "    # Objective: sum u_ij^h * y\n",
    "    m.setObjective(quicksum(u.get((ct[0], ct[1], j), 0.0) * y[(s, j, ct)] for (s, j, ct) in y.keys()), GRB.MAXIMIZE)\n",
    "\n",
    "    inbound = defaultdict(list)  # (s_prime, ct_prime) -> list of ((s,j,ct), prob)\n",
    "    for ((s, j, ct), (sp, ctp)) , prob in P.items():\n",
    "        if prob != 0.0:\n",
    "            inbound[(sp, ctp)].append(((s, j, ct), prob))\n",
    "\n",
    "    for sp in S:\n",
    "        for ctp in CallType:\n",
    "            lhs = quicksum(y[(sp, jp, ctp)] for jp in X.get((sp, ctp), []))\n",
    "            rhs = quicksum(prob * y[(s, j, ct)]\n",
    "                           for ((s, j, ct), prob) in inbound.get((sp, ctp), []))\n",
    "            m.addConstr(lhs - rhs == 0.0, name=f\"flow[{sp},{ctp}]\")\n",
    "\n",
    "    # Normalization: sum y = 1\n",
    "    m.addConstr(quicksum(y[v] for v in y) == 1.0, name=\"normalization\")\n",
    "\n",
    "    m.update()\n",
    "    return m, y"
   ]
  },
  {
   "cell_type": "code",
   "execution_count": 9,
   "id": "76a06846",
   "metadata": {},
   "outputs": [],
   "source": [
    "def extract_policy(y_vars, X):\n",
    "    \"\"\"\n",
    "    Given optimized y and the action sets X, compute a stationary randomized policy:\n",
    "      q(s,(h,i))[j] = y(s,j,(h,i)) / sum_{j' in X(s,(h,i))} y(s,j',(h,i))\n",
    "    Returns dict: policy[(s,(h,i))] -> dict {j: prob}\n",
    "    \"\"\"\n",
    "    # Sum per (s,ct)\n",
    "    denom = defaultdict(float)\n",
    "    for (s, j, ct), var in y_vars.items():\n",
    "        denom[(s, ct)] += var.X\n",
    "\n",
    "    policy = {}\n",
    "    for (s, ct), total in denom.items():\n",
    "        choices = X.get((s, ct), [])\n",
    "        pi = {}\n",
    "        if total > 0:\n",
    "            for j in choices:\n",
    "                y_key = (s, j, ct)\n",
    "                if y_key in y_vars:\n",
    "                    pi[j] = y_vars[y_key].X / total\n",
    "        else:\n",
    "            # unreachable (s,ct): put zero probs\n",
    "            for j in choices:\n",
    "                pi[j] = 0.0\n",
    "        policy[(s, ct)] = pi\n",
    "    return policy"
   ]
  },
  {
   "cell_type": "code",
   "execution_count": null,
   "id": "02a2533a",
   "metadata": {},
   "outputs": [],
   "source": [
    "model, y = build_mdp_lp(S, CallType, X, u, P)\n",
    "model.optimize()"
   ]
  },
  {
   "cell_type": "code",
   "execution_count": null,
   "id": "31b049bc",
   "metadata": {},
   "outputs": [],
   "source": [
    "pi = extract_policy(y, X)"
   ]
  }
 ],
 "metadata": {
  "kernelspec": {
   "display_name": "gurobi-intensive",
   "language": "python",
   "name": "python3"
  },
  "language_info": {
   "codemirror_mode": {
    "name": "ipython",
    "version": 3
   },
   "file_extension": ".py",
   "mimetype": "text/x-python",
   "name": "python",
   "nbconvert_exporter": "python",
   "pygments_lexer": "ipython3",
   "version": "3.8.20"
  }
 },
 "nbformat": 4,
 "nbformat_minor": 5
}
